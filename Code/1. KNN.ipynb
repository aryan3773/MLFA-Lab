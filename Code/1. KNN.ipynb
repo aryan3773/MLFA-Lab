{
 "cells": [
  {
   "cell_type": "markdown",
   "metadata": {
    "id": "6y8zrasK0r2Y"
   },
   "source": [
    "# **TUTORIAL 6**\n",
    "# Distance Based Classification"
   ]
  },
  {
   "cell_type": "markdown",
   "metadata": {
    "id": "eVEW-aBo4gka"
   },
   "source": [
    "In pattern recognition, the k-nearest neighbors algorithm is a non-parametric method used for classification and regression.It belongs to the supervised learning domain.\n",
    "\n",
    "We will understand it with a practice example, Steps we are going to follow are :\n",
    "\n",
    "1) Import important libraries\n",
    "\n",
    "2) Importing Data\n",
    "\n",
    "3) Encoding\n",
    "\n",
    "4)Training and Test Data\n",
    "\n",
    "5) Visualization of Data\n",
    "\n",
    "6) Nearest Neighbour Classifier\n",
    "\n",
    "7) k Nearest Neighbour\n",
    "\n",
    "8) Nearest Mean Classifier\n",
    "\n",
    "9) Compare Results\n",
    "\n",
    "10) sklearn Library\n",
    "\n",
    "---\n",
    "\n",
    "\n",
    "\n",
    "---\n",
    "\n"
   ]
  },
  {
   "cell_type": "markdown",
   "metadata": {
    "id": "uHdX_UCj8QVO"
   },
   "source": [
    "**1) Importing important libraries**"
   ]
  },
  {
   "cell_type": "code",
   "execution_count": 333,
   "metadata": {
    "id": "Ca48WZPe853i"
   },
   "outputs": [],
   "source": [
    "import pandas as pd\n",
    "import matplotlib.pyplot as plt\n",
    "import numpy as np\n",
    "from sklearn.datasets import load_iris\n",
    "import json"
   ]
  },
  {
   "cell_type": "markdown",
   "metadata": {
    "id": "Q3ajjX6OI8HC"
   },
   "source": [
    "**2) Importing Data**\n",
    "\n",
    "We will be working on the Iris dataset today."
   ]
  },
  {
   "cell_type": "code",
   "execution_count": 334,
   "metadata": {
    "id": "JVB0atL7Io6K"
   },
   "outputs": [],
   "source": [
    "data = load_iris()\n",
    "df = pd.DataFrame(data.data, columns=data.feature_names)\n",
    "df['Species']=data.target"
   ]
  },
  {
   "cell_type": "code",
   "execution_count": 335,
   "metadata": {
    "colab": {
     "base_uri": "https://localhost:8080/",
     "height": 195
    },
    "id": "XMn096JBRGm2",
    "outputId": "d5203652-53f1-4b56-ee0e-8bd63e93a496"
   },
   "outputs": [
    {
     "data": {
      "text/html": [
       "<div>\n",
       "<style scoped>\n",
       "    .dataframe tbody tr th:only-of-type {\n",
       "        vertical-align: middle;\n",
       "    }\n",
       "\n",
       "    .dataframe tbody tr th {\n",
       "        vertical-align: top;\n",
       "    }\n",
       "\n",
       "    .dataframe thead th {\n",
       "        text-align: right;\n",
       "    }\n",
       "</style>\n",
       "<table border=\"1\" class=\"dataframe\">\n",
       "  <thead>\n",
       "    <tr style=\"text-align: right;\">\n",
       "      <th></th>\n",
       "      <th>sepal length (cm)</th>\n",
       "      <th>sepal width (cm)</th>\n",
       "      <th>petal length (cm)</th>\n",
       "      <th>petal width (cm)</th>\n",
       "      <th>Species</th>\n",
       "    </tr>\n",
       "  </thead>\n",
       "  <tbody>\n",
       "    <tr>\n",
       "      <th>0</th>\n",
       "      <td>5.1</td>\n",
       "      <td>3.5</td>\n",
       "      <td>1.4</td>\n",
       "      <td>0.2</td>\n",
       "      <td>0</td>\n",
       "    </tr>\n",
       "    <tr>\n",
       "      <th>1</th>\n",
       "      <td>4.9</td>\n",
       "      <td>3.0</td>\n",
       "      <td>1.4</td>\n",
       "      <td>0.2</td>\n",
       "      <td>0</td>\n",
       "    </tr>\n",
       "    <tr>\n",
       "      <th>2</th>\n",
       "      <td>4.7</td>\n",
       "      <td>3.2</td>\n",
       "      <td>1.3</td>\n",
       "      <td>0.2</td>\n",
       "      <td>0</td>\n",
       "    </tr>\n",
       "    <tr>\n",
       "      <th>3</th>\n",
       "      <td>4.6</td>\n",
       "      <td>3.1</td>\n",
       "      <td>1.5</td>\n",
       "      <td>0.2</td>\n",
       "      <td>0</td>\n",
       "    </tr>\n",
       "    <tr>\n",
       "      <th>4</th>\n",
       "      <td>5.0</td>\n",
       "      <td>3.6</td>\n",
       "      <td>1.4</td>\n",
       "      <td>0.2</td>\n",
       "      <td>0</td>\n",
       "    </tr>\n",
       "  </tbody>\n",
       "</table>\n",
       "</div>"
      ],
      "text/plain": [
       "   sepal length (cm)  sepal width (cm)  petal length (cm)  petal width (cm)  \\\n",
       "0                5.1               3.5                1.4               0.2   \n",
       "1                4.9               3.0                1.4               0.2   \n",
       "2                4.7               3.2                1.3               0.2   \n",
       "3                4.6               3.1                1.5               0.2   \n",
       "4                5.0               3.6                1.4               0.2   \n",
       "\n",
       "   Species  \n",
       "0        0  \n",
       "1        0  \n",
       "2        0  \n",
       "3        0  \n",
       "4        0  "
      ]
     },
     "execution_count": 335,
     "metadata": {},
     "output_type": "execute_result"
    }
   ],
   "source": [
    "df.head()"
   ]
  },
  {
   "cell_type": "markdown",
   "metadata": {
    "id": "y5S6-mpvKJD-"
   },
   "source": [
    "We will be taking 2 features, 'SepalLengthCm' and 'PetalWidthCm' for classification for easier visualization."
   ]
  },
  {
   "cell_type": "code",
   "execution_count": 336,
   "metadata": {
    "id": "vHbH9RWSRPJ6"
   },
   "outputs": [],
   "source": [
    "# Write the code to choose columns 'SepalLengthCm', 'PetalWidthCm' and 'Species' from the dataframe 'df',\n",
    "# Make a new dataframe 'df_new' and assign the three columns to the new dataframe."
   ]
  },
  {
   "cell_type": "code",
   "execution_count": 337,
   "metadata": {},
   "outputs": [
    {
     "data": {
      "text/plain": [
       "Index(['sepal length (cm)', 'sepal width (cm)', 'petal length (cm)',\n",
       "       'petal width (cm)', 'Species'],\n",
       "      dtype='object')"
      ]
     },
     "execution_count": 337,
     "metadata": {},
     "output_type": "execute_result"
    }
   ],
   "source": [
    "df.columns"
   ]
  },
  {
   "cell_type": "code",
   "execution_count": 338,
   "metadata": {
    "id": "tXXGJrPwRRba"
   },
   "outputs": [],
   "source": [
    "#Write the code below\n",
    "df_new=df[['sepal length (cm)','petal width (cm)','Species']]\n"
   ]
  },
  {
   "cell_type": "code",
   "execution_count": 339,
   "metadata": {
    "id": "aIZ6OtoqZi-m"
   },
   "outputs": [
    {
     "data": {
      "text/html": [
       "<div>\n",
       "<style scoped>\n",
       "    .dataframe tbody tr th:only-of-type {\n",
       "        vertical-align: middle;\n",
       "    }\n",
       "\n",
       "    .dataframe tbody tr th {\n",
       "        vertical-align: top;\n",
       "    }\n",
       "\n",
       "    .dataframe thead th {\n",
       "        text-align: right;\n",
       "    }\n",
       "</style>\n",
       "<table border=\"1\" class=\"dataframe\">\n",
       "  <thead>\n",
       "    <tr style=\"text-align: right;\">\n",
       "      <th></th>\n",
       "      <th>sepal length (cm)</th>\n",
       "      <th>petal width (cm)</th>\n",
       "      <th>Species</th>\n",
       "    </tr>\n",
       "  </thead>\n",
       "  <tbody>\n",
       "    <tr>\n",
       "      <th>0</th>\n",
       "      <td>5.1</td>\n",
       "      <td>0.2</td>\n",
       "      <td>0</td>\n",
       "    </tr>\n",
       "    <tr>\n",
       "      <th>1</th>\n",
       "      <td>4.9</td>\n",
       "      <td>0.2</td>\n",
       "      <td>0</td>\n",
       "    </tr>\n",
       "    <tr>\n",
       "      <th>2</th>\n",
       "      <td>4.7</td>\n",
       "      <td>0.2</td>\n",
       "      <td>0</td>\n",
       "    </tr>\n",
       "    <tr>\n",
       "      <th>3</th>\n",
       "      <td>4.6</td>\n",
       "      <td>0.2</td>\n",
       "      <td>0</td>\n",
       "    </tr>\n",
       "    <tr>\n",
       "      <th>4</th>\n",
       "      <td>5.0</td>\n",
       "      <td>0.2</td>\n",
       "      <td>0</td>\n",
       "    </tr>\n",
       "  </tbody>\n",
       "</table>\n",
       "</div>"
      ],
      "text/plain": [
       "   sepal length (cm)  petal width (cm)  Species\n",
       "0                5.1               0.2        0\n",
       "1                4.9               0.2        0\n",
       "2                4.7               0.2        0\n",
       "3                4.6               0.2        0\n",
       "4                5.0               0.2        0"
      ]
     },
     "execution_count": 339,
     "metadata": {},
     "output_type": "execute_result"
    }
   ],
   "source": [
    "df_new.head()"
   ]
  },
  {
   "cell_type": "markdown",
   "metadata": {
    "id": "_z09_vfkKw7K"
   },
   "source": [
    "**3) Encoding**\n",
    "\n",
    "Now we will use Label Encoder to Encode the 'Species' column in numeric. For eg - the species Iris-setosa is encoded as 0, Iris-virginica as 2 and so on."
   ]
  },
  {
   "cell_type": "code",
   "execution_count": 340,
   "metadata": {
    "id": "WSa4ils9AuE_"
   },
   "outputs": [
    {
     "name": "stderr",
     "output_type": "stream",
     "text": [
      "/home/ec2-user/anaconda3/envs/python3/lib/python3.6/site-packages/ipykernel/__main__.py:5: SettingWithCopyWarning: \n",
      "A value is trying to be set on a copy of a slice from a DataFrame.\n",
      "Try using .loc[row_indexer,col_indexer] = value instead\n",
      "\n",
      "See the caveats in the documentation: https://pandas.pydata.org/pandas-docs/stable/user_guide/indexing.html#returning-a-view-versus-a-copy\n"
     ]
    },
    {
     "data": {
      "text/html": [
       "<div>\n",
       "<style scoped>\n",
       "    .dataframe tbody tr th:only-of-type {\n",
       "        vertical-align: middle;\n",
       "    }\n",
       "\n",
       "    .dataframe tbody tr th {\n",
       "        vertical-align: top;\n",
       "    }\n",
       "\n",
       "    .dataframe thead th {\n",
       "        text-align: right;\n",
       "    }\n",
       "</style>\n",
       "<table border=\"1\" class=\"dataframe\">\n",
       "  <thead>\n",
       "    <tr style=\"text-align: right;\">\n",
       "      <th></th>\n",
       "      <th>sepal length (cm)</th>\n",
       "      <th>petal width (cm)</th>\n",
       "      <th>Species</th>\n",
       "      <th>Species_encoded</th>\n",
       "    </tr>\n",
       "  </thead>\n",
       "  <tbody>\n",
       "    <tr>\n",
       "      <th>0</th>\n",
       "      <td>5.1</td>\n",
       "      <td>0.2</td>\n",
       "      <td>0</td>\n",
       "      <td>0</td>\n",
       "    </tr>\n",
       "    <tr>\n",
       "      <th>1</th>\n",
       "      <td>4.9</td>\n",
       "      <td>0.2</td>\n",
       "      <td>0</td>\n",
       "      <td>0</td>\n",
       "    </tr>\n",
       "    <tr>\n",
       "      <th>2</th>\n",
       "      <td>4.7</td>\n",
       "      <td>0.2</td>\n",
       "      <td>0</td>\n",
       "      <td>0</td>\n",
       "    </tr>\n",
       "    <tr>\n",
       "      <th>3</th>\n",
       "      <td>4.6</td>\n",
       "      <td>0.2</td>\n",
       "      <td>0</td>\n",
       "      <td>0</td>\n",
       "    </tr>\n",
       "    <tr>\n",
       "      <th>4</th>\n",
       "      <td>5.0</td>\n",
       "      <td>0.2</td>\n",
       "      <td>0</td>\n",
       "      <td>0</td>\n",
       "    </tr>\n",
       "    <tr>\n",
       "      <th>...</th>\n",
       "      <td>...</td>\n",
       "      <td>...</td>\n",
       "      <td>...</td>\n",
       "      <td>...</td>\n",
       "    </tr>\n",
       "    <tr>\n",
       "      <th>145</th>\n",
       "      <td>6.7</td>\n",
       "      <td>2.3</td>\n",
       "      <td>2</td>\n",
       "      <td>2</td>\n",
       "    </tr>\n",
       "    <tr>\n",
       "      <th>146</th>\n",
       "      <td>6.3</td>\n",
       "      <td>1.9</td>\n",
       "      <td>2</td>\n",
       "      <td>2</td>\n",
       "    </tr>\n",
       "    <tr>\n",
       "      <th>147</th>\n",
       "      <td>6.5</td>\n",
       "      <td>2.0</td>\n",
       "      <td>2</td>\n",
       "      <td>2</td>\n",
       "    </tr>\n",
       "    <tr>\n",
       "      <th>148</th>\n",
       "      <td>6.2</td>\n",
       "      <td>2.3</td>\n",
       "      <td>2</td>\n",
       "      <td>2</td>\n",
       "    </tr>\n",
       "    <tr>\n",
       "      <th>149</th>\n",
       "      <td>5.9</td>\n",
       "      <td>1.8</td>\n",
       "      <td>2</td>\n",
       "      <td>2</td>\n",
       "    </tr>\n",
       "  </tbody>\n",
       "</table>\n",
       "<p>150 rows × 4 columns</p>\n",
       "</div>"
      ],
      "text/plain": [
       "     sepal length (cm)  petal width (cm)  Species  Species_encoded\n",
       "0                  5.1               0.2        0                0\n",
       "1                  4.9               0.2        0                0\n",
       "2                  4.7               0.2        0                0\n",
       "3                  4.6               0.2        0                0\n",
       "4                  5.0               0.2        0                0\n",
       "..                 ...               ...      ...              ...\n",
       "145                6.7               2.3        2                2\n",
       "146                6.3               1.9        2                2\n",
       "147                6.5               2.0        2                2\n",
       "148                6.2               2.3        2                2\n",
       "149                5.9               1.8        2                2\n",
       "\n",
       "[150 rows x 4 columns]"
      ]
     },
     "execution_count": 340,
     "metadata": {},
     "output_type": "execute_result"
    }
   ],
   "source": [
    "# Do not make changes in this cell\n",
    "# Simply execute it and move on\n",
    "from sklearn.preprocessing import LabelEncoder\n",
    "labelencoder_Species = LabelEncoder()\n",
    "df_new['Species_encoded'] = labelencoder_Species.fit_transform(df_new['Species'])\n",
    "df_new"
   ]
  },
  {
   "cell_type": "markdown",
   "metadata": {
    "id": "4VEK-uUqcp_d"
   },
   "source": [
    "We break this into X (features - 'SepalLengthCm' and 'PetalWidthCm') and y (output which is 'Species_encoded')."
   ]
  },
  {
   "cell_type": "code",
   "execution_count": 341,
   "metadata": {
    "id": "VAAz8OaHRclS"
   },
   "outputs": [],
   "source": [
    "# a)Write the code to choose columns 'SepalLengthCm' and 'PetalWidthCm' from the dataframe 'df_new',\n",
    "# and assign it to the new dataframe X.\n",
    "# b)Write the code to choose columns 'Species_encoded' from the dataframe 'df_new',\n",
    "# and assign it to the new dataframe y."
   ]
  },
  {
   "cell_type": "code",
   "execution_count": 342,
   "metadata": {
    "id": "T5bmRGCpczjQ"
   },
   "outputs": [],
   "source": [
    "#Write the code below\n",
    "X=df_new[['sepal length (cm)','petal width (cm)']]\n",
    "y=df_new[['Species_encoded']]\n"
   ]
  },
  {
   "cell_type": "markdown",
   "metadata": {
    "id": "UD6bhJszb3iT"
   },
   "source": [
    "**4) Training and Test data**\n",
    "\n",
    "We will divide the dataset into training and test dataset to see the accuracy of each of the algorithms that we use :"
   ]
  },
  {
   "cell_type": "code",
   "execution_count": 343,
   "metadata": {
    "id": "DeSGoSC9cGRT"
   },
   "outputs": [],
   "source": [
    "from sklearn.model_selection import train_test_split"
   ]
  },
  {
   "cell_type": "code",
   "execution_count": 344,
   "metadata": {
    "id": "LMjKEmUeR52D"
   },
   "outputs": [],
   "source": [
    "# Split the dataset into 60% training and 40% test set\n",
    "# NOTE:- take random_state = 3\n",
    "# Take the variables as X_train, X_test, y_train and y_test"
   ]
  },
  {
   "cell_type": "code",
   "execution_count": 345,
   "metadata": {
    "id": "mwVZl5JaR-AW"
   },
   "outputs": [],
   "source": [
    "#Write the code below\n",
    "X_train, X_test, y_train, y_test = train_test_split(X, y, test_size=0.40, random_state=3)\n"
   ]
  },
  {
   "cell_type": "markdown",
   "metadata": {
    "id": "VyTaNLqLVFyG"
   },
   "source": [
    "We can check the different types of species in the dataset using the unique function :"
   ]
  },
  {
   "cell_type": "code",
   "execution_count": 346,
   "metadata": {
    "id": "hasTtJ29ThOc"
   },
   "outputs": [
    {
     "data": {
      "text/plain": [
       "array([0, 1, 2])"
      ]
     },
     "execution_count": 346,
     "metadata": {},
     "output_type": "execute_result"
    }
   ],
   "source": [
    "df_new['Species'].unique()"
   ]
  },
  {
   "cell_type": "markdown",
   "metadata": {
    "id": "PDfX6CHYLvnx"
   },
   "source": [
    "**5) Visualization of data**\n",
    "\n",
    "Now we will plot the two features on the x and y axis and plot the data with different colour according to the species. "
   ]
  },
  {
   "cell_type": "code",
   "execution_count": 347,
   "metadata": {
    "id": "I6NKSRxAb91F"
   },
   "outputs": [],
   "source": [
    "# Write the code to create datasets according to the different categories of the species from the training set of features\n",
    "# and assign it to the new dataframes setosa, versicolor and versicolor."
   ]
  },
  {
   "cell_type": "code",
   "execution_count": 348,
   "metadata": {
    "id": "r-by0adGLl04"
   },
   "outputs": [],
   "source": [
    "#Create datasets according to the category\n",
    "#For the species setosa           \n",
    "setosa=X_train[y_train['Species_encoded']==0]\n",
    "#For the species versicolor          \n",
    "versicolor=X_train[y_train['Species_encoded']==1]\n",
    "#For the species virginica   \n",
    "virginica=X_train[y_train['Species_encoded']==2]"
   ]
  },
  {
   "cell_type": "code",
   "execution_count": 349,
   "metadata": {
    "id": "NA6hvqRpuqFL"
   },
   "outputs": [
    {
     "data": {
      "text/plain": [
       "Text(0.5, 1.0, 'Different Species Visualization')"
      ]
     },
     "execution_count": 349,
     "metadata": {},
     "output_type": "execute_result"
    },
    {
     "data": {
      "image/png": "[encoded data removed]",
      "text/plain": [
       "<Figure size 432x288 with 1 Axes>"
      ]
     },
     "metadata": {
      "needs_background": "light"
     },
     "output_type": "display_data"
    }
   ],
   "source": [
    "#Plot the data categorywise using scatter plot and visualize the data. Also include labels and legend.\n",
    "#Write the code below\n",
    "plt.scatter(setosa['sepal length (cm)'], setosa['petal width (cm)'], label='setosa')\n",
    "plt.scatter(versicolor['sepal length (cm)'], versicolor['petal width (cm)'], label='versicolor')\n",
    "plt.scatter(virginica['sepal length (cm)'], virginica['petal width (cm)'], label='virginica')\n",
    "plt.xlabel('sepal length (cm)')\n",
    "plt.ylabel('petal width (cm)')\n",
    "plt.legend()\n",
    "plt.title('Different Species Visualization')"
   ]
  },
  {
   "cell_type": "markdown",
   "metadata": {
    "id": "jivimtxl04D5"
   },
   "source": [
    "Let us import the time library to compare the timing of the 3 methods :"
   ]
  },
  {
   "cell_type": "code",
   "execution_count": 350,
   "metadata": {
    "id": "2qSpXy1f09dl"
   },
   "outputs": [],
   "source": [
    "import time\n",
    "from math import sqrt"
   ]
  },
  {
   "cell_type": "markdown",
   "metadata": {
    "id": "cITcO7SbZWcw"
   },
   "source": [
    "**6) Nearest Neighbour Classifier**\n",
    "\n"
   ]
  },
  {
   "cell_type": "code",
   "execution_count": 351,
   "metadata": {
    "id": "stPr8k--gcke"
   },
   "outputs": [],
   "source": [
    "# Question 1) Write the algorithm for nearest neighbour classifier as learnt in the theory\n",
    "#             Assign the answer to ans[0] after converting the output of the method to tuple "
   ]
  },
  {
   "cell_type": "code",
   "execution_count": 352,
   "metadata": {
    "id": "Hztil8AURSgo"
   },
   "outputs": [],
   "source": [
    "# Algorithm - Calculate the Euclidian distance for each test dataset by comparing with every trainig dataset and assign it to the variable 'val'\n",
    "#            The prediciton is the minimum value obtained from all the Euclidian distance calculated for that test datapoint\n",
    "# Assign the y_predict to ans[0] as a tuple => (0,1,0,2, and so on) "
   ]
  },
  {
   "cell_type": "code",
   "execution_count": 353,
   "metadata": {
    "id": "KGVnniI3uJpH"
   },
   "outputs": [
    {
     "name": "stderr",
     "output_type": "stream",
     "text": [
      "/home/ec2-user/anaconda3/envs/python3/lib/python3.6/site-packages/ipykernel/__main__.py:33: SettingWithCopyWarning: \n",
      "A value is trying to be set on a copy of a slice from a DataFrame.\n",
      "Try using .loc[row_indexer,col_indexer] = value instead\n",
      "\n",
      "See the caveats in the documentation: https://pandas.pydata.org/pandas-docs/stable/user_guide/indexing.html#returning-a-view-versus-a-copy\n",
      "/home/ec2-user/anaconda3/envs/python3/lib/python3.6/site-packages/ipykernel/__main__.py:34: SettingWithCopyWarning: \n",
      "A value is trying to be set on a copy of a slice from a DataFrame.\n",
      "Try using .loc[row_indexer,col_indexer] = value instead\n",
      "\n",
      "See the caveats in the documentation: https://pandas.pydata.org/pandas-docs/stable/user_guide/indexing.html#returning-a-view-versus-a-copy\n"
     ]
    }
   ],
   "source": [
    "ans = [0] * 10\n",
    "start_time = time.time()                          # Starting the runtime for this cell\n",
    "y_predict = []                                    # Predicted values of y will be stored\n",
    "#Write the code below\n",
    "def euclidean_distance(x_test, x_train):\n",
    "    distance = 0\n",
    "    for i in range(len(x_test)-1):\n",
    "        distance += (x_test[i]-x_train[i])**2\n",
    "    return sqrt(distance)\n",
    "\n",
    "def get_neighbors(x_test, x_train, num_neighbors):\n",
    "    distances = []\n",
    "    data = []\n",
    "    for i in x_train:\n",
    "        distances.append(euclidean_distance(x_test,i))\n",
    "        data.append(i)\n",
    "    distances = np.array(distances)\n",
    "    data = np.array(data)\n",
    "    sort_indexes = distances.argsort()\n",
    "    data = data[sort_indexes]\n",
    "    return data[:num_neighbors]\n",
    "\n",
    "def prediction(x_test, x_train, num_neighbors):\n",
    "    classes = []\n",
    "    neighbors = get_neighbors(x_test, x_train, num_neighbors)\n",
    "    for i in neighbors:\n",
    "        classes.append(i[-1])\n",
    "    predicted = max(classes, key=classes.count) #taking the most repeated class\n",
    "    return predicted\n",
    "\n",
    "tr = X_train\n",
    "ts = X_test\n",
    "tr['Species_encoded'] = y_train['Species_encoded']\n",
    "ts['Species_encoded'] = y_test['Species_encoded']\n",
    "train = tr.values\n",
    "test = ts.values\n",
    "for i in test:\n",
    "    y_predict.append(int(prediction(i, train, 1)))\n",
    "# 1 mark\n",
    "ans[0] = tuple(y_predict)\n",
    "ans[0] = str(ans[0])\n",
    "time_NN = time.time() - start_time                # Final time taken"
   ]
  },
  {
   "cell_type": "markdown",
   "metadata": {
    "id": "czv-iPfLOaoj"
   },
   "source": [
    "We will concatenate the columns of predicted and y_test dataframe to X_test"
   ]
  },
  {
   "cell_type": "code",
   "execution_count": 354,
   "metadata": {
    "id": "-gypIBLfiy59"
   },
   "outputs": [],
   "source": [
    "# a)Concatenate X_test and y_test dataframe by column and assign it to the new dataframe 'Test_Data'\n",
    "# b)Concatenate Test_data and Predicted dataframe by column assign it to the new dataframe 'Check_Prediction' "
   ]
  },
  {
   "cell_type": "code",
   "execution_count": 355,
   "metadata": {
    "id": "WP_BNoymLC5I"
   },
   "outputs": [],
   "source": [
    "#Write the code below\n",
    "Test_data=X_test.reset_index()\n",
    "y_predict = pd.DataFrame(y_predict,columns =['Prediction'])\n",
    "Check_Prediction=pd.concat([Test_data,y_predict],axis=1)"
   ]
  },
  {
   "cell_type": "markdown",
   "metadata": {
    "id": "ktMbUpPE4t2E"
   },
   "source": [
    "We will calculate the accuracy now :"
   ]
  },
  {
   "cell_type": "code",
   "execution_count": 356,
   "metadata": {
    "id": "7ByP9eMzpT7u"
   },
   "outputs": [],
   "source": [
    "# Question 2) Calculate the accuracy obtained for the algorithm used above\n",
    "#             Assign the accuracy to ans[1] and store it as 'Accuracy_NearestNeighbours'  "
   ]
  },
  {
   "cell_type": "code",
   "execution_count": 357,
   "metadata": {
    "id": "gr6T3x-TfEvg"
   },
   "outputs": [
    {
     "data": {
      "text/plain": [
       "0.9"
      ]
     },
     "execution_count": 357,
     "metadata": {},
     "output_type": "execute_result"
    }
   ],
   "source": [
    "#NOTE - Accuracy = Correct_Predictions/Total_Predictions\n",
    "#Write the code below\n",
    "correct=sum(Check_Prediction['Species_encoded']==Check_Prediction['Prediction'])\n",
    "total=len(Check_Prediction['Species_encoded'])\n",
    "Accuracy=correct/total\n",
    "Accuracy_NearestNeighbours=Accuracy\n",
    "# 1 mark\n",
    "ans[1] = Accuracy\n",
    "Accuracy_NearestNeighbours"
   ]
  },
  {
   "cell_type": "markdown",
   "metadata": {
    "id": "N4t20uChOkLU"
   },
   "source": [
    "Now let us have a look at the values that we did not predicted correctly :"
   ]
  },
  {
   "cell_type": "code",
   "execution_count": 358,
   "metadata": {
    "id": "vWNgSD6EBq1-"
   },
   "outputs": [
    {
     "data": {
      "image/png": "[encoded data removed]",
      "text/plain": [
       "<Figure size 432x288 with 1 Axes>"
      ]
     },
     "metadata": {
      "needs_background": "light"
     },
     "output_type": "display_data"
    },
    {
     "data": {
      "text/plain": [
       "<Figure size 432x288 with 0 Axes>"
      ]
     },
     "metadata": {},
     "output_type": "display_data"
    },
    {
     "data": {
      "image/png": "[encoded data removed]",
      "text/plain": [
       "<Figure size 432x288 with 1 Axes>"
      ]
     },
     "metadata": {
      "needs_background": "light"
     },
     "output_type": "display_data"
    }
   ],
   "source": [
    "#Plot the data categorywise using scatter plot and visualize the data. Also include labels and legend.\n",
    "#Write the code below\n",
    "Check_Prediction = Check_Prediction.rename(columns = {'sepal length (cm)' : 'SepalLengthCm','petal width (cm)' : 'PetalWidthCm' })\n",
    "plt.figure()\n",
    "setosa1 = Check_Prediction[Check_Prediction['Prediction']==0]\n",
    "versicolor1 = Check_Prediction[Check_Prediction['Prediction']==1]\n",
    "virginica1 = Check_Prediction[Check_Prediction['Prediction']==2]\n",
    "plt.scatter(setosa1['SepalLengthCm'], setosa1['PetalWidthCm'], label='setosa')\n",
    "plt.scatter(versicolor1['SepalLengthCm'], versicolor1['PetalWidthCm'], label='versicolor')\n",
    "plt.scatter(virginica1['SepalLengthCm'], virginica1['PetalWidthCm'], label='virginica')\n",
    "plt.xlabel('sepal length (cm)')\n",
    "plt.ylabel('petal width (cm)')\n",
    "plt.legend()\n",
    "plt.title('Predicted Species Visualization')\n",
    "plt.show()\n",
    "plt.clf()\n",
    "plt.figure()\n",
    "#Implement the below code snippet to see the values that were not predicted correctly\n",
    "for index in Check_Prediction.index:\n",
    "    if(Check_Prediction['Species_encoded'][index]==Check_Prediction['Prediction'][index]):\n",
    "        plt.scatter(Check_Prediction['SepalLengthCm'][index],Check_Prediction['PetalWidthCm'][index],marker='x',c='m')\n",
    "    else:\n",
    "        plt.scatter(Check_Prediction['SepalLengthCm'][index],Check_Prediction['PetalWidthCm'][index],marker='*',c='y')"
   ]
  },
  {
   "cell_type": "markdown",
   "metadata": {
    "id": "2YQu3nh8ZK5B"
   },
   "source": [
    "The magenta cross represents correct predictions and the yellow stars represent incorrect predictions.\n",
    "\n",
    "We see that even if there is an outlier, if the test value is close to that value, it will be predicted in that class, which may not always be right. Hence we move on to the k Nearest Neighbor."
   ]
  },
  {
   "cell_type": "markdown",
   "metadata": {
    "id": "d42m7X1Rnl8-"
   },
   "source": [
    "**7)  K Nearest Neighbour**\n",
    "\n",
    "Choosing the value of k for the algorithm could be a difficult task. A small value of k means that noise will have a higher influence on the result and a large value make it computationally expensive.\n",
    "\n",
    "We will have to check which value suits well. Let us start with k = 5.\n",
    "\n",
    "Now we will move on to K Nearest Neighbour classifier:"
   ]
  },
  {
   "cell_type": "code",
   "execution_count": 359,
   "metadata": {
    "id": "k-7A0pPS0-Cd"
   },
   "outputs": [],
   "source": [
    "# Question 3) Algorithm - Calculate the Euclidian distance for each test dataset by comparing with every training dataset and assign it to the variable 'val'\n",
    "#            Sort the distances obtained and take the k smallest values.\n",
    "#            Take their species values.\n",
    "#            The prediciton is the maximum frequency among all the k sorted values.  \n",
    "#           # Assign the y_predict to ans[2] as a tuple => (0,1,0,2, and so on)  "
   ]
  },
  {
   "cell_type": "code",
   "execution_count": 360,
   "metadata": {
    "id": "ffRlp-XvlwdV"
   },
   "outputs": [],
   "source": [
    "start_time = time.time()\n",
    "k = 5\n",
    "y_predict = []\n",
    "#Write the code below\n",
    "def euclidean_distance(x_test, x_train):\n",
    "    distance = 0\n",
    "    for i in range(len(x_test)-1):\n",
    "        distance += (x_test[i]-x_train[i])**2\n",
    "    return sqrt(distance)\n",
    "\n",
    "def get_neighbors(x_test, x_train, num_neighbors):\n",
    "    distances = []\n",
    "    data = []\n",
    "    for i in x_train:\n",
    "        distances.append(euclidean_distance(x_test,i))\n",
    "        data.append(i)\n",
    "    distances = np.array(distances)\n",
    "    data = np.array(data)\n",
    "    sort_indexes = distances.argsort()\n",
    "    data = data[sort_indexes]\n",
    "    return data[:num_neighbors]\n",
    "\n",
    "def prediction(x_test, x_train, num_neighbors):\n",
    "    classes = []\n",
    "    neighbors = get_neighbors(x_test, x_train, num_neighbors)\n",
    "    for i in neighbors:\n",
    "        classes.append(i[-1])\n",
    "    predicted = max(classes, key=classes.count) #taking the most repeated class\n",
    "    return predicted\n",
    "tr = X_train\n",
    "ts = X_test\n",
    "train = tr.values\n",
    "test = ts.values\n",
    "for i in test:\n",
    "    y_predict.append(int(prediction(i, train, k)))\n",
    "# 1 mark\n",
    "ans[2] = tuple(y_predict)\n",
    "ans[2] = str(ans[2])\n",
    "time_k5_NN = time.time() - start_time"
   ]
  },
  {
   "cell_type": "code",
   "execution_count": 361,
   "metadata": {
    "id": "pvD8-_XgXUjc"
   },
   "outputs": [],
   "source": [
    "# a):Concatenate X_test and y_test dataframe by column and assign it to the new dataframe 'Test_Data'\n",
    "# b):Concatenate Test_data and Predicted dataframe by column assign it to the new dataframe 'Check_Prediction' "
   ]
  },
  {
   "cell_type": "code",
   "execution_count": 362,
   "metadata": {
    "id": "ox8v__QacRE9"
   },
   "outputs": [],
   "source": [
    "# Write the code below\n",
    "Test_data=X_test.reset_index()\n",
    "y_predict = pd.DataFrame(y_predict,columns =['Prediction'])\n",
    "Check_Prediction=pd.concat([Test_data,y_predict],axis=1)"
   ]
  },
  {
   "cell_type": "markdown",
   "metadata": {
    "id": "2RBcFcwKXUjg"
   },
   "source": [
    "We will calculate the accuracy now :"
   ]
  },
  {
   "cell_type": "code",
   "execution_count": 363,
   "metadata": {
    "id": "jWs8A7Ql1NcM"
   },
   "outputs": [],
   "source": [
    "# Question 4) :Calculate the accuracy obtained for the algorithm used above\n",
    "#             Assign the accuracy to ans[3] and store it as 'Accuracy_k5_NearestNeighbours' "
   ]
  },
  {
   "cell_type": "code",
   "execution_count": 364,
   "metadata": {
    "id": "r7fklHz_1NcM"
   },
   "outputs": [],
   "source": [
    "#NOTE - Accuracy = Correct_Predictions/Total_Predictions\n",
    "#Write the code below\n",
    "correct=sum(Check_Prediction['Species_encoded']==Check_Prediction['Prediction'])\n",
    "total=len(Check_Prediction['Species_encoded'])\n",
    "Accuracy=correct/total\n",
    "Accuracy_k5_NearestNeighbours=Accuracy\n",
    "# 1 mark\n",
    "ans[3] = Accuracy"
   ]
  },
  {
   "cell_type": "markdown",
   "metadata": {
    "id": "wBaLTpXuXUjj"
   },
   "source": [
    "Now let us have a look at the values that we did not predicted correctly :"
   ]
  },
  {
   "cell_type": "code",
   "execution_count": 365,
   "metadata": {
    "id": "IRZR78zY1dQU"
   },
   "outputs": [
    {
     "data": {
      "image/png": "[encoded data removed]",
      "text/plain": [
       "<Figure size 432x288 with 1 Axes>"
      ]
     },
     "metadata": {
      "needs_background": "light"
     },
     "output_type": "display_data"
    },
    {
     "data": {
      "text/plain": [
       "<Figure size 432x288 with 0 Axes>"
      ]
     },
     "metadata": {},
     "output_type": "display_data"
    },
    {
     "data": {
      "image/png": "[encoded data removed]",
      "text/plain": [
       "<Figure size 432x288 with 1 Axes>"
      ]
     },
     "metadata": {
      "needs_background": "light"
     },
     "output_type": "display_data"
    }
   ],
   "source": [
    "#Plot the data categorywise using scatter plot and visualize the data. Also include labels and legend.\n",
    "# Write the code below\n",
    "Check_Prediction = Check_Prediction.rename(columns = {'sepal length (cm)' : 'SepalLengthCm','petal width (cm)' : 'PetalWidthCm' })\n",
    "plt.figure()\n",
    "setosa1 = Check_Prediction[Check_Prediction['Prediction']==0]\n",
    "versicolor1 = Check_Prediction[Check_Prediction['Prediction']==1]\n",
    "virginica1 = Check_Prediction[Check_Prediction['Prediction']==2]\n",
    "plt.scatter(setosa1['SepalLengthCm'], setosa1['PetalWidthCm'], label='setosa')\n",
    "plt.scatter(versicolor1['SepalLengthCm'], versicolor1['PetalWidthCm'], label='versicolor')\n",
    "plt.scatter(virginica1['SepalLengthCm'], virginica1['PetalWidthCm'], label='virginica')\n",
    "plt.xlabel('sepal length (cm)')\n",
    "plt.ylabel('petal width (cm)')\n",
    "plt.legend()\n",
    "plt.title('Predicted Species Visualization')\n",
    "plt.show()\n",
    "plt.clf()\n",
    "plt.figure()\n",
    "#Implement the below code snippet to see the values that were not predicted correctly\n",
    "for index in Check_Prediction.index:\n",
    "    if(Check_Prediction['Species_encoded'][index]==Check_Prediction['Prediction'][index]):\n",
    "        plt.scatter(Check_Prediction['SepalLengthCm'][index],Check_Prediction['PetalWidthCm'][index],marker='x',c='m')\n",
    "    else:\n",
    "        plt.scatter(Check_Prediction['SepalLengthCm'][index],Check_Prediction['PetalWidthCm'][index],marker='*',c='y')"
   ]
  },
  {
   "cell_type": "markdown",
   "metadata": {
    "id": "zc3PoFufzQwD"
   },
   "source": [
    "From this plot, it is visible that some of the outlier cases wrongly predicted in previous method are being taken care of by kNN. Still there could always be some errors near boundary lines."
   ]
  },
  {
   "cell_type": "markdown",
   "metadata": {
    "id": "lDfbhdnZZ502"
   },
   "source": [
    "Choosing an optimum value of k is very important. Let us see the problems when k is too large or too less.\n",
    "\n",
    "First when k is too small :\n",
    "\n",
    "Let us check for k = 1."
   ]
  },
  {
   "cell_type": "markdown",
   "metadata": {
    "id": "hW5OhE3KMvc7"
   },
   "source": [
    "We are adding some outliers in the data to see what the KNN for k=1 predicts."
   ]
  },
  {
   "cell_type": "code",
   "execution_count": 366,
   "metadata": {},
   "outputs": [],
   "source": [
    "X_test=X_test.drop(['Species_encoded'],axis=1)"
   ]
  },
  {
   "cell_type": "code",
   "execution_count": 367,
   "metadata": {
    "id": "VwoYvjYvMxTv"
   },
   "outputs": [
    {
     "name": "stderr",
     "output_type": "stream",
     "text": [
      "/home/ec2-user/anaconda3/envs/python3/lib/python3.6/site-packages/pandas/core/indexing.py:670: SettingWithCopyWarning: \n",
      "A value is trying to be set on a copy of a slice from a DataFrame\n",
      "\n",
      "See the caveats in the documentation: https://pandas.pydata.org/pandas-docs/stable/user_guide/indexing.html#returning-a-view-versus-a-copy\n",
      "  iloc._setitem_with_indexer(indexer, value)\n"
     ]
    }
   ],
   "source": [
    "#adding outliers in the data\n",
    "X_test.loc[len(X_test.index)] = [4.5, 1.5]  \n",
    "X_test.loc[len(X_test.index)] = [4.8, 1.5]  \n",
    "X_test.loc[len(X_test.index)] = [7, 1.5]  \n",
    "X_test.loc[len(X_test.index)] = [5, 0.85]  \n",
    "y_test.loc[len(y_test.index)] = [1] \n",
    "y_test.loc[len(y_test.index)] = [1]\n",
    "y_test.loc[len(y_test.index)] = [2]\n",
    "y_test.loc[len(y_test.index)] = [0] "
   ]
  },
  {
   "cell_type": "code",
   "execution_count": 368,
   "metadata": {
    "id": "5zjeeRagcVzd"
   },
   "outputs": [],
   "source": [
    "# Now implement KNN algorithm with k = 1"
   ]
  },
  {
   "cell_type": "code",
   "execution_count": 369,
   "metadata": {
    "id": "8Wq7Ib-ZcVl9"
   },
   "outputs": [
    {
     "name": "stderr",
     "output_type": "stream",
     "text": [
      "/home/ec2-user/anaconda3/envs/python3/lib/python3.6/site-packages/ipykernel/__main__.py:32: SettingWithCopyWarning: \n",
      "A value is trying to be set on a copy of a slice from a DataFrame.\n",
      "Try using .loc[row_indexer,col_indexer] = value instead\n",
      "\n",
      "See the caveats in the documentation: https://pandas.pydata.org/pandas-docs/stable/user_guide/indexing.html#returning-a-view-versus-a-copy\n"
     ]
    }
   ],
   "source": [
    "start_time = time.time()\n",
    "k = 1\n",
    "y_predict = []\n",
    "#Write the code below\n",
    "def euclidean_distance(x_test, x_train):\n",
    "    distance = 0\n",
    "    for i in range(len(x_test)-1):\n",
    "        distance += (x_test[i]-x_train[i])**2\n",
    "    return sqrt(distance)\n",
    "\n",
    "def get_neighbors(x_test, x_train, num_neighbors):\n",
    "    distances = []\n",
    "    data = []\n",
    "    for i in x_train:\n",
    "        distances.append(euclidean_distance(x_test,i))\n",
    "        data.append(i)\n",
    "    distances = np.array(distances)\n",
    "    data = np.array(data)\n",
    "    sort_indexes = distances.argsort()\n",
    "    data = data[sort_indexes]\n",
    "    return data[:num_neighbors]\n",
    "\n",
    "def prediction(x_test, x_train, num_neighbors):\n",
    "    classes = []\n",
    "    neighbors = get_neighbors(x_test, x_train, num_neighbors)\n",
    "    for i in neighbors:\n",
    "        classes.append(i[-1])\n",
    "    predicted = max(classes, key=classes.count) #taking the most repeated class\n",
    "    return predicted\n",
    "tr = X_train\n",
    "ts = X_test\n",
    "tr['Species_encoded'] = y_train['Species_encoded']\n",
    "ts['Species_encoded'] = y_test['Species_encoded']\n",
    "train = tr.values\n",
    "test = ts.values\n",
    "for i in test:\n",
    "    y_predict.append(int(prediction(i, train, k)))\n",
    "\n",
    "time_k1_NN = time.time() - start_time"
   ]
  },
  {
   "cell_type": "code",
   "execution_count": 370,
   "metadata": {
    "id": "_BDRidu-cVWF"
   },
   "outputs": [],
   "source": [
    "# a):Concatenate X_test and y_test dataframe by column and assign it to the new dataframe 'Test_Data'\n",
    "# b):Concatenate Test_data and Predicted dataframe by column assign it to the new dataframe 'Check_Prediction' "
   ]
  },
  {
   "cell_type": "code",
   "execution_count": 371,
   "metadata": {
    "id": "sXXswMHLcfK2"
   },
   "outputs": [],
   "source": [
    "# Write the code below\n",
    "Test_data=X_test.reset_index()\n",
    "y_predict = pd.DataFrame(y_predict,columns =['Prediction'])\n",
    "Check_Prediction=pd.concat([Test_data,y_predict],axis=1)"
   ]
  },
  {
   "cell_type": "markdown",
   "metadata": {
    "id": "tK_MsXnvckcs"
   },
   "source": [
    "We will calculate the accuracy now :"
   ]
  },
  {
   "cell_type": "code",
   "execution_count": 372,
   "metadata": {
    "id": "B-dsgrFscl_u"
   },
   "outputs": [],
   "source": [
    "# Question 5) :Calculate the accuracy obtained for the algorithm used above\n",
    "#             Assign the accuracy to ans[4] and store it as 'Accuracy_k2_NearestNeighbours'"
   ]
  },
  {
   "cell_type": "code",
   "execution_count": 373,
   "metadata": {
    "id": "_K6iUEzUcoIu"
   },
   "outputs": [],
   "source": [
    "#NOTE - Accuracy = Correct_Predictions/Total_Predictions\n",
    "#Write the code below\n",
    "correct=sum(Check_Prediction['Species_encoded']==Check_Prediction['Prediction'])\n",
    "total=len(Check_Prediction['Species_encoded'])\n",
    "Accuracy=correct/total\n",
    "Accuracy_k2_NearestNeighbours=Accuracy\n",
    "# 1 mark\n",
    "ans[4] = Accuracy"
   ]
  },
  {
   "cell_type": "markdown",
   "metadata": {
    "id": "s7qE06gMMooU"
   },
   "source": [
    "As we can clearly see that KNN for k=1 doesn't do well in case of outliers. Hence, we increase the value of k to get better results."
   ]
  },
  {
   "cell_type": "markdown",
   "metadata": {
    "id": "kXWMlk5gcsy2"
   },
   "source": [
    "Let us check for k = 2."
   ]
  },
  {
   "cell_type": "code",
   "execution_count": 374,
   "metadata": {
    "id": "fpgM3Lca1ui1"
   },
   "outputs": [],
   "source": [
    "# Now implement KNN algorithm with k = 2"
   ]
  },
  {
   "cell_type": "code",
   "execution_count": 375,
   "metadata": {
    "id": "CA-Il-VBaF5z"
   },
   "outputs": [],
   "source": [
    "start_time = time.time()\n",
    "k = 2\n",
    "y_predict = []\n",
    "#Write the code below\n",
    "def euclidean_distance(x_test, x_train):\n",
    "    distance = 0\n",
    "    for i in range(len(x_test)-1):\n",
    "        distance += (x_test[i]-x_train[i])**2\n",
    "    return sqrt(distance)\n",
    "\n",
    "def get_neighbors(x_test, x_train, num_neighbors):\n",
    "    distances = []\n",
    "    data = []\n",
    "    for i in x_train:\n",
    "        distances.append(euclidean_distance(x_test,i))\n",
    "        data.append(i)\n",
    "    distances = np.array(distances)\n",
    "    data = np.array(data)\n",
    "    sort_indexes = distances.argsort()\n",
    "    data = data[sort_indexes]\n",
    "    return data[:num_neighbors]\n",
    "\n",
    "def prediction(x_test, x_train, num_neighbors):\n",
    "    classes = []\n",
    "    neighbors = get_neighbors(x_test, x_train, num_neighbors)\n",
    "    for i in neighbors:\n",
    "        classes.append(i[-1])\n",
    "    predicted = max(classes, key=classes.count) #taking the most repeated class\n",
    "    return predicted\n",
    "tr = X_train\n",
    "ts = X_test\n",
    "train = tr.values\n",
    "test = ts.values\n",
    "for i in test:\n",
    "    y_predict.append(int(prediction(i, train, k)))\n",
    "time_k2_NN = time.time() - start_time"
   ]
  },
  {
   "cell_type": "code",
   "execution_count": 376,
   "metadata": {
    "id": "iGRYyAJDaF52"
   },
   "outputs": [],
   "source": [
    "# a):Concatenate X_test and y_test dataframe by column and assign it to the new dataframe 'Test_Data'\n",
    "# b):Concatenate Test_data and Predicted dataframe by column assign it to the new dataframe 'Check_Prediction' "
   ]
  },
  {
   "cell_type": "code",
   "execution_count": 377,
   "metadata": {
    "id": "gcnnpnjncJ3m"
   },
   "outputs": [],
   "source": [
    "# Write the code below\n",
    "Test_data=X_test.reset_index()\n",
    "y_predict = pd.DataFrame(y_predict,columns =['Prediction'])\n",
    "Check_Prediction=pd.concat([Test_data,y_predict],axis=1)"
   ]
  },
  {
   "cell_type": "markdown",
   "metadata": {
    "id": "PAQmE2lraF55"
   },
   "source": [
    "We will calculate the accuracy now :"
   ]
  },
  {
   "cell_type": "code",
   "execution_count": 378,
   "metadata": {
    "id": "p_G7wBru2HZT"
   },
   "outputs": [],
   "source": [
    "# Question 6) :Calculate the accuracy obtained for the algorithm used above\n",
    "#             Assign the accuracy to ans[5] and store it as 'Accuracy_k2_NearestNeighbours'"
   ]
  },
  {
   "cell_type": "code",
   "execution_count": 379,
   "metadata": {
    "id": "BpdEvNnj2HZT"
   },
   "outputs": [],
   "source": [
    "#NOTE - Accuracy = Correct_Predictions/Total_Predictions\n",
    "#Write the code below\n",
    "correct=sum(Check_Prediction['Species_encoded']==Check_Prediction['Prediction'])\n",
    "total=len(Check_Prediction['Species_encoded'])\n",
    "Accuracy=correct/total\n",
    "Accuracy_k2_NearestNeighbours=Accuracy\n",
    "# 1 mark\n",
    "ans[5] = Accuracy"
   ]
  },
  {
   "cell_type": "markdown",
   "metadata": {
    "id": "2AepSoF4aF58"
   },
   "source": [
    "As we can see, when k is too small, it is better than Nearest Neighbour but __A__ accurate than k = 5.\n",
    "\n"
   ]
  },
  {
   "cell_type": "code",
   "execution_count": 380,
   "metadata": {
    "id": "y1PQAA7m9Ohf"
   },
   "outputs": [],
   "source": [
    "#Question 7) What will come inplace of A \n",
    "#            Assign the answer to ans[6] for A \n",
    "# A = less or more? Write your response as \"less\" or \"more\" to the ans[6].\n",
    "# Answer is case sensitive. Adhere to the choices given."
   ]
  },
  {
   "cell_type": "code",
   "execution_count": 381,
   "metadata": {
    "id": "e3kA0eBi9fy1"
   },
   "outputs": [],
   "source": [
    "# 1 marks\n",
    "ans[6] = \"less\""
   ]
  },
  {
   "cell_type": "markdown",
   "metadata": {
    "id": "SxPf-gq6dQvO"
   },
   "source": [
    "Now let us see when k is large, for example k = 12 :"
   ]
  },
  {
   "cell_type": "code",
   "execution_count": 382,
   "metadata": {
    "id": "KDQV9-_R26rN"
   },
   "outputs": [],
   "source": [
    "# Now implement KNN algorithm with k = 12"
   ]
  },
  {
   "cell_type": "code",
   "execution_count": 383,
   "metadata": {
    "id": "Yg2JI9FwcVOX"
   },
   "outputs": [],
   "source": [
    "start_time = time.time()\n",
    "k = 12\n",
    "y_predict = []\n",
    "#Write the code below\n",
    "def euclidean_distance(x_test, x_train):\n",
    "    distance = 0\n",
    "    for i in range(len(x_test)-1):\n",
    "        distance += (x_test[i]-x_train[i])**2\n",
    "    return sqrt(distance)\n",
    "\n",
    "def get_neighbors(x_test, x_train, num_neighbors):\n",
    "    distances = []\n",
    "    data = []\n",
    "    for i in x_train:\n",
    "        distances.append(euclidean_distance(x_test,i))\n",
    "        data.append(i)\n",
    "    distances = np.array(distances)\n",
    "    data = np.array(data)\n",
    "    sort_indexes = distances.argsort()\n",
    "    data = data[sort_indexes]\n",
    "    return data[:num_neighbors]\n",
    "\n",
    "def prediction(x_test, x_train, num_neighbors):\n",
    "    classes = []\n",
    "    neighbors = get_neighbors(x_test, x_train, num_neighbors)\n",
    "    for i in neighbors:\n",
    "        classes.append(i[-1])\n",
    "    predicted = max(classes, key=classes.count) #taking the most repeated class\n",
    "    return predicted\n",
    "tr = X_train\n",
    "ts = X_test\n",
    "train = tr.values\n",
    "test = ts.values\n",
    "for i in test:\n",
    "    y_predict.append(int(prediction(i, train, k)))\n",
    "time_k12_NN = time.time() - start_time"
   ]
  },
  {
   "cell_type": "code",
   "execution_count": 384,
   "metadata": {
    "id": "SG7GuZyMcVOb"
   },
   "outputs": [],
   "source": [
    "# a):Concatenate X_test and y_test dataframe by column and assign it to the new dataframe 'Test_Data'\n",
    "# b):Concatenate Test_data and Predicted dataframe by column assign it to the new dataframe 'Check_Prediction'"
   ]
  },
  {
   "cell_type": "code",
   "execution_count": 385,
   "metadata": {
    "id": "qY751odXdn5W"
   },
   "outputs": [],
   "source": [
    "#Write the code below\n",
    "Test_data=X_test.reset_index()\n",
    "y_predict = pd.DataFrame(y_predict,columns =['Prediction'])\n",
    "Check_Prediction=pd.concat([Test_data,y_predict],axis=1)"
   ]
  },
  {
   "cell_type": "markdown",
   "metadata": {
    "id": "6CVyENsMcVOd"
   },
   "source": [
    "We will calculate the accuracy now :"
   ]
  },
  {
   "cell_type": "code",
   "execution_count": 386,
   "metadata": {
    "id": "WesRmsvV3JIc"
   },
   "outputs": [],
   "source": [
    "# Question 8) :Calculate the accuracy obtained for the algorithm used above\n",
    "#              Assign the accuracy to ans[7] and store it as 'Accuracy_k12_NearestNeighbours'"
   ]
  },
  {
   "cell_type": "code",
   "execution_count": 387,
   "metadata": {
    "id": "frhJJzlv3JIc"
   },
   "outputs": [],
   "source": [
    "#NOTE - Accuracy = Correct_Predictions/Total_Predictions\n",
    "#Write the code below\n",
    "correct=sum(Check_Prediction['Species_encoded']==Check_Prediction['Prediction'])\n",
    "total=len(Check_Prediction['Species_encoded'])\n",
    "Accuracy=correct/total\n",
    "Accuracy_k12_NearestNeighbours=Accuracy\n",
    "# 1 mark\n",
    "ans[7] = Accuracy"
   ]
  },
  {
   "cell_type": "markdown",
   "metadata": {
    "id": "XL9xXPYlc4kY"
   },
   "source": [
    "We see that the accuracy is good but it is lower than when k = 5. This is because when the dataset is small and the value of k is too big, it looks at too many points in the surrounding and sometimes gets the wrong prediction about which class it belongs to."
   ]
  },
  {
   "cell_type": "markdown",
   "metadata": {
    "id": "E00_t_Zlwq88"
   },
   "source": [
    "**8) Nearest Mean Classification**\n",
    "\n",
    "Here we take the mean for each of the classes and compare the test cases with them to reduce computational time."
   ]
  },
  {
   "cell_type": "code",
   "execution_count": 388,
   "metadata": {
    "id": "fUjxOuL_vsRe"
   },
   "outputs": [],
   "source": [
    "setosa_PetalWidth = setosa['petal width (cm)'].mean() # Calculate the mean for all the features of all the classes\n",
    "setosa_SepalLength = setosa['sepal length (cm)'].mean()\n",
    "\n",
    "virginica_PetalWidth = virginica['petal width (cm)'].mean()\n",
    "virginica_SepalLength = virginica['sepal length (cm)'].mean()\n",
    "\n",
    "versicolor_PetalWidth = versicolor['petal width (cm)'].mean()\n",
    "versicolor_SepalLength = versicolor['sepal length (cm)'].mean()"
   ]
  },
  {
   "cell_type": "code",
   "execution_count": 389,
   "metadata": {
    "id": "NsP2J79C4xo2"
   },
   "outputs": [],
   "source": [
    "# Algorithm - Calculate the Euclidian distance for each test dataset by comparing with mean of every class\n",
    "#            The predicited class is the minimum value obtained from all the Euclidian distance calculated for that test datapoint "
   ]
  },
  {
   "cell_type": "code",
   "execution_count": 390,
   "metadata": {
    "id": "RiKS0mxgxGV3"
   },
   "outputs": [],
   "source": [
    "start_time = time.time()\n",
    "y_predict = []\n",
    "#Write the code below\n",
    "SepalLength = [setosa_SepalLength,virginica_SepalLength,versicolor_SepalLength]\n",
    "PetalWidth = [setosa_PetalWidth,virginica_PetalWidth,versicolor_PetalWidth]\n",
    "Y_train_new = [0,1,2]\n",
    "X_train_new = pd.DataFrame()\n",
    "X_train_new['sepal length (cm)'] = SepalLength\n",
    "X_train_new['petal width (cm)'] = PetalWidth\n",
    "X_train_new['Species_encoded'] = Y_train_newk = 1\n",
    "def euclidean_distance(x_test, x_train):\n",
    "    distance = 0\n",
    "    for i in range(len(x_test)-1):\n",
    "        distance += (x_test[i]-x_train[i])**2\n",
    "    return sqrt(distance)\n",
    "\n",
    "def get_neighbors(x_test, x_train, num_neighbors):\n",
    "    distances = []\n",
    "    data = []\n",
    "    for i in x_train:\n",
    "        distances.append(euclidean_distance(x_test,i))\n",
    "        data.append(i)\n",
    "    distances = np.array(distances)\n",
    "    data = np.array(data)\n",
    "    sort_indexes = distances.argsort()\n",
    "    data = data[sort_indexes]\n",
    "    return data[:num_neighbors]\n",
    "\n",
    "def prediction(x_test, x_train, num_neighbors):\n",
    "    classes = []\n",
    "    neighbors = get_neighbors(x_test, x_train, num_neighbors)\n",
    "    for i in neighbors:\n",
    "        classes.append(i[-1])\n",
    "    predicted = max(classes, key=classes.count) #taking the most repeated class\n",
    "    return predicted\n",
    "tr = X_train_new\n",
    "ts = X_test\n",
    "#ts['Species_encoded'] = y_test['Species_encoded']\n",
    "train = tr.values\n",
    "test = ts.values\n",
    "for i in test:\n",
    "    y_predict.append(int(prediction(i, train, k)))\n",
    "\n",
    "time_NM = time.time() - start_time"
   ]
  },
  {
   "cell_type": "code",
   "execution_count": 391,
   "metadata": {
    "id": "kOAwdVn-XdNL"
   },
   "outputs": [],
   "source": [
    "# a):Concatenate X_test and y_test dataframe by column and assign it to the new dataframe 'Test_Data'\n",
    "# b):Concatenate Test_data and Predicted dataframe by column assign it to the new dataframe 'Check_Prediction'"
   ]
  },
  {
   "cell_type": "code",
   "execution_count": 392,
   "metadata": {
    "id": "JKuE_0hFdkwe"
   },
   "outputs": [],
   "source": [
    "#Write the code below\n",
    "Test_data=X_test.reset_index()\n",
    "y_predict = pd.DataFrame(y_predict,columns =['Prediction'])\n",
    "Check_Prediction=pd.concat([Test_data,y_predict],axis=1)"
   ]
  },
  {
   "cell_type": "markdown",
   "metadata": {
    "id": "mGLQqIa8XdNO"
   },
   "source": [
    "We will calculate the accuracy now :"
   ]
  },
  {
   "cell_type": "code",
   "execution_count": 393,
   "metadata": {
    "id": "cWjfMLG-53de"
   },
   "outputs": [],
   "source": [
    "# Question 9) :Calculate the accuracy obtained for the algorithm used above\n",
    "#              Assign the accuracy to ans[8] and store it as 'Accuracy_NearestMean'"
   ]
  },
  {
   "cell_type": "code",
   "execution_count": 394,
   "metadata": {
    "id": "O2wX75VG53de"
   },
   "outputs": [],
   "source": [
    "#NOTE - Accuracy = Correct_Predictions/Total_Predictions\n",
    "#Write the code below\n",
    "correct=sum(Check_Prediction['Species_encoded']==Check_Prediction['Prediction'])\n",
    "total=len(Check_Prediction['Species_encoded'])\n",
    "Accuracy=correct/total\n",
    "Accuracy_NearestMean=Accuracy\n",
    "# 1 mark\n",
    "ans[8] = Accuracy"
   ]
  },
  {
   "cell_type": "markdown",
   "metadata": {
    "id": "UvlN-5zaXdNR"
   },
   "source": [
    "Now let us have a look at the values that we did not predicted correctly :"
   ]
  },
  {
   "cell_type": "code",
   "execution_count": 395,
   "metadata": {
    "id": "8ffJPAGZ6EEg"
   },
   "outputs": [
    {
     "data": {
      "image/png": "[encoded data removed]",
      "text/plain": [
       "<Figure size 432x288 with 1 Axes>"
      ]
     },
     "metadata": {
      "needs_background": "light"
     },
     "output_type": "display_data"
    },
    {
     "data": {
      "text/plain": [
       "<Figure size 432x288 with 0 Axes>"
      ]
     },
     "metadata": {},
     "output_type": "display_data"
    },
    {
     "data": {
      "image/png": "[encoded data removed]",
      "text/plain": [
       "<Figure size 432x288 with 1 Axes>"
      ]
     },
     "metadata": {
      "needs_background": "light"
     },
     "output_type": "display_data"
    }
   ],
   "source": [
    "#Plot the data category wise using scatter plot and visualize the data. Also include labels and legend.\n",
    "#Write the code below\n",
    "Check_Prediction = Check_Prediction.rename(columns = {'sepal length (cm)' : 'SepalLengthCm','petal width (cm)' : 'PetalWidthCm' })\n",
    "plt.figure()\n",
    "setosa1 = Check_Prediction[Check_Prediction['Prediction']==0]\n",
    "versicolor1 = Check_Prediction[Check_Prediction['Prediction']==1]\n",
    "virginica1 = Check_Prediction[Check_Prediction['Prediction']==2]\n",
    "plt.scatter(setosa1['SepalLengthCm'], setosa1['PetalWidthCm'], label='setosa')\n",
    "plt.scatter(versicolor1['SepalLengthCm'], versicolor1['PetalWidthCm'], label='versicolor')\n",
    "plt.scatter(virginica1['SepalLengthCm'], virginica1['PetalWidthCm'], label='virginica')\n",
    "plt.xlabel('sepal length (cm)')\n",
    "plt.ylabel('petal width (cm)')\n",
    "plt.legend()\n",
    "plt.title('Predicted Species Visualization')\n",
    "plt.show()\n",
    "plt.clf()\n",
    "plt.figure()\n",
    "#Implement the below code snippet to see the values that were not predicted correctly\n",
    "for index in Check_Prediction.index:\n",
    "    if(Check_Prediction['Species_encoded'][index]==Check_Prediction['Prediction'][index]):\n",
    "        plt.scatter(Check_Prediction['SepalLengthCm'][index],Check_Prediction['PetalWidthCm'][index],marker='x',c='m')\n",
    "    else:\n",
    "        plt.scatter(Check_Prediction['SepalLengthCm'][index],Check_Prediction['PetalWidthCm'][index],marker='*',c='y')"
   ]
  },
  {
   "cell_type": "markdown",
   "metadata": {
    "id": "DBMGlXuIzne2"
   },
   "source": [
    "We should only use this method if time complexity is really important to us as this method estimates the boundary just based on the mean which cannot be always relied on. Hence we see that as the mean of Green and Blue are close together, there are many wrong predictions in that region."
   ]
  },
  {
   "cell_type": "markdown",
   "metadata": {
    "id": "5LXFnIyY7aLu"
   },
   "source": [
    "**9) Compare Results**"
   ]
  },
  {
   "cell_type": "code",
   "execution_count": 396,
   "metadata": {
    "id": "Q534dbt_0fvi"
   },
   "outputs": [
    {
     "name": "stdout",
     "output_type": "stream",
     "text": [
      "ACCURACIES:\n",
      "\n",
      "Nearest Neighbours= 0.9\n",
      "K Nearest Neighbours(k = 5) = 0.9666666666666667\n",
      "K Nearest Neighbours(k = 2) = 0.84375\n",
      "K Nearest Neighbours(k = 12) = 0.9375\n",
      "Nearest Mean= 0.34375\n",
      "=========================================================================\n",
      "TIMINGS:\n",
      "\n",
      "Nearest Neighbours= 0.02296757698059082\n",
      "K Nearest Neighbours(k = 5) = 0.021732807159423828\n",
      "K Nearest Neighbours(k = 2) = 0.022489547729492188\n",
      "K Nearest Neighbours(k = 12) = 0.022112607955932617\n",
      "Nearest Mean= 0.00608515739440918\n",
      "=========================================================================\n"
     ]
    }
   ],
   "source": [
    "# Do not make changes in this cell\n",
    "# Simply execute it and move on\n",
    "print(\"ACCURACIES:\\n\")\n",
    "print(\"Nearest Neighbours=\",Accuracy_NearestNeighbours)\n",
    "print(\"K Nearest Neighbours(k = 5) =\",Accuracy_k5_NearestNeighbours)\n",
    "print(\"K Nearest Neighbours(k = 2) =\",Accuracy_k2_NearestNeighbours)\n",
    "print(\"K Nearest Neighbours(k = 12) =\",Accuracy_k12_NearestNeighbours)\n",
    "print(\"Nearest Mean=\",Accuracy_NearestMean)\n",
    "print(\"=========================================================================\")\n",
    "print(\"TIMINGS:\\n\")\n",
    "print(\"Nearest Neighbours=\",time_NN)\n",
    "print(\"K Nearest Neighbours(k = 5) =\",time_k5_NN)\n",
    "print(\"K Nearest Neighbours(k = 2) =\",time_k2_NN)\n",
    "print(\"K Nearest Neighbours(k = 12) =\",time_k12_NN)\n",
    "print(\"Nearest Mean=\",time_NM)\n",
    "print(\"=========================================================================\")"
   ]
  },
  {
   "cell_type": "markdown",
   "metadata": {
    "id": "BlAlz9e2fX0Y"
   },
   "source": [
    "On comparing the 3 timings of kNN, we see that the model with least k takes the __B__ time. It feels wrong but it does makes sense. I will explain why.\n",
    "\n",
    "When k is low, the decision boundary changes a lot of times, ie there is a sudden change in the class in a small distance, while when k is large, the decision boundary is smoother and does not changes as often which helps when it comes to time complexity."
   ]
  },
  {
   "cell_type": "code",
   "execution_count": 397,
   "metadata": {
    "id": "OS-Q6NNfeg5G"
   },
   "outputs": [],
   "source": [
    "#Question 10) What will come inplace of B \n",
    "#            Assign the answer to ans[9] for B \n",
    "# B = highest or lowest? Write your response as \"highest\" or \"lowest\" to the ans[9].\n",
    "# Answer is case sensitive. Adhere to the choices given."
   ]
  },
  {
   "cell_type": "code",
   "execution_count": 398,
   "metadata": {
    "id": "acY-paqEekLA"
   },
   "outputs": [],
   "source": [
    "# 1 marks\n",
    "ans[9] = \"highest\""
   ]
  },
  {
   "cell_type": "markdown",
   "metadata": {
    "id": "iHuE2_8j218i"
   },
   "source": [
    "On comparing the 3 plots, we can see that most of the errors occur at the boundary of 2 different classes. We reduce it slightly using the k nearest neighbours but not completely. \n",
    "\n",
    "Although Nearest mean has a significantly lower time than the other 2 processes, it is not a preffered method. It is because it has very low accuracy and it is very uncertain.\n",
    "\n",
    "The most preffered algorithm is the k nearest neighbour algorithm as it gives very good accuracy as well as acceptable runtime."
   ]
  },
  {
   "cell_type": "markdown",
   "metadata": {
    "id": "OIf1KR2Sf-vP"
   },
   "source": [
    "**sklearn Library**"
   ]
  },
  {
   "cell_type": "markdown",
   "metadata": {
    "id": "vgcrHnVKgExY"
   },
   "source": [
    "There is an inbuilt function to directly perform kNN from sklearn library."
   ]
  },
  {
   "cell_type": "code",
   "execution_count": 399,
   "metadata": {
    "id": "e-0-jShel5GV"
   },
   "outputs": [],
   "source": [
    "# Do not make changes in the below cells\n",
    "# Simply execute it and move on\n",
    "X_train=X_train.drop(['Species_encoded'],axis=1)"
   ]
  },
  {
   "cell_type": "code",
   "execution_count": 400,
   "metadata": {
    "id": "hR4B5bIbgD9k"
   },
   "outputs": [],
   "source": [
    "# Import the library\n",
    "X_test=X_test.drop(['Species_encoded'],axis=1)\n",
    "from sklearn.neighbors import KNeighborsClassifier "
   ]
  },
  {
   "cell_type": "markdown",
   "metadata": {
    "id": "FTsAEdWpg0qm"
   },
   "source": [
    "We will first do for k = 4"
   ]
  },
  {
   "cell_type": "code",
   "execution_count": 401,
   "metadata": {
    "id": "L7zbW464gplX"
   },
   "outputs": [
    {
     "name": "stdout",
     "output_type": "stream",
     "text": [
      "[0 0 0 0 0 2 1 0 2 1 1 0 1 1 2 0 1 2 2 0 2 2 2 1 0 2 1 1 1 1 0 0 2 1 0 0 1\n",
      " 0 2 1 2 1 0 0 2 1 0 1 2 1 0 0 2 1 1 0 2 0 2 1 1 1 1 1]\n"
     ]
    },
    {
     "name": "stderr",
     "output_type": "stream",
     "text": [
      "/home/ec2-user/anaconda3/envs/python3/lib/python3.6/site-packages/sklearn/neighbors/_classification.py:179: DataConversionWarning: A column-vector y was passed when a 1d array was expected. Please change the shape of y to (n_samples,), for example using ravel().\n",
      "  return self._fit(X, y)\n"
     ]
    }
   ],
   "source": [
    "neigh = KNeighborsClassifier(n_neighbors=4)\n",
    "neigh.fit(X_train,y_train)\n",
    "Predicted = neigh.predict(X_test)\n",
    "print(Predicted)"
   ]
  },
  {
   "cell_type": "markdown",
   "metadata": {
    "id": "VUWpQ5DFhf4s"
   },
   "source": [
    "sklearn also has a funtion to calculate accuracy"
   ]
  },
  {
   "cell_type": "code",
   "execution_count": 402,
   "metadata": {
    "id": "6vaxkYyagtoB"
   },
   "outputs": [
    {
     "name": "stdout",
     "output_type": "stream",
     "text": [
      "Accuracy =  0.953125\n"
     ]
    }
   ],
   "source": [
    "#Import scikit-learn metrics module for accuracy calculation\n",
    "from sklearn import metrics\n",
    "# Model Accuracy, how often is the classifier correct?\n",
    "print(\"Accuracy = \",metrics.accuracy_score(y_test,Predicted))"
   ]
  },
  {
   "cell_type": "code",
   "execution_count": 403,
   "metadata": {
    "id": "At5RTZpqK3e0"
   },
   "outputs": [],
   "source": [
    "# Run the this cell to submit your answers and get score evaluated\"\n",
    "# Do not make any changes in this cell\n",
    "# Simply execute it and move on\n",
    "\n",
    "ans = [item for item in ans]\n",
    "with open('ans.json', 'w') as f:\n",
    "    json.dump(ans, f)"
   ]
  },
  {
   "cell_type": "code",
   "execution_count": 404,
   "metadata": {},
   "outputs": [
    {
     "name": "stdout",
     "output_type": "stream",
     "text": [
      "{'accuracy': 0.4,\r\n",
      " 'response': [{'obtained_marks': 0, 'question': 1, 'total_marks': 1},\r\n",
      "              {'obtained_marks': 1, 'question': 2, 'total_marks': 1},\r\n",
      "              {'obtained_marks': 0, 'question': 3, 'total_marks': 1},\r\n",
      "              {'obtained_marks': 1, 'question': 4, 'total_marks': 1},\r\n",
      "              {'obtained_marks': 0, 'question': 5, 'total_marks': 1},\r\n",
      "              {'obtained_marks': 0, 'question': 6, 'total_marks': 1},\r\n",
      "              {'obtained_marks': 1, 'question': 7, 'total_marks': 1},\r\n",
      "              {'obtained_marks': 0, 'question': 8, 'total_marks': 1},\r\n",
      "              {'obtained_marks': 0, 'question': 9, 'total_marks': 1},\r\n",
      "              {'obtained_marks': 1, 'question': 10, 'total_marks': 1}],\r\n",
      " 'status': 'Success'}\r\n"
     ]
    }
   ],
   "source": [
    "! ../submit ans.json"
   ]
  },
  {
   "cell_type": "markdown",
   "metadata": {
    "id": "8QQD6620h0fw"
   },
   "source": [
    "That is all for Tutorial 6."
   ]
  }
 ],
 "metadata": {
  "colab": {
   "collapsed_sections": [],
   "name": "KNN(Project)-Akshat_Kumar_Gupta.ipynb",
   "provenance": [],
   "toc_visible": true
  },
  "kernelspec": {
   "display_name": "Python 3",
   "language": "python",
   "name": "python3"
  },
  "language_info": {
   "codemirror_mode": {
    "name": "ipython",
    "version": 3
   },
   "file_extension": ".py",
   "mimetype": "text/x-python",
   "name": "python",
   "nbconvert_exporter": "python",
   "pygments_lexer": "ipython3",
   "version": "3.7.0"
  }
 },
 "nbformat": 4,
 "nbformat_minor": 1
}

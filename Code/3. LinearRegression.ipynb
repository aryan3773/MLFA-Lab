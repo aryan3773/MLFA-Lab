{
  "nbformat": 4,
  "nbformat_minor": 0,
  "metadata": {
    "colab": {
      "name": "group5_aryanpcm@gmail.com_Aryan_Singh_LinearRegression.ipynb",
      "provenance": [],
      "collapsed_sections": [],
      "toc_visible": true
    },
    "kernelspec": {
      "display_name": "Python 3",
      "language": "python",
      "name": "python3"
    },
    "language_info": {
      "codemirror_mode": {
        "name": "ipython",
        "version": 3
      },
      "file_extension": ".py",
      "mimetype": "text/x-python",
      "name": "python",
      "nbconvert_exporter": "python",
      "pygments_lexer": "ipython3",
      "version": "3.7.0"
    }
  },
  "cells": [
    {
      "cell_type": "markdown",
      "metadata": {
        "id": "uk0Q4PqI3ilf"
      },
      "source": [
        "## **Linear Regression**\n",
        " The aim of this exercise is to predict house sales in King County, Washington State, USA using Multiple Linear Regression (MLR). The dataset consists of historic data of houses sold between May 2014 to May 2015.\n",
        "\n",
        " You have to build a Linear Regression model with the features mentioned in the later part of the assignment"
      ]
    },
    {
      "cell_type": "code",
      "metadata": {
        "id": "r6dNJ-oRvzXI"
      },
      "source": [
        "ans=[0]*10"
      ],
      "execution_count": null,
      "outputs": []
    },
    {
      "cell_type": "markdown",
      "metadata": {
        "id": "FFF4STO36AbE"
      },
      "source": [
        "### **Data Understanding and Importing libraries**"
      ]
    },
    {
      "cell_type": "markdown",
      "metadata": {
        "id": "PEIAxERnF-6O"
      },
      "source": [
        "### **Import necessary libraries**\n",
        "+ Numpy\n",
        "+ Pandas\n",
        "+ Sklearn"
      ]
    },
    {
      "cell_type": "code",
      "metadata": {
        "id": "m9VRx9gXJ_Wt"
      },
      "source": [
        "# Import important libraries library\n",
        "###YOUR CODE HERE###\n",
        "import numpy as np\n",
        "import pandas as pd\n",
        "import sklearn\n",
        "import matplotlib.pyplot as plt\n",
        "###END###\n",
        "from sklearn.model_selection import train_test_split\n",
        "from sklearn import linear_model\n",
        "\n",
        "\n"
      ],
      "execution_count": null,
      "outputs": []
    },
    {
      "cell_type": "markdown",
      "metadata": {
        "id": "khLqf1wJJ0NL"
      },
      "source": [
        "#### **Import the dataset provided along the exercise (kc_house_data.csv) and look for the top 5 rows of the data**"
      ]
    },
    {
      "cell_type": "code",
      "metadata": {
        "id": "7BE8gupSKds9",
        "colab": {
          "base_uri": "https://localhost:8080/",
          "height": 223
        },
        "outputId": "cfa5b9a8-429d-4b38-9367-ae3a9371ccb1"
      },
      "source": [
        "###YOUR CODE HERE###\n",
        "data=pd.read_csv(\"kc_house_data.csv\")\n",
        "data.head(5)\n",
        "###END###"
      ],
      "execution_count": null,
      "outputs": [
        {
          "output_type": "execute_result",
          "data": {
            "text/html": [
              "<div>\n",
              "<style scoped>\n",
              "    .dataframe tbody tr th:only-of-type {\n",
              "        vertical-align: middle;\n",
              "    }\n",
              "\n",
              "    .dataframe tbody tr th {\n",
              "        vertical-align: top;\n",
              "    }\n",
              "\n",
              "    .dataframe thead th {\n",
              "        text-align: right;\n",
              "    }\n",
              "</style>\n",
              "<table border=\"1\" class=\"dataframe\">\n",
              "  <thead>\n",
              "    <tr style=\"text-align: right;\">\n",
              "      <th></th>\n",
              "      <th>id</th>\n",
              "      <th>date</th>\n",
              "      <th>price</th>\n",
              "      <th>bedrooms</th>\n",
              "      <th>bathrooms</th>\n",
              "      <th>sqft_living</th>\n",
              "      <th>sqft_lot</th>\n",
              "      <th>floors</th>\n",
              "      <th>waterfront</th>\n",
              "      <th>view</th>\n",
              "      <th>condition</th>\n",
              "      <th>grade</th>\n",
              "      <th>sqft_above</th>\n",
              "      <th>sqft_basement</th>\n",
              "      <th>yr_built</th>\n",
              "      <th>yr_renovated</th>\n",
              "      <th>zipcode</th>\n",
              "      <th>lat</th>\n",
              "      <th>long</th>\n",
              "      <th>sqft_living15</th>\n",
              "      <th>sqft_lot15</th>\n",
              "    </tr>\n",
              "  </thead>\n",
              "  <tbody>\n",
              "    <tr>\n",
              "      <th>0</th>\n",
              "      <td>7129300520</td>\n",
              "      <td>20141013T000000</td>\n",
              "      <td>221900.0</td>\n",
              "      <td>3</td>\n",
              "      <td>1.00</td>\n",
              "      <td>1180</td>\n",
              "      <td>5650</td>\n",
              "      <td>1.0</td>\n",
              "      <td>0</td>\n",
              "      <td>0</td>\n",
              "      <td>3</td>\n",
              "      <td>7</td>\n",
              "      <td>1180.0</td>\n",
              "      <td>0</td>\n",
              "      <td>1955</td>\n",
              "      <td>0</td>\n",
              "      <td>98178</td>\n",
              "      <td>47.5112</td>\n",
              "      <td>-122.257</td>\n",
              "      <td>1340</td>\n",
              "      <td>5650</td>\n",
              "    </tr>\n",
              "    <tr>\n",
              "      <th>1</th>\n",
              "      <td>6414100192</td>\n",
              "      <td>20141209T000000</td>\n",
              "      <td>538000.0</td>\n",
              "      <td>3</td>\n",
              "      <td>2.25</td>\n",
              "      <td>2570</td>\n",
              "      <td>7242</td>\n",
              "      <td>2.0</td>\n",
              "      <td>0</td>\n",
              "      <td>0</td>\n",
              "      <td>3</td>\n",
              "      <td>7</td>\n",
              "      <td>2170.0</td>\n",
              "      <td>400</td>\n",
              "      <td>1951</td>\n",
              "      <td>1991</td>\n",
              "      <td>98125</td>\n",
              "      <td>47.7210</td>\n",
              "      <td>-122.319</td>\n",
              "      <td>1690</td>\n",
              "      <td>7639</td>\n",
              "    </tr>\n",
              "    <tr>\n",
              "      <th>2</th>\n",
              "      <td>5631500400</td>\n",
              "      <td>20150225T000000</td>\n",
              "      <td>180000.0</td>\n",
              "      <td>2</td>\n",
              "      <td>1.00</td>\n",
              "      <td>770</td>\n",
              "      <td>10000</td>\n",
              "      <td>1.0</td>\n",
              "      <td>0</td>\n",
              "      <td>0</td>\n",
              "      <td>3</td>\n",
              "      <td>6</td>\n",
              "      <td>770.0</td>\n",
              "      <td>0</td>\n",
              "      <td>1933</td>\n",
              "      <td>0</td>\n",
              "      <td>98028</td>\n",
              "      <td>47.7379</td>\n",
              "      <td>-122.233</td>\n",
              "      <td>2720</td>\n",
              "      <td>8062</td>\n",
              "    </tr>\n",
              "    <tr>\n",
              "      <th>3</th>\n",
              "      <td>2487200875</td>\n",
              "      <td>20141209T000000</td>\n",
              "      <td>604000.0</td>\n",
              "      <td>4</td>\n",
              "      <td>3.00</td>\n",
              "      <td>1960</td>\n",
              "      <td>5000</td>\n",
              "      <td>1.0</td>\n",
              "      <td>0</td>\n",
              "      <td>0</td>\n",
              "      <td>5</td>\n",
              "      <td>7</td>\n",
              "      <td>1050.0</td>\n",
              "      <td>910</td>\n",
              "      <td>1965</td>\n",
              "      <td>0</td>\n",
              "      <td>98136</td>\n",
              "      <td>47.5208</td>\n",
              "      <td>-122.393</td>\n",
              "      <td>1360</td>\n",
              "      <td>5000</td>\n",
              "    </tr>\n",
              "    <tr>\n",
              "      <th>4</th>\n",
              "      <td>1954400510</td>\n",
              "      <td>20150218T000000</td>\n",
              "      <td>510000.0</td>\n",
              "      <td>3</td>\n",
              "      <td>2.00</td>\n",
              "      <td>1680</td>\n",
              "      <td>8080</td>\n",
              "      <td>1.0</td>\n",
              "      <td>0</td>\n",
              "      <td>0</td>\n",
              "      <td>3</td>\n",
              "      <td>8</td>\n",
              "      <td>1680.0</td>\n",
              "      <td>0</td>\n",
              "      <td>1987</td>\n",
              "      <td>0</td>\n",
              "      <td>98074</td>\n",
              "      <td>47.6168</td>\n",
              "      <td>-122.045</td>\n",
              "      <td>1800</td>\n",
              "      <td>7503</td>\n",
              "    </tr>\n",
              "  </tbody>\n",
              "</table>\n",
              "</div>"
            ],
            "text/plain": [
              "           id             date     price  ...     long  sqft_living15  sqft_lot15\n",
              "0  7129300520  20141013T000000  221900.0  ... -122.257           1340        5650\n",
              "1  6414100192  20141209T000000  538000.0  ... -122.319           1690        7639\n",
              "2  5631500400  20150225T000000  180000.0  ... -122.233           2720        8062\n",
              "3  2487200875  20141209T000000  604000.0  ... -122.393           1360        5000\n",
              "4  1954400510  20150218T000000  510000.0  ... -122.045           1800        7503\n",
              "\n",
              "[5 rows x 21 columns]"
            ]
          },
          "metadata": {},
          "execution_count": 21
        }
      ]
    },
    {
      "cell_type": "code",
      "metadata": {
        "id": "7TjHXhjHBVMB",
        "colab": {
          "base_uri": "https://localhost:8080/",
          "height": 315
        },
        "outputId": "4080819d-59b2-46c7-9652-2933c8b6a5c4"
      },
      "source": [
        "#Take information about the data\n",
        "###YOUR CODE HERE###\n",
        "data.describe()\n",
        "###END###"
      ],
      "execution_count": null,
      "outputs": [
        {
          "output_type": "execute_result",
          "data": {
            "text/html": [
              "<div>\n",
              "<style scoped>\n",
              "    .dataframe tbody tr th:only-of-type {\n",
              "        vertical-align: middle;\n",
              "    }\n",
              "\n",
              "    .dataframe tbody tr th {\n",
              "        vertical-align: top;\n",
              "    }\n",
              "\n",
              "    .dataframe thead th {\n",
              "        text-align: right;\n",
              "    }\n",
              "</style>\n",
              "<table border=\"1\" class=\"dataframe\">\n",
              "  <thead>\n",
              "    <tr style=\"text-align: right;\">\n",
              "      <th></th>\n",
              "      <th>id</th>\n",
              "      <th>price</th>\n",
              "      <th>bedrooms</th>\n",
              "      <th>bathrooms</th>\n",
              "      <th>sqft_living</th>\n",
              "      <th>sqft_lot</th>\n",
              "      <th>floors</th>\n",
              "      <th>waterfront</th>\n",
              "      <th>view</th>\n",
              "      <th>condition</th>\n",
              "      <th>grade</th>\n",
              "      <th>sqft_above</th>\n",
              "      <th>sqft_basement</th>\n",
              "      <th>yr_built</th>\n",
              "      <th>yr_renovated</th>\n",
              "      <th>zipcode</th>\n",
              "      <th>lat</th>\n",
              "      <th>long</th>\n",
              "      <th>sqft_living15</th>\n",
              "      <th>sqft_lot15</th>\n",
              "    </tr>\n",
              "  </thead>\n",
              "  <tbody>\n",
              "    <tr>\n",
              "      <th>count</th>\n",
              "      <td>2.161300e+04</td>\n",
              "      <td>2.161300e+04</td>\n",
              "      <td>21613.000000</td>\n",
              "      <td>21613.000000</td>\n",
              "      <td>21613.000000</td>\n",
              "      <td>2.161300e+04</td>\n",
              "      <td>21613.000000</td>\n",
              "      <td>21613.000000</td>\n",
              "      <td>21613.000000</td>\n",
              "      <td>21613.000000</td>\n",
              "      <td>21613.000000</td>\n",
              "      <td>21611.000000</td>\n",
              "      <td>21613.000000</td>\n",
              "      <td>21613.000000</td>\n",
              "      <td>21613.000000</td>\n",
              "      <td>21613.000000</td>\n",
              "      <td>21613.000000</td>\n",
              "      <td>21613.000000</td>\n",
              "      <td>21613.000000</td>\n",
              "      <td>21613.000000</td>\n",
              "    </tr>\n",
              "    <tr>\n",
              "      <th>mean</th>\n",
              "      <td>4.580302e+09</td>\n",
              "      <td>5.400881e+05</td>\n",
              "      <td>3.370842</td>\n",
              "      <td>2.114757</td>\n",
              "      <td>2079.899736</td>\n",
              "      <td>1.510697e+04</td>\n",
              "      <td>1.494309</td>\n",
              "      <td>0.007542</td>\n",
              "      <td>0.234303</td>\n",
              "      <td>3.409430</td>\n",
              "      <td>7.656873</td>\n",
              "      <td>1788.396095</td>\n",
              "      <td>291.509045</td>\n",
              "      <td>1971.005136</td>\n",
              "      <td>84.402258</td>\n",
              "      <td>98077.939805</td>\n",
              "      <td>47.560053</td>\n",
              "      <td>-122.213896</td>\n",
              "      <td>1986.552492</td>\n",
              "      <td>12768.455652</td>\n",
              "    </tr>\n",
              "    <tr>\n",
              "      <th>std</th>\n",
              "      <td>2.876566e+09</td>\n",
              "      <td>3.671272e+05</td>\n",
              "      <td>0.930062</td>\n",
              "      <td>0.770163</td>\n",
              "      <td>918.440897</td>\n",
              "      <td>4.142051e+04</td>\n",
              "      <td>0.539989</td>\n",
              "      <td>0.086517</td>\n",
              "      <td>0.766318</td>\n",
              "      <td>0.650743</td>\n",
              "      <td>1.175459</td>\n",
              "      <td>828.128162</td>\n",
              "      <td>442.575043</td>\n",
              "      <td>29.373411</td>\n",
              "      <td>401.679240</td>\n",
              "      <td>53.505026</td>\n",
              "      <td>0.138564</td>\n",
              "      <td>0.140828</td>\n",
              "      <td>685.391304</td>\n",
              "      <td>27304.179631</td>\n",
              "    </tr>\n",
              "    <tr>\n",
              "      <th>min</th>\n",
              "      <td>1.000102e+06</td>\n",
              "      <td>7.500000e+04</td>\n",
              "      <td>0.000000</td>\n",
              "      <td>0.000000</td>\n",
              "      <td>290.000000</td>\n",
              "      <td>5.200000e+02</td>\n",
              "      <td>1.000000</td>\n",
              "      <td>0.000000</td>\n",
              "      <td>0.000000</td>\n",
              "      <td>1.000000</td>\n",
              "      <td>1.000000</td>\n",
              "      <td>290.000000</td>\n",
              "      <td>0.000000</td>\n",
              "      <td>1900.000000</td>\n",
              "      <td>0.000000</td>\n",
              "      <td>98001.000000</td>\n",
              "      <td>47.155900</td>\n",
              "      <td>-122.519000</td>\n",
              "      <td>399.000000</td>\n",
              "      <td>651.000000</td>\n",
              "    </tr>\n",
              "    <tr>\n",
              "      <th>25%</th>\n",
              "      <td>2.123049e+09</td>\n",
              "      <td>3.219500e+05</td>\n",
              "      <td>3.000000</td>\n",
              "      <td>1.750000</td>\n",
              "      <td>1427.000000</td>\n",
              "      <td>5.040000e+03</td>\n",
              "      <td>1.000000</td>\n",
              "      <td>0.000000</td>\n",
              "      <td>0.000000</td>\n",
              "      <td>3.000000</td>\n",
              "      <td>7.000000</td>\n",
              "      <td>1190.000000</td>\n",
              "      <td>0.000000</td>\n",
              "      <td>1951.000000</td>\n",
              "      <td>0.000000</td>\n",
              "      <td>98033.000000</td>\n",
              "      <td>47.471000</td>\n",
              "      <td>-122.328000</td>\n",
              "      <td>1490.000000</td>\n",
              "      <td>5100.000000</td>\n",
              "    </tr>\n",
              "    <tr>\n",
              "      <th>50%</th>\n",
              "      <td>3.904930e+09</td>\n",
              "      <td>4.500000e+05</td>\n",
              "      <td>3.000000</td>\n",
              "      <td>2.250000</td>\n",
              "      <td>1910.000000</td>\n",
              "      <td>7.618000e+03</td>\n",
              "      <td>1.500000</td>\n",
              "      <td>0.000000</td>\n",
              "      <td>0.000000</td>\n",
              "      <td>3.000000</td>\n",
              "      <td>7.000000</td>\n",
              "      <td>1560.000000</td>\n",
              "      <td>0.000000</td>\n",
              "      <td>1975.000000</td>\n",
              "      <td>0.000000</td>\n",
              "      <td>98065.000000</td>\n",
              "      <td>47.571800</td>\n",
              "      <td>-122.230000</td>\n",
              "      <td>1840.000000</td>\n",
              "      <td>7620.000000</td>\n",
              "    </tr>\n",
              "    <tr>\n",
              "      <th>75%</th>\n",
              "      <td>7.308900e+09</td>\n",
              "      <td>6.450000e+05</td>\n",
              "      <td>4.000000</td>\n",
              "      <td>2.500000</td>\n",
              "      <td>2550.000000</td>\n",
              "      <td>1.068800e+04</td>\n",
              "      <td>2.000000</td>\n",
              "      <td>0.000000</td>\n",
              "      <td>0.000000</td>\n",
              "      <td>4.000000</td>\n",
              "      <td>8.000000</td>\n",
              "      <td>2210.000000</td>\n",
              "      <td>560.000000</td>\n",
              "      <td>1997.000000</td>\n",
              "      <td>0.000000</td>\n",
              "      <td>98118.000000</td>\n",
              "      <td>47.678000</td>\n",
              "      <td>-122.125000</td>\n",
              "      <td>2360.000000</td>\n",
              "      <td>10083.000000</td>\n",
              "    </tr>\n",
              "    <tr>\n",
              "      <th>max</th>\n",
              "      <td>9.900000e+09</td>\n",
              "      <td>7.700000e+06</td>\n",
              "      <td>33.000000</td>\n",
              "      <td>8.000000</td>\n",
              "      <td>13540.000000</td>\n",
              "      <td>1.651359e+06</td>\n",
              "      <td>3.500000</td>\n",
              "      <td>1.000000</td>\n",
              "      <td>4.000000</td>\n",
              "      <td>5.000000</td>\n",
              "      <td>13.000000</td>\n",
              "      <td>9410.000000</td>\n",
              "      <td>4820.000000</td>\n",
              "      <td>2015.000000</td>\n",
              "      <td>2015.000000</td>\n",
              "      <td>98199.000000</td>\n",
              "      <td>47.777600</td>\n",
              "      <td>-121.315000</td>\n",
              "      <td>6210.000000</td>\n",
              "      <td>871200.000000</td>\n",
              "    </tr>\n",
              "  </tbody>\n",
              "</table>\n",
              "</div>"
            ],
            "text/plain": [
              "                 id         price  ...  sqft_living15     sqft_lot15\n",
              "count  2.161300e+04  2.161300e+04  ...   21613.000000   21613.000000\n",
              "mean   4.580302e+09  5.400881e+05  ...    1986.552492   12768.455652\n",
              "std    2.876566e+09  3.671272e+05  ...     685.391304   27304.179631\n",
              "min    1.000102e+06  7.500000e+04  ...     399.000000     651.000000\n",
              "25%    2.123049e+09  3.219500e+05  ...    1490.000000    5100.000000\n",
              "50%    3.904930e+09  4.500000e+05  ...    1840.000000    7620.000000\n",
              "75%    7.308900e+09  6.450000e+05  ...    2360.000000   10083.000000\n",
              "max    9.900000e+09  7.700000e+06  ...    6210.000000  871200.000000\n",
              "\n",
              "[8 rows x 20 columns]"
            ]
          },
          "metadata": {},
          "execution_count": 22
        }
      ]
    },
    {
      "cell_type": "code",
      "metadata": {
        "id": "3v4E9p5JPXpD",
        "colab": {
          "base_uri": "https://localhost:8080/",
          "height": 634
        },
        "outputId": "8e8515d4-84a0-40dd-9d50-13e5828906a3"
      },
      "source": [
        "#PLOT HISTOGRAM\n",
        "###YOUR CODE HERE###\n",
        "data.hist()\n",
        "###END###"
      ],
      "execution_count": null,
      "outputs": [
        {
          "output_type": "execute_result",
          "data": {
            "text/plain": [
              "array([[<matplotlib.axes._subplots.AxesSubplot object at 0x7f60271954d0>,\n",
              "        <matplotlib.axes._subplots.AxesSubplot object at 0x7f6027898b10>,\n",
              "        <matplotlib.axes._subplots.AxesSubplot object at 0x7f60282b9190>,\n",
              "        <matplotlib.axes._subplots.AxesSubplot object at 0x7f602832e9d0>],\n",
              "       [<matplotlib.axes._subplots.AxesSubplot object at 0x7f602787e0d0>,\n",
              "        <matplotlib.axes._subplots.AxesSubplot object at 0x7f60279bd390>,\n",
              "        <matplotlib.axes._subplots.AxesSubplot object at 0x7f60279a6f10>,\n",
              "        <matplotlib.axes._subplots.AxesSubplot object at 0x7f602791c490>],\n",
              "       [<matplotlib.axes._subplots.AxesSubplot object at 0x7f602791c850>,\n",
              "        <matplotlib.axes._subplots.AxesSubplot object at 0x7f602837f790>,\n",
              "        <matplotlib.axes._subplots.AxesSubplot object at 0x7f602764c950>,\n",
              "        <matplotlib.axes._subplots.AxesSubplot object at 0x7f6028567990>],\n",
              "       [<matplotlib.axes._subplots.AxesSubplot object at 0x7f6028596c50>,\n",
              "        <matplotlib.axes._subplots.AxesSubplot object at 0x7f6027a6f390>,\n",
              "        <matplotlib.axes._subplots.AxesSubplot object at 0x7f6027ead910>,\n",
              "        <matplotlib.axes._subplots.AxesSubplot object at 0x7f60284ace90>],\n",
              "       [<matplotlib.axes._subplots.AxesSubplot object at 0x7f6027ffb450>,\n",
              "        <matplotlib.axes._subplots.AxesSubplot object at 0x7f60277a39d0>,\n",
              "        <matplotlib.axes._subplots.AxesSubplot object at 0x7f6028053f50>,\n",
              "        <matplotlib.axes._subplots.AxesSubplot object at 0x7f60277b7510>]],\n",
              "      dtype=object)"
            ]
          },
          "metadata": {},
          "execution_count": 23
        },
        {
          "output_type": "display_data",
          "data": {
            "image/png": "[encoded data removed]",
            "text/plain": [
              "<Figure size 432x288 with 20 Axes>"
            ]
          },
          "metadata": {
            "needs_background": "light"
          }
        }
      ]
    },
    {
      "cell_type": "markdown",
      "metadata": {
        "id": "5Ufo7qwD50Uw"
      },
      "source": [
        "### **Linear Regression using single feature**"
      ]
    },
    {
      "cell_type": "markdown",
      "metadata": {
        "id": "wTdUOlTTK3Nn"
      },
      "source": [
        "#### **Take 'sqft_living' as the feature vector and 'price' as the ouput vector.**\n",
        "Now plot X vs Y"
      ]
    },
    {
      "cell_type": "code",
      "metadata": {
        "id": "82nJbPutBfSk"
      },
      "source": [
        "###YOUR CODE HERE###\n",
        "X=data[\"sqft_living\"]\n",
        "y=data[\"price\"]\n",
        "###END###"
      ],
      "execution_count": null,
      "outputs": []
    },
    {
      "cell_type": "code",
      "metadata": {
        "colab": {
          "base_uri": "https://localhost:8080/",
          "height": 621
        },
        "id": "PccZo4UcBwi2",
        "outputId": "9fc705f7-b9a0-45f5-91e7-02d4599cc024"
      },
      "source": [
        "# Visualize the feature varible on scatter plot, include labels and legend\n",
        "figure, ax = plt.subplots(figsize= (12, 10))\n",
        "ax.scatter(X,y, color='blue')\n",
        "ax.set_xlabel('Area')\n",
        "ax.set_ylabel('Sales Price')\n",
        "ax.set_title('House pricing on the basis of area')\n",
        "plt.legend(['scatter plot']);"
      ],
      "execution_count": null,
      "outputs": [
        {
          "output_type": "display_data",
          "data": {
            "image/png": "[encoded data removed]",
            "text/plain": [
              "<Figure size 864x720 with 1 Axes>"
            ]
          },
          "metadata": {
            "needs_background": "light"
          }
        }
      ]
    },
    {
      "cell_type": "markdown",
      "metadata": {
        "id": "mRQGRDmzTqV_"
      },
      "source": [
        "Find the slope and intercept using basic numpy library.\n",
        "Here b1 is the slope and b0 is the index.\n",
        "![linreg.png](data:image/png;base64,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)"
      ]
    },
    {
      "cell_type": "markdown",
      "metadata": {
        "id": "aIQzqX5Qb3hR"
      },
      "source": [
        "Calculate w and b for one feature problem using the above formula"
      ]
    },
    {
      "cell_type": "code",
      "metadata": {
        "id": "D9W8bxTpCMSq"
      },
      "source": [
        "# Find out value of slop and intercept\n",
        "# Finding X_mean and y_mean\n",
        "\n",
        "###YOUR CODE HERE###\n",
        "x_mean = np.mean(X)\n",
        "y_mean = np.mean(y)\n",
        "x_mean,y_mean\n",
        "n = np.size(X)\n",
        "Sxy = np.sum(X*y)- n*x_mean*y_mean\n",
        "Sxx = np.sum(X*X)-n*x_mean*x_mean\n",
        "  \n",
        "w = Sxy/Sxx\n",
        "b = y_mean-w*x_mean\n",
        "###END###"
      ],
      "execution_count": null,
      "outputs": []
    },
    {
      "cell_type": "code",
      "metadata": {
        "id": "ij8RzfOhuK6z"
      },
      "source": [
        "#You have to put slope as ans[0] and intercept as ans[1]\n",
        "ans[0]=w \n",
        "ans[1]=b\n"
      ],
      "execution_count": null,
      "outputs": []
    },
    {
      "cell_type": "code",
      "metadata": {
        "id": "kPNHLNw-ENsg",
        "colab": {
          "base_uri": "https://localhost:8080/",
          "height": 621
        },
        "outputId": "dcc35d91-ab19-4690-bcc6-baf8af7965b6"
      },
      "source": [
        "# Find the equation of line(Fitting line) and draw it on scater plot feture variable\n",
        "# Make a figure with axis \n",
        "figure1, ax =plt.subplots(figsize= (12, 10))\n",
        "\n",
        "# Plot feature\n",
        "ax.scatter(X, y, color='blue')\n",
        "\n",
        "# Set title and axis labels\n",
        "ax.set_title('House Price')\n",
        "ax.set_xlabel('Area (SqFt)')\n",
        "ax.set_ylabel('Price of house')\n",
        "\n",
        "# Plot fitting line\n",
        "y_axis = w* X + b\n",
        "ax.plot(X, y_axis, color='red')\n",
        "\n",
        "# Set Legends\n",
        "ax.legend(labels=['fitting line', 'scatter plot']);"
      ],
      "execution_count": null,
      "outputs": [
        {
          "output_type": "display_data",
          "data": {
            "image/png": "[encoded data removed]",
            "text/plain": [
              "<Figure size 864x720 with 1 Axes>"
            ]
          },
          "metadata": {
            "needs_background": "light"
          }
        }
      ]
    },
    {
      "cell_type": "markdown",
      "metadata": {
        "id": "7Hx4PFwT5Wkt"
      },
      "source": [
        "### **Linear Regression of multiple features using sklearn**"
      ]
    },
    {
      "cell_type": "markdown",
      "metadata": {
        "id": "kXu3itgQonxc"
      },
      "source": [
        "This is the implementation for understanding.[Reference](https://scikit-learn.org/stable/modules/generated/sklearn.linear_model.LinearRegression.html)"
      ]
    },
    {
      "cell_type": "markdown",
      "metadata": {
        "id": "JlCzLm10oN8F"
      },
      "source": [
        "![image.png](data:image/png;base64,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)\n",
        "\n"
      ]
    },
    {
      "cell_type": "markdown",
      "metadata": {
        "id": "sYF3J5DFg52A"
      },
      "source": [
        "#### **Make the Regression model using sklearn library function**\n",
        "\n",
        "We would be using the following three parameters:\n",
        "+ 'sqft_living'\n",
        "+ 'condition'\n",
        "+ 'bedrooms'"
      ]
    },
    {
      "cell_type": "code",
      "metadata": {
        "id": "lORfedw6L-Xm"
      },
      "source": [
        "from sklearn.linear_model import LinearRegression\n",
        "from sklearn import metrics\n",
        "X=data[[\"sqft_living\",\"condition\",\"bedrooms\"]]\n",
        "y=data[\"price\"]\n",
        "X_train, X_test, y_train, y_test=train_test_split(X,y,train_size=0.8,random_state=3)\n",
        "reg = LinearRegression()\n",
        "\n",
        "### You have to write the code for calculating w and b for 3 features problem\n",
        "###YOUR CODE HERE###\n",
        "reg.fit(X_train,y_train)\n",
        "pred=reg.predict(X_test)\n",
        "###END###\n",
        "\n",
        "mean_squared_error=metrics.mean_squared_error(y_test,pred)\n"
      ],
      "execution_count": null,
      "outputs": []
    },
    {
      "cell_type": "markdown",
      "metadata": {
        "id": "B4vJYSJD9mrv"
      },
      "source": [
        "**Score function**\n",
        "\n",
        "```python\n",
        "score(X, y, sample_weight=None)\n",
        "```\n",
        "\n",
        "\n",
        "\n",
        "Return the coefficient of determination $R^2$ of the prediction.\n",
        "\n",
        "The coefficient $R^2$ is defined as $(1-u/v)$\n",
        " \n",
        ", where $u$ is the residual sum of squares ((y_true - y_pred) ** 2).sum() and $v$  is the total sum of squares ((y_true - y_true.mean()) ** 2).sum(). The best possible score is 1.0 and it can be negative (because the model can be arbitrarily worse). A constant model that always predicts the expected value of y, disregarding the input features, would get a  score of 0.0.\n",
        "\n"
      ]
    },
    {
      "cell_type": "markdown",
      "metadata": {
        "id": "ayh1zTBe6vp3"
      },
      "source": [
        "You have to store the answers as below\n",
        "**!Important** Do not store list as your answer only store number.\n",
        "\n",
        "e.g. \n",
        "-- If you have a 1x1 array then store a[0,0]\n",
        "\n",
        "-- If you have a list of single number then store a[0] \n",
        "+ ans[2] - **SquareRoot** of Mean Squared error on test set\n",
        "+ ans[3] - Score on train set. Can calculate using reg.score() function\n",
        "+ ans[4] - Score on test set.\n",
        "+ ans[5] - Intercept value (b)\n",
        "+ ans[6] - w[1] coefficient of first feature\n",
        "+ ans[7] - w[2] coefficient of second feature\n",
        "+ ans[8] - w[3] coefficient of third feature\n",
        "\n",
        " "
      ]
    },
    {
      "cell_type": "code",
      "metadata": {
        "id": "Og5KOrOR_ISa",
        "colab": {
          "base_uri": "https://localhost:8080/"
        },
        "outputId": "568b3f57-0429-4d16-b66c-e7e944b21ac8"
      },
      "source": [
        "ans[2]=round(np.sqrt(mean_squared_error),2)\n",
        "print('Sqaured mean error',ans[2] )\n",
        "ans[3]=round(reg.score(X_train,y_train),3)\n",
        "print('R squared training',ans[3])\n",
        "ans[4]=round(reg.score(X_test,y_test),3)\n",
        "print('R sqaured testing',ans[4] )\n",
        "ans[5]=reg.intercept_\n",
        "print('intercept',ans[5])\n",
        "ans[6]=reg.coef_[0]\n",
        "ans[7]=reg.coef_[1]\n",
        "ans[8]=reg.coef_[2]\n",
        "\n",
        "print('coefficient_1',ans[6])\n",
        "print('coefficient_2',ans[7])\n",
        "print('coefficient_3',ans[8])"
      ],
      "execution_count": null,
      "outputs": [
        {
          "output_type": "stream",
          "name": "stdout",
          "text": [
            "Sqaured mean error 248928.05\n",
            "R squared training 0.514\n",
            "R sqaured testing 0.517\n",
            "intercept -96249.54334169801\n",
            "coefficient_1 318.99911395420634\n",
            "coefficient_2 50859.51341468052\n",
            "coefficient_3 -59528.91832524186\n"
          ]
        }
      ]
    },
    {
      "cell_type": "code",
      "metadata": {
        "id": "eOXjagX9_n5y"
      },
      "source": [
        "##do not change this code\n",
        "import json\n",
        "ans = [str(item) for item in ans]\n",
        "\n",
        "filename = \"aryanpcm@gmail.com_Aryan_Singh_LinearRegression\"\n",
        "\n",
        "# Eg if your name is Saurav Joshi and email id is sauravjoshi123@gmail.com, filename becomes\n",
        "# filename = sauravjoshi123@gmail.com_Saurav_Joshi_LinearRegression"
      ],
      "execution_count": null,
      "outputs": []
    },
    {
      "cell_type": "markdown",
      "metadata": {
        "id": "PbzQn8Fm42qR"
      },
      "source": [
        "## Do not change anything below!!\n",
        "- Make sure you have changed the above variable \"filename\" with the correct value. Do not change anything below!!"
      ]
    },
    {
      "cell_type": "code",
      "metadata": {
        "id": "MCnzQBnEI2ZJ",
        "colab": {
          "base_uri": "https://localhost:8080/"
        },
        "outputId": "2ba88171-8949-4bee-a73b-183d63aaf29c"
      },
      "source": [
        "from importlib import import_module\n",
        "import os\n",
        "from pprint import pprint\n",
        "\n",
        "findScore = import_module('findScore')\n",
        "response = findScore.main(ans)\n",
        "response['details'] = filename\n",
        "with open(f'evaluation_{filename}.json', 'w') as outfile:\n",
        "    json.dump(response, outfile)\n",
        "pprint(response)"
      ],
      "execution_count": null,
      "outputs": [
        {
          "output_type": "stream",
          "name": "stdout",
          "text": [
            "{'Comments': 'Please make sure the Python script you are submitting is not '\n",
            "             'having errors. Try running before submitting',\n",
            " 'Message': 'Successfully submitted! Thanks for taking the exercise',\n",
            " 'details': 'anant.bhavsar4999@gmail.com_Anant_Bhavsar_LinearRegression',\n",
            " 'status': 'Success'}\n"
          ]
        }
      ]
    },
    {
      "cell_type": "code",
      "metadata": {
        "id": "DBv77JgRKTpU"
      },
      "source": [
        ""
      ],
      "execution_count": null,
      "outputs": []
    }
  ]
}
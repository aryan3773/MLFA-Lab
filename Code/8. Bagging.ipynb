{
 "cells": [
  {
   "cell_type": "markdown",
   "metadata": {
    "id": "pGWWA_Qof_tW"
   },
   "source": [
    "# BAGGING\n",
    "\n",
    "Bagging improves the performance of several basic algorithms by making it more robust.\n",
    "\n",
    "We will look at Linear Regression and Decision Tree Regressor model as our base models for Bagging.\n",
    "\n",
    "We will use a housing price dataset (regression problem) with 13 features and 506 data samples."
   ]
  },
  {
   "cell_type": "markdown",
   "metadata": {
    "id": "QQbVgiox726I"
   },
   "source": [
    "## IMPORTING PACKAGES\n",
    "\n",
    "The important packages have been imported for you."
   ]
  },
  {
   "cell_type": "code",
   "execution_count": 1,
   "metadata": {
    "id": "OmMjJpbMbXBk"
   },
   "outputs": [],
   "source": [
    "# IMPORTING IMPORTANT PACKAGES\n",
    "# RUN THE CELL AS IT IS.\n",
    "# DO NOT CHANGE THIS CELL!\n",
    "\n",
    "import numpy as np\n",
    "import pandas as pd\n",
    "import json\n",
    "import matplotlib.pyplot as plt\n",
    "from sklearn.datasets import load_boston\n",
    "from sklearn.metrics import mean_squared_error\n",
    "from sklearn.linear_model import LinearRegression\n",
    "from sklearn.tree import DecisionTreeRegressor\n",
    "from sklearn.model_selection import train_test_split\n",
    "ans = [0]*7"
   ]
  },
  {
   "cell_type": "markdown",
   "metadata": {
    "id": "hixbemiQj97e"
   },
   "source": [
    "## RANDOM NUMBER/LIST GENERATOR\n",
    "\n",
    "We will be using this function to generate a list of random numbers to get consistent results which are important for evaluation. While doing your own projects and work you can use libraries like random and numpy.\n",
    "\n",
    "A brief description of the function:\n",
    "\n",
    "_random_generator(seed, low, high, size)_\n",
    "\n",
    "**seed** = A different seed generates a new list of random number but for the same seed, the same random number is generated.\n",
    "\n",
    "**low** = Lower limit of the range in which to generate random numbers. (**INCLUSIVE**)\n",
    "\n",
    "**high** = Upper limit of the range in which to generate random numbers. (**EXCLUSIVE**)\n",
    "\n",
    "**size** = Number of random numbers to generate. If size = 1, then one scalar number is returned. If size>1 then a list of random numbers is generated.\n",
    "\n",
    "Similar for _unique_random_generator_. This function returns a list of unique random numbers unline _random_generator_"
   ]
  },
  {
   "cell_type": "code",
   "execution_count": 2,
   "metadata": {
    "id": "BnOIgojnkFEP"
   },
   "outputs": [],
   "source": [
    "def random_generator(seed = 0, low = 0, high = None, size = None):\n",
    "    s = seed\n",
    "    a = 11\n",
    "    b = 13\n",
    "\n",
    "    if high is None:\n",
    "        return (\"Error. Upper Limit not found\")\n",
    "    if size is None:\n",
    "        return (\"Error. Size not found\")\n",
    "    if size == 1:\n",
    "        return ((a*s+b)%high)\n",
    "    random_list = []\n",
    "    for i in range(size):\n",
    "        random_list.append((a*s+b)%high)\n",
    "        s = (a*s+b)\n",
    "    return random_list"
   ]
  },
  {
   "cell_type": "markdown",
   "metadata": {
    "id": "NgOhXYm579DV"
   },
   "source": [
    "## LOADING DATASET\n",
    "The dataset is of a regression problem.\n",
    "\n",
    "The target label is housing price. There are 13 features all of which are numerical in nature.\n"
   ]
  },
  {
   "cell_type": "code",
   "execution_count": 3,
   "metadata": {
    "id": "-d4XNpBPfMpk"
   },
   "outputs": [
    {
     "name": "stdout",
     "output_type": "stream",
     "text": [
      "REGRESSION DATASET : \n",
      "      feature1  feature2  feature3  feature4  feature5  feature6  feature7  \\\n",
      "0     0.00632      18.0      2.31       0.0     0.538     6.575      65.2   \n",
      "1     0.02731       0.0      7.07       0.0     0.469     6.421      78.9   \n",
      "2     0.02729       0.0      7.07       0.0     0.469     7.185      61.1   \n",
      "3     0.03237       0.0      2.18       0.0     0.458     6.998      45.8   \n",
      "4     0.06905       0.0      2.18       0.0     0.458     7.147      54.2   \n",
      "..        ...       ...       ...       ...       ...       ...       ...   \n",
      "501   0.06263       0.0     11.93       0.0     0.573     6.593      69.1   \n",
      "502   0.04527       0.0     11.93       0.0     0.573     6.120      76.7   \n",
      "503   0.06076       0.0     11.93       0.0     0.573     6.976      91.0   \n",
      "504   0.10959       0.0     11.93       0.0     0.573     6.794      89.3   \n",
      "505   0.04741       0.0     11.93       0.0     0.573     6.030      80.8   \n",
      "\n",
      "     feature8  feature9  feature10  feature11  feature12  feature13  \\\n",
      "0      4.0900       1.0      296.0       15.3     396.90       4.98   \n",
      "1      4.9671       2.0      242.0       17.8     396.90       9.14   \n",
      "2      4.9671       2.0      242.0       17.8     392.83       4.03   \n",
      "3      6.0622       3.0      222.0       18.7     394.63       2.94   \n",
      "4      6.0622       3.0      222.0       18.7     396.90       5.33   \n",
      "..        ...       ...        ...        ...        ...        ...   \n",
      "501    2.4786       1.0      273.0       21.0     391.99       9.67   \n",
      "502    2.2875       1.0      273.0       21.0     396.90       9.08   \n",
      "503    2.1675       1.0      273.0       21.0     396.90       5.64   \n",
      "504    2.3889       1.0      273.0       21.0     393.45       6.48   \n",
      "505    2.5050       1.0      273.0       21.0     396.90       7.88   \n",
      "\n",
      "     price(target)  \n",
      "0             24.0  \n",
      "1             21.6  \n",
      "2             34.7  \n",
      "3             33.4  \n",
      "4             36.2  \n",
      "..             ...  \n",
      "501           22.4  \n",
      "502           20.6  \n",
      "503           23.9  \n",
      "504           22.0  \n",
      "505           11.9  \n",
      "\n",
      "[506 rows x 14 columns]\n"
     ]
    }
   ],
   "source": [
    "# LOADING THE DATASET\n",
    "# RUN THE CELL AS IT IS\n",
    "# DO NOT CHANGE THIH CELL\n",
    "\n",
    "# reg_dataset -> Regression Dataset : Boston Dataset with Housing price as the target and 13 Features related to the houses.\n",
    "# There are no categorical variables.\n",
    "\n",
    "def load_dataset():\n",
    "    reg_x, reg_y = load_boston(return_X_y = True)\n",
    "    reg_data = np.concatenate((reg_x, np.array(reg_y).reshape(-1, 1)), axis = 1)\n",
    "    cols = [\"feature\"+str(i) for i in range(1, 14)]\n",
    "    cols = cols + [\"price(target)\"]\n",
    "    reg_dataset = pd.DataFrame(data = reg_data, columns = cols)\n",
    "\n",
    "    return reg_dataset\n",
    "\n",
    "reg_dataset = load_dataset()\n",
    "print(\"REGRESSION DATASET : \\n\", reg_dataset)"
   ]
  },
  {
   "cell_type": "markdown",
   "metadata": {
    "id": "ik2zgN9zgVn3"
   },
   "source": [
    "## SPLITTING INTO TRAIN AND TEST SET\n",
    "\n",
    "We will divide the dataset into train and test set in the ratio 8:2.\n",
    "Sklearn's built-in function \"train_test_split\" is supposed to be used.\n",
    "\n",
    "eg:- train_x, test_x, train_y, test_y = train_test_split(x, y, test_size = k, random_state = integer)  where k is a floating point number between 0 and 1. The number signifies the fraction of dataset to be given to the test dataset.\n",
    "\n",
    "**NOTE**: Use random_state = 40 for evaluation purposes\n",
    "\n",
    "Confirm that your training and test set are correctly alloted by checking with the number of samples in each."
   ]
  },
  {
   "cell_type": "code",
   "execution_count": 4,
   "metadata": {
    "id": "CYYB4xzxzfdz"
   },
   "outputs": [],
   "source": [
    "# DIVIDE THE DATASET INTO TRAINING AND TEST SET\n",
    "# Use \"train_test_split\" from sklearn to split the dataset into 8:2 ratio.\n",
    "# TRAINING SET SIZE : TEST SET SIZE = 8 : 2\n",
    "# NOTE: USE \"random_state = 40\" WHILE SPLITTING. OTHERWISE EVALUATION MIGHT BE WRONG\n",
    "\n",
    "# START YOUR CODE HERE\n",
    "\n",
    "columns = list(reg_dataset.columns)\n",
    "\n",
    "x = reg_dataset[columns[:-1]]\n",
    "y = reg_dataset[\"price(target)\"]\n",
    "\n",
    "x_train, x_test, y_train, y_test = train_test_split(x, y, test_size = 0.2, random_state=40)\n",
    "# END YOUR CODE HERE"
   ]
  },
  {
   "cell_type": "markdown",
   "metadata": {
    "id": "q8SuUYrbH4ZD"
   },
   "source": [
    "## QUESTIONS:\n",
    "The first part of the assignment focuses on Linear Regression Models and the second part focuses on Decision Tree models.\n",
    "\n",
    "Places where you need to write your code have been indicated. Some parameters have been fixed for evaluation purposes. Be careful not to change them."
   ]
  },
  {
   "cell_type": "markdown",
   "metadata": {
    "id": "954KWjs0rHkC"
   },
   "source": [
    "#### **BAGGING WITH LINEAR REGRESSION MODELS**"
   ]
  },
  {
   "cell_type": "markdown",
   "metadata": {
    "id": "gmZGRqKnhlGT"
   },
   "source": [
    "### **QUESTION 1**: Fit a Linear Regression model on  randomly sampled (with replacement) training data and assign the mean squared error of the predictions on the test set to ans[0]. (1 mark).\n",
    "**NOTE**: You can use the mean squared error from sklearn which has been imported above for you.\n",
    "\n",
    "**NOTE**: While randomly sampling we need to select 404 training samples but not all of them need to be unique.\n",
    "\n",
    "**HINT**: mse = mean_squared_error(y_true, y_pred) where the mean squared error gets stored in the variable mse.\n",
    "\n",
    "**HINT**: df.iloc[[0, 2, 0, 4], 1] selects the 1st, 3rd, 1st and 5th data sample(row) from the df DataFrame."
   ]
  },
  {
   "cell_type": "code",
   "execution_count": 5,
   "metadata": {
    "id": "UkQLqfLFZkiF"
   },
   "outputs": [
    {
     "name": "stdout",
     "output_type": "stream",
     "text": [
      "[27.423728047001077, 33.5040196791328, 8.323079925684652, 18.09748502929931, 17.79106161501698, 35.18372285792032, 26.780901480205614, 14.685603374108833, 27.698522331597818, -3.646348785879418, 29.971363981619596, 14.965983894849039, 5.315945624640467, 4.954285795389502, 26.531644929756077, 33.19983433052755, 25.213419020283535, 18.678302109509065, 22.534669733658276, 13.825698150765845, 38.747122366267966, 11.83317522186794, 36.967001500631774, 26.24052113578926, 36.693371444242956, 27.025804796520333, 22.219549320376867, 18.140929459813044, 17.37505111561333, 18.454623288640065, 24.242287620610135, 23.29634116487611, 29.50527421519626, 25.69794417969252, 0.07947707878047083, 25.54598703848078, 26.13013970907268, 12.042357579441887, 38.46109853940963, 35.46367557810227, 23.465685732720782, 6.296134735763605, 19.369223957750553, 20.955086777587127, 29.79221732228125, 7.178845603871213, 11.811655846809774, 32.262272246660736, 21.30490063350267, 34.95886654440289, 12.323444894059541, 21.686759786687823, 18.932944691999833, 4.964296199839172, 4.929340546892753, 43.34900186373471, 23.987811427288115, 27.322398436341523, 22.688650902142776, 9.016326083091233, 22.834010263582044, 10.567334732172728, 32.55638748187875, 14.192933967870854, 26.98063564763798, 16.00821561287832, 3.214670435227557, 28.388655778205912, 24.429761747615736, 18.48453418075067, 19.498143821595868, 26.999035475016505, 21.722592333183968, 27.493279706685616, 35.074120315009566, 18.93267336360117, 14.698059129938375, 25.720633640811904, 17.829760738001816, 23.473150755363008, 18.083485386746034, 20.50983306830217, 18.496500467587968, 11.192080517936141, 17.327974498401993, 10.208069439054828, 18.444921092848176, 20.56118054586107, 21.050451534776784, 18.70748372444374, 27.623933781301744, 9.05535286289809, 19.498721470699433, 7.12043013066177, 20.03822334986864, 5.02582875005972, 17.847786202367978, 25.660512013293577, 22.124516900169525, 21.19589836607374, 24.506200678600344, 17.773958703046844]\n",
      "[22.7, 30.3, 14.4, 13.4, 20.1, 50.0, 24.7, 17.8, 17.0, 7.0, 20.7, 16.6, 13.8, 10.5, 19.4, 50.0, 22.6, 13.1, 15.0, 13.1, 50.0, 10.8, 44.0, 24.8, 50.0, 29.6, 21.7, 23.0, 17.1, 18.9, 23.1, 20.5, 24.0, 21.9, 13.8, 24.7, 25.3, 12.3, 48.8, 27.5, 22.2, 8.5, 18.8, 21.0, 41.3, 7.2, 13.6, 29.1, 50.0, 43.1, 14.0, 21.7, 16.1, 5.0, 8.8, 50.0, 23.8, 21.7, 20.8, 14.6, 21.2, 7.2, 32.0, 19.7, 23.6, 19.5, 14.4, 33.4, 17.8, 19.1, 19.9, 24.4, 16.1, 36.2, 34.6, 22.0, 7.5, 24.6, 20.2, 16.5, 27.9, 20.0, 16.7, 8.3, 14.9, 12.0, 23.1, 18.6, 21.8, 19.9, 22.8, 11.8, 16.2, 8.4, 20.4, 7.4, 16.1, 28.7, 20.3, 24.5, 29.8, 18.9]\n",
      "38.24846415063513\n"
     ]
    }
   ],
   "source": [
    "# SOME PART OF THE CODE HAS BEEN WRITTEN FOR YOU. DO NOT CHANGE THEM OTHERWISE IT MIGHT BE WRONGLY EVALUATED.\n",
    "# THE DATA SAMPLES HAVE BEEN SELECTED FOR YOU FOR EVALUATION PURPOSES.\n",
    "\n",
    "\n",
    "linreg1 = LinearRegression()                 # 1st Linear Regression Model for you to use\n",
    "row_index = random_generator(1, 0, 404, 404) # Row indexes that you need to fit your model on. Do not change it.\n",
    "\n",
    "# Try to print row_index to understand what \"randomly sampled with replacement means\"\n",
    "#print(row_index)\n",
    "\n",
    "# START YOUR CODE HERE:\n",
    "\n",
    "x_sampled_train = x_train.iloc[row_index]\n",
    "y_sampled_train = y_train.iloc[row_index]\n",
    "\n",
    "linreg1.fit(x_sampled_train, y_sampled_train)\n",
    "\n",
    "pred1 = list(linreg1.predict(x_test))\n",
    "print(pred1)\n",
    "print(list(y_test))\n",
    "###END###\n",
    "\n",
    "mse1 = mean_squared_error(y_test, pred1)\n",
    "print(mse1)\n",
    "# END YOUR CODE HERE\n"
   ]
  },
  {
   "cell_type": "code",
   "execution_count": 6,
   "metadata": {
    "id": "QkwQhqgOkuT_"
   },
   "outputs": [],
   "source": [
    "# SUBSTITUTE YOUR ANSWER IN PLACE OF None\n",
    "\n",
    "ans[0] = mse1"
   ]
  },
  {
   "cell_type": "markdown",
   "metadata": {
    "id": "oArkbM4fj4cW"
   },
   "source": [
    "### **QUESTION 2**: Fit a second linear Regression model on new randomly sampled (with replacement) training data and assign the mean squared error of the average of the predictions of the two linear regression models on the test set to ans[1]. (1 mark)\n",
    "eg:- If for a particular data point, model1 predicts 20.0 and model2 predicts 30.0 then the final prediction should be 25.0.\n",
    "\n",
    "**WARNING**: The question asks for the mean squared error of the predictions and not the predictions themselves."
   ]
  },
  {
   "cell_type": "code",
   "execution_count": 7,
   "metadata": {
    "id": "ALm_gV2TbL9d"
   },
   "outputs": [
    {
     "name": "stdout",
     "output_type": "stream",
     "text": [
      "[22.7, 30.3, 14.4, 13.4, 20.1, 50.0, 24.7, 17.8, 17.0, 7.0, 20.7, 16.6, 13.8, 10.5, 19.4, 50.0, 22.6, 13.1, 15.0, 13.1, 50.0, 10.8, 44.0, 24.8, 50.0, 29.6, 21.7, 23.0, 17.1, 18.9, 23.1, 20.5, 24.0, 21.9, 13.8, 24.7, 25.3, 12.3, 48.8, 27.5, 22.2, 8.5, 18.8, 21.0, 41.3, 7.2, 13.6, 29.1, 50.0, 43.1, 14.0, 21.7, 16.1, 5.0, 8.8, 50.0, 23.8, 21.7, 20.8, 14.6, 21.2, 7.2, 32.0, 19.7, 23.6, 19.5, 14.4, 33.4, 17.8, 19.1, 19.9, 24.4, 16.1, 36.2, 34.6, 22.0, 7.5, 24.6, 20.2, 16.5, 27.9, 20.0, 16.7, 8.3, 14.9, 12.0, 23.1, 18.6, 21.8, 19.9, 22.8, 11.8, 16.2, 8.4, 20.4, 7.4, 16.1, 28.7, 20.3, 24.5, 29.8, 18.9]\n",
      "[23.464889888915632, 32.585846981552386, 8.330141714770265, 17.8545313032116, 17.489653871830633, 32.74940357796184, 25.161667972025754, 16.47131595648746, 24.572581277447796, -4.519082170791135, 25.981977759605456, 15.346708080992933, 4.273282417294602, 4.451225009921086, 24.30090650486652, 36.82634205493338, 24.90071221471986, 19.78151322174708, 25.336517407222445, 15.383851706280831, 41.10976078763649, 11.537303664445947, 37.41739727124566, 25.701837048132337, 40.49632910859664, 26.55715684306576, 21.638176209729018, 20.383968962796622, 19.628870313354856, 18.755920544963313, 24.77050497276643, 23.584555837154653, 29.530954211666334, 24.062996432478275, -1.5653894499750205, 24.90396026409361, 25.457533105265718, 11.80470771281881, 41.47708940431513, 32.76233208119912, 24.086018813473984, 7.122185006927241, 19.480106506117174, 21.218593008131602, 32.82218159455589, 6.8650840317407535, 11.946931047859753, 31.23566421380603, 21.063479176518378, 36.874326260247834, 13.790978036266111, 20.68025849086409, 17.30051445870616, 8.05742588802454, 7.476804447571283, 43.97360465272063, 25.881042907721397, 23.78482988458388, 22.775129187301616, 8.416802687354568, 22.822748298258887, 10.537298764554384, 33.242927575314255, 13.135429624297092, 27.74075973331882, 16.05001694823659, 3.2879645265729014, 29.240702142400814, 20.873834107281336, 18.83620859506135, 19.28433770461355, 27.951294797993732, 21.43145531023386, 28.668308597205325, 34.58708212916551, 21.73817710488394, 14.536115262160976, 25.313611978905513, 16.199272714582776, 22.577616328452656, 18.435764199011476, 16.911410437839358, 19.447222300643823, 10.394674078582096, 17.70904598935076, 10.036817030690347, 16.64556874863712, 20.23961577523081, 20.073469658940887, 19.140946981839928, 26.511242095719524, 8.53230005938569, 19.822085085936976, 5.809773953461757, 19.415464765406867, 4.429222533858782, 18.301664160340454, 27.997383306496257, 22.78624149124697, 20.205476515420813, 25.457276624744708, 15.237984106213688]\n",
      "33.97207204745014\n"
     ]
    }
   ],
   "source": [
    "# SOME PART OF THE CODE HAS BEEN WRITTEN FOR YOU. DO NOT CHANGE WHERE NOT INDICATED.\n",
    "# THE DATA SAMPLES HAVE BEEN SELECTED FOR YOU\n",
    "\n",
    "linreg2 = LinearRegression()                   # 2nd Linear Regression Model\n",
    "row_index = random_generator(3, 0, 404, 404)   # Row indexes that you need to fit your model on. Do not change it.\n",
    "\n",
    "# Use the previous linear regression model (linreg1) as your first model. You have already trained your linreg1 so \n",
    "# you do not need to do that again. The final predictions would be the average of the predictions of these two models.\n",
    "\n",
    "# START YOUR CODE HERE:\n",
    "\n",
    "x_sampled_train = x_train.iloc[row_index]\n",
    "y_sampled_train = y_train.iloc[row_index]\n",
    "\n",
    "linreg2.fit(x_sampled_train, y_sampled_train)\n",
    "\n",
    "pred2 = list(linreg2.predict(x_test))\n",
    "print(list(y_test))\n",
    "###END###\n",
    "\n",
    "final_pred_2 = [(pred1[i]+pred2[i])/2 for i in range(len(pred1))]\n",
    "print(final_pred_2)\n",
    "\n",
    "mse2 = mean_squared_error(y_test, final_pred_2)\n",
    "print(mse2)\n",
    "\n",
    "# END YOUR CODE HERE"
   ]
  },
  {
   "cell_type": "code",
   "execution_count": 8,
   "metadata": {
    "id": "xOszhR9qoh0F"
   },
   "outputs": [],
   "source": [
    "# SUBSTITUTE YOUR ANSWER IN PLACE OF None\n",
    "\n",
    "ans[1] = mse2"
   ]
  },
  {
   "cell_type": "markdown",
   "metadata": {
    "id": "uXnpab3BkvQe"
   },
   "source": [
    "Did the combined predictions have a lower mean squared error compared to the individual mean squared errors of the two models?"
   ]
  },
  {
   "cell_type": "markdown",
   "metadata": {
    "id": "xPKf7txfk9zj"
   },
   "source": [
    "### **QUESTION 3**: Fit a third linear Regression model on  new randomly sampled (with replacement) training data and assign the mean squared error of the average of the predictions  of the three linear regression models on the test set to ans[2].    (2 marks)\n",
    "eg:- If for a particular data point, model1 predicts 20.0, model2 predicts 30.0 and model3 predicts 70.0 then the final prediction should be (20.0+30.0+70.0)/3 = 60.0.\n",
    "\n",
    "**WARNING**: The question asks for the mean squared error of the predictions and not the predictions themselves."
   ]
  },
  {
   "cell_type": "code",
   "execution_count": 9,
   "metadata": {
    "id": "pTqKefc4WPGj"
   },
   "outputs": [
    {
     "name": "stdout",
     "output_type": "stream",
     "text": [
      "[22.7, 30.3, 14.4, 13.4, 20.1, 50.0, 24.7, 17.8, 17.0, 7.0, 20.7, 16.6, 13.8, 10.5, 19.4, 50.0, 22.6, 13.1, 15.0, 13.1, 50.0, 10.8, 44.0, 24.8, 50.0, 29.6, 21.7, 23.0, 17.1, 18.9, 23.1, 20.5, 24.0, 21.9, 13.8, 24.7, 25.3, 12.3, 48.8, 27.5, 22.2, 8.5, 18.8, 21.0, 41.3, 7.2, 13.6, 29.1, 50.0, 43.1, 14.0, 21.7, 16.1, 5.0, 8.8, 50.0, 23.8, 21.7, 20.8, 14.6, 21.2, 7.2, 32.0, 19.7, 23.6, 19.5, 14.4, 33.4, 17.8, 19.1, 19.9, 24.4, 16.1, 36.2, 34.6, 22.0, 7.5, 24.6, 20.2, 16.5, 27.9, 20.0, 16.7, 8.3, 14.9, 12.0, 23.1, 18.6, 21.8, 19.9, 22.8, 11.8, 16.2, 8.4, 20.4, 7.4, 16.1, 28.7, 20.3, 24.5, 29.8, 18.9]\n",
      "[23.189930795026054, 32.718198800416154, 9.051826201767883, 17.313853975820976, 18.216872839445497, 32.654890874146126, 25.471018210571685, 16.072873627667157, 23.391072641062493, -4.6330615916078, 26.16509925976108, 15.343668605168814, 5.718184843760888, 5.4408603892525536, 25.591956464960035, 35.88309018129066, 25.59400343532589, 19.920286057298025, 24.453615598055567, 15.064757817202127, 40.06312510160612, 11.67567652664001, 37.57413982217766, 25.935915877203538, 38.98602272531006, 25.85290641928145, 21.80992724557261, 19.73308290429632, 18.97460926123718, 19.006493713209846, 24.643154600360475, 23.988763551753124, 29.32065314100134, 24.554999086019848, 0.20971350953628232, 24.818258800383546, 25.403717757107117, 12.753380692993796, 40.20320347112878, 32.2570670730857, 24.25240758227955, 6.566940702799749, 19.86591807180646, 21.155244459243573, 32.355271654671874, 7.635758968640249, 12.230762771900338, 31.532266929101905, 22.911848827187313, 36.346618587893566, 13.3496608559037, 21.058113755507424, 18.190950454925755, 6.407114362298803, 5.020063340109599, 41.81692733601154, 25.77470549056007, 23.913904604334373, 22.914663538522547, 8.712636760022255, 22.933211920419353, 9.960962391829979, 33.42585207586697, 13.681474346353783, 28.017789273295733, 16.385002148646766, 3.7691421254742807, 28.51355792101516, 20.441913857851386, 19.490037059509476, 19.241115676839915, 28.09141308013028, 21.67493925522734, 27.8297463005111, 34.62752586618953, 21.976004843293214, 13.953666916921433, 24.930125984850378, 16.387824428523057, 21.70973569858768, 19.295148794496253, 17.332543958724127, 19.38147626896336, 10.34026072667582, 17.78312856412682, 11.029605271653429, 16.85491997642341, 19.736033256590535, 21.152812117990408, 19.88980138395618, 27.561160946776955, 8.85601810314603, 20.172273775268405, 5.628531512349693, 19.717504462066156, 5.153327845799797, 18.56694864469455, 27.89657305059608, 23.016052903057226, 20.302393209733783, 25.41596812714556, 15.656984436043352]\n",
      "32.97778875692508\n"
     ]
    }
   ],
   "source": [
    "# SOME PART OF THE CODE HAS BEEN WRITTEN FOR YOU. DO NOT CHANGE WHERE NOT INDICATED.\n",
    "# THE DATA SAMPLES HAVE BEEN SELECTED FOR YOU\n",
    "\n",
    "linreg3 = LinearRegression()                  # 3rd Linear Regression Model\n",
    "row_index = random_generator(5, 0, 404, 404)      # Row indexes that you need to fit your model on. Do not change it.\n",
    "\n",
    "# linreg1, linreg2 and linreg3 would be your 3 models. You have already fitted linreg1 and linreg2 so you do not need to \n",
    "# train them again.\n",
    "\n",
    "# START YOUR CODE HERE:. \n",
    "\n",
    "x_sampled_train = x_train.iloc[row_index]\n",
    "y_sampled_train = y_train.iloc[row_index]\n",
    "\n",
    "linreg3.fit(x_sampled_train, y_sampled_train)\n",
    "\n",
    "pred3 = list(linreg3.predict(x_test))\n",
    "print(list(y_test))\n",
    "###END###\n",
    "\n",
    "final_pred_3 = [(pred1[i]+pred2[i]+pred3[i])/3 for i in range(len(pred1))]\n",
    "print(final_pred_3)\n",
    "\n",
    "mse3 = mean_squared_error(y_test, final_pred_3)\n",
    "print(mse3)\n",
    "\n",
    "# END YOUR CODE HERE"
   ]
  },
  {
   "cell_type": "code",
   "execution_count": 10,
   "metadata": {
    "id": "StsvpP6Ur-Gz"
   },
   "outputs": [],
   "source": [
    "# SUBSTITUTE YOUR ANSWER IN PLACE OF None\n",
    "\n",
    "ans[2] = mse3"
   ]
  },
  {
   "cell_type": "markdown",
   "metadata": {
    "id": "-ZwqG5Yumz6W"
   },
   "source": [
    "Did the mean squared error of the averaged predictions (ensembled predictions) reduced further? Is it less than the individual mean squared errors of the models?"
   ]
  },
  {
   "cell_type": "markdown",
   "metadata": {
    "id": "mnV4AbeBnC14"
   },
   "source": [
    "### **QUESTION 4**: Fit a fourth linear Regression model on new randomly sampled training data and assign the mean squared error of the average of the predictions of the four linear regression models on the test set to ans[3]. (1 mark)\n",
    "**WARNING**; The question asks for the mean squared error of the predictions and not the predictions themselves."
   ]
  },
  {
   "cell_type": "code",
   "execution_count": 11,
   "metadata": {
    "id": "IaAHQn_6_sHQ"
   },
   "outputs": [
    {
     "name": "stdout",
     "output_type": "stream",
     "text": [
      "[22.7, 30.3, 14.4, 13.4, 20.1, 50.0, 24.7, 17.8, 17.0, 7.0, 20.7, 16.6, 13.8, 10.5, 19.4, 50.0, 22.6, 13.1, 15.0, 13.1, 50.0, 10.8, 44.0, 24.8, 50.0, 29.6, 21.7, 23.0, 17.1, 18.9, 23.1, 20.5, 24.0, 21.9, 13.8, 24.7, 25.3, 12.3, 48.8, 27.5, 22.2, 8.5, 18.8, 21.0, 41.3, 7.2, 13.6, 29.1, 50.0, 43.1, 14.0, 21.7, 16.1, 5.0, 8.8, 50.0, 23.8, 21.7, 20.8, 14.6, 21.2, 7.2, 32.0, 19.7, 23.6, 19.5, 14.4, 33.4, 17.8, 19.1, 19.9, 24.4, 16.1, 36.2, 34.6, 22.0, 7.5, 24.6, 20.2, 16.5, 27.9, 20.0, 16.7, 8.3, 14.9, 12.0, 23.1, 18.6, 21.8, 19.9, 22.8, 11.8, 16.2, 8.4, 20.4, 7.4, 16.1, 28.7, 20.3, 24.5, 29.8, 18.9]\n",
      "[21.849551932699637, 32.63914938930867, 8.142865328751634, 16.5586617592489, 17.388232367100553, 31.727250410653433, 25.28926118193114, 16.232125416405196, 22.566348617249183, -5.478766837059803, 25.34081273263917, 15.205406688177481, 4.41712135479043, 4.453739836750562, 25.11620635048657, 36.30877068170058, 25.464757345521782, 19.394695209162226, 24.620845710345453, 14.803645550392535, 40.71327362363222, 10.821146796417516, 37.7952087034991, 25.911910436864584, 39.842894356708726, 25.622653707223296, 21.504661614410125, 20.018820988387724, 19.286875450738822, 18.27212955681862, 24.67443077890631, 23.490649369418595, 29.658852248430136, 24.18615977696574, -1.2536872381619686, 24.606788875371073, 25.19348576477883, 11.748410669292234, 40.95680597832862, 31.66569439067671, 23.873823158984134, 6.310160150499314, 19.769029491060543, 21.033725293449038, 32.51912339646328, 6.67107429007268, 12.00497846425358, 31.57875053600505, 21.916012428491126, 36.7515241142241, 13.426009330626627, 20.421520888906933, 17.802097633777127, 6.983697804118142, 5.616599376145601, 41.94204377420779, 25.559652641736008, 22.884745909025952, 22.78836339550069, 7.905762987351512, 22.625407572326708, 9.238576898679584, 33.634079159590854, 13.322370090036712, 28.121373706093635, 16.46161294832111, 3.2912740260223865, 28.789878521717007, 19.184107522460522, 18.554381459519604, 19.240650318875353, 28.217163796412365, 20.886258038607476, 28.129337608036764, 34.66639815432357, 21.551410343550707, 13.236280611571722, 24.92570975602208, 16.204373403923668, 21.97635988158844, 18.58136896955067, 16.077870580785824, 18.87673477055501, 9.403550179377035, 17.07713861665462, 9.988107870071453, 16.660682777890408, 19.916298985427858, 20.004961072816442, 18.973904730989403, 27.175236883777643, 8.068389219799577, 19.90702607177965, 4.578670774586727, 19.57414206518674, 4.197928912104144, 17.821007000099407, 27.738212632545917, 22.966227388357286, 20.31442867258071, 24.95095095687805, 15.651913258006353]\n",
      "34.11114555285297\n"
     ]
    }
   ],
   "source": [
    "# SOME PART OF THE CODE HAS BEEN WRITTEN FOR YOU. DO NOT CHANGE WHERE NOT INDICATED.\n",
    "# THE DATA SAMPLES HAVE BEEN SELECTED FOR YOU\n",
    "\n",
    "linreg4 = LinearRegression()                  # 3rd Linear Regression Model\n",
    "row_index = random_generator(7, 0, 404, 404)    # Row indexes that you need to fit your model on. Do not change it.\n",
    "\n",
    "# Use the previous 3 models(linreg1, linreg2, linreg3) and do not train them again.\n",
    "\n",
    "# START YOUR CODE HERE:. \n",
    "\n",
    "x_sampled_train = x_train.iloc[row_index]\n",
    "y_sampled_train = y_train.iloc[row_index]\n",
    "\n",
    "linreg4.fit(x_sampled_train, y_sampled_train)\n",
    "\n",
    "pred4 = list(linreg4.predict(x_test))\n",
    "print(list(y_test))\n",
    "###END###\n",
    "\n",
    "final_pred_4 = [(pred1[i]+pred2[i]+pred3[i]+pred4[i])/4 for i in range(len(pred1))]\n",
    "print(final_pred_4)\n",
    "\n",
    "mse4 = mean_squared_error(y_test, final_pred_4)\n",
    "print(mse4)\n",
    "\n",
    "# END YOUR CODE HERE"
   ]
  },
  {
   "cell_type": "code",
   "execution_count": 12,
   "metadata": {
    "id": "ED44sOCVAAuI"
   },
   "outputs": [],
   "source": [
    "# SUBSTITUTE YOUR ANSWER IN PLACE OF None\n",
    "\n",
    "ans[3] = mse4"
   ]
  },
  {
   "cell_type": "markdown",
   "metadata": {
    "id": "jVulVpHnoHVV"
   },
   "source": [
    "Did the mean squared error reduce this time as well? If not, then why?\n",
    "\n",
    "So the final error depends also on how good the individual models are. Let's look at how a large number of models perform together."
   ]
  },
  {
   "cell_type": "markdown",
   "metadata": {
    "id": "YfWURQ2spgk5"
   },
   "source": [
    "### **QUESTION 5**: Fit 50 linear Regression models on randomly sampled training data (new random sampling for each model) and assign the mean squared error of the average of the predictions of the 50 linear regression models on the test set to ans[4]. (2 marks)\n",
    "eg:- If model1 predicts y1, model2 predicts y2 and so on till y50, then final prediction would be (y1+y2+...+y50)/50.\n",
    "\n",
    "**WARNING**; The question asks for the mean squared error of the predictions and not the predictions themselves."
   ]
  },
  {
   "cell_type": "code",
   "execution_count": 13,
   "metadata": {
    "id": "CkdyOmy4AG7U"
   },
   "outputs": [
    {
     "name": "stdout",
     "output_type": "stream",
     "text": [
      "36.19928109779372\n"
     ]
    }
   ],
   "source": [
    "# SOME PART OF THE CODE HAS BEEN WRITTEN FOR YOU. DO NOT CHANGE WHERE NOT INDICATED.\n",
    "# FEEL FREE TO USE MORE CELLS FOR YOUR CODE.\n",
    "# THE DATA SAMPLES HAVE BEEN SELECTED FOR YOU\n",
    "# HINT: You can add the predictions in a for loop.\n",
    "\n",
    "n = 50                                     # 50 Linear Regression models \n",
    "train_preds = 0\n",
    "test_preds = 0\n",
    "\n",
    "np.random.seed(10)                               # Used for consistent answers for evaluation purposes\n",
    "subset_seed = random_generator(10, 0, 200, n)\n",
    "final_pred = [0]*(len(y_test))\n",
    "\n",
    "for i in range(n):\n",
    "    np.random.seed(subset_seed[i])                            # Used for consistent answers for evaluation purposes\n",
    "    row_index = random_generator(subset_seed[i], 0, 404, 404) # Row indexes that you need to fit your model on. Do not change it.\n",
    "    \n",
    "    linreg = LinearRegression()\n",
    "    x_sampled_train = x_train.iloc[row_index]\n",
    "    y_sampled_train = y_train.iloc[row_index]\n",
    "\n",
    "    linreg.fit(x_sampled_train, y_sampled_train)\n",
    "\n",
    "    pred = list(linreg.predict(x_test))\n",
    "    for k in range(len(pred)):\n",
    "        final_pred[k] += pred[k];\n",
    "\n",
    "final_pred = [i/n for i in final_pred]\n",
    "final_mse = mean_squared_error(y_test, final_pred)\n",
    "print(final_mse)"
   ]
  },
  {
   "cell_type": "code",
   "execution_count": 14,
   "metadata": {
    "id": "VdnNvKphAHAO"
   },
   "outputs": [],
   "source": [
    "# SUBSTITUTE YOUR ANSWER IN PLACE OF None\n",
    "\n",
    "ans[4] = final_mse"
   ]
  },
  {
   "cell_type": "markdown",
   "metadata": {
    "id": "NDvLAI-hqQb2"
   },
   "source": [
    "Is it lower than the previous mean squared errors? \n",
    "If yes, does it go down till 0? To check that try plotting the test mean squared error vs no of linear regression models used.\n",
    "\n",
    "Some of the matplotlib code has been written for you."
   ]
  },
  {
   "cell_type": "markdown",
   "metadata": {
    "id": "olb6n0TmuB_z"
   },
   "source": [
    "#### PLOTTING TEST MSE VS NUM OF MODELS USED"
   ]
  },
  {
   "cell_type": "code",
   "execution_count": 15,
   "metadata": {
    "id": "er4isr2XAG9p"
   },
   "outputs": [
    {
     "data": {
      "image/png": "[encoded data removed]",
      "text/plain": [
       "<Figure size 432x288 with 1 Axes>"
      ]
     },
     "metadata": {
      "needs_background": "light"
     },
     "output_type": "display_data"
    }
   ],
   "source": [
    "# num_models : list of the number of models\n",
    "# test_mse : list of the corresponding test mean squared error\n",
    "\n",
    "nums = [i for i in range(2, 101)]\n",
    "final_test_mse = []\n",
    "np.random.seed(10)                               # Used for consistent answers for evaluation purposes\n",
    "\n",
    "\n",
    "for j in nums:\n",
    "    subset_seed = random_generator(10, 0, 200, j)\n",
    "    final_pred = [0]*(len(y_test))\n",
    "    \n",
    "    for i in range(j):\n",
    "        np.random.seed(subset_seed[i])                            # Used for consistent answers for evaluation purposes\n",
    "        row_index = random_generator(subset_seed[i], 0, 404, 404) # Row indexes that you need to fit your model on. Do not change it.\n",
    "\n",
    "        linreg = LinearRegression()\n",
    "        x_sampled_train = x_train.iloc[row_index]\n",
    "        y_sampled_train = y_train.iloc[row_index]\n",
    "\n",
    "        linreg.fit(x_sampled_train, y_sampled_train)\n",
    "\n",
    "        pred = list(linreg.predict(x_test))\n",
    "        for k in range(len(pred)):\n",
    "            final_pred[k] += pred[k];\n",
    "\n",
    "    final_pred = [i/j for i in final_pred]\n",
    "    final_mse = mean_squared_error(y_test, final_pred)\n",
    "    final_test_mse.append(final_mse)\n",
    "\n",
    "num_models = nums        # remember to replace it with your number of models used\n",
    "test_mse = final_test_mse          # remember to replace it with your test mean square errors\n",
    "\n",
    "plt.plot(num_models, test_mse, c = \"b\", label = \"Test Mean Squared Error\")\n",
    "plt.xlabel(\"Number of Linear Regression Models\")\n",
    "plt.legend()\n",
    "plt.ylabel(\"Mean Squared Error\")\n",
    "plt.title(\"Mean Squared Error vs Num of Linear Regression Models\")\n",
    "plt.gca().set_xlim(left = 0)\n",
    "plt.show()"
   ]
  },
  {
   "cell_type": "markdown",
   "metadata": {
    "id": "G4PSn4C1qu8Z"
   },
   "source": [
    "Can you justify why bagging helps?\n",
    "If there is slight dip in the test mse curve (i.e it does not saturate at its lowest point) can you explain why is it?\n",
    "\n",
    "**HINT**: You can also try plotting the mean sqaured error of the predictions on the _WHOLE_ training set to gather more insight."
   ]
  },
  {
   "cell_type": "markdown",
   "metadata": {
    "id": "sJFnnptfrQiV"
   },
   "source": [
    "#### **BAGGING WITH DECISION TREE MODELS**"
   ]
  },
  {
   "cell_type": "markdown",
   "metadata": {
    "id": "2nj1soMPrbsy"
   },
   "source": [
    "### **QUESTION 6**: Fit a single DecisionTree Regression model on randomly sampled(with replacement) training data and assign the mean squared error of the predictions on the test set to ans[5]. (1 mark)"
   ]
  },
  {
   "cell_type": "code",
   "execution_count": 16,
   "metadata": {
    "id": "ztDG1UjD1D60"
   },
   "outputs": [
    {
     "name": "stdout",
     "output_type": "stream",
     "text": [
      "[22.441463414634143, 35.79999999999999, 19.415789473684214, 22.441463414634143, 19.415789473684214, 25.152212389380516, 25.152212389380516, 13.080165289256193, 13.080165289256193, 13.080165289256193, 19.415789473684214, 19.415789473684214, 13.080165289256193, 13.080165289256193, 19.415789473684214, 44.679999999999986, 19.415789473684214, 13.080165289256193, 21.35882352941176, 13.080165289256193, 44.679999999999986, 13.080165289256193, 44.679999999999986, 25.152212389380516, 44.679999999999986, 25.152212389380516, 19.415789473684214, 22.441463414634143, 13.080165289256193, 19.415789473684214, 25.152212389380516, 22.441463414634143, 25.152212389380516, 25.152212389380516, 13.080165289256193, 25.152212389380516, 25.152212389380516, 13.080165289256193, 44.679999999999986, 22.441463414634143, 25.152212389380516, 13.080165289256193, 19.415789473684214, 22.441463414634143, 25.152212389380516, 13.080165289256193, 19.415789473684214, 25.152212389380516, 25.152212389380516, 44.679999999999986, 13.080165289256193, 19.415789473684214, 19.415789473684214, 13.080165289256193, 13.080165289256193, 44.679999999999986, 21.35882352941176, 22.441463414634143, 22.441463414634143, 13.080165289256193, 19.415789473684214, 13.080165289256193, 25.152212389380516, 19.415789473684214, 22.441463414634143, 13.080165289256193, 13.080165289256193, 25.152212389380516, 13.080165289256193, 22.441463414634143, 25.152212389380516, 25.152212389380516, 21.35882352941176, 35.79999999999999, 35.79999999999999, 13.080165289256193, 13.080165289256193, 25.152212389380516, 19.415789473684214, 25.152212389380516, 21.35882352941176, 19.415789473684214, 13.080165289256193, 13.080165289256193, 13.080165289256193, 13.080165289256193, 19.415789473684214, 22.441463414634143, 19.415789473684214, 22.441463414634143, 21.35882352941176, 13.080165289256193, 19.415789473684214, 13.080165289256193, 19.415789473684214, 13.080165289256193, 22.441463414634143, 22.441463414634143, 19.415789473684214, 19.415789473684214, 22.441463414634143, 19.415789473684214]\n",
      "[22.7, 30.3, 14.4, 13.4, 20.1, 50.0, 24.7, 17.8, 17.0, 7.0, 20.7, 16.6, 13.8, 10.5, 19.4, 50.0, 22.6, 13.1, 15.0, 13.1, 50.0, 10.8, 44.0, 24.8, 50.0, 29.6, 21.7, 23.0, 17.1, 18.9, 23.1, 20.5, 24.0, 21.9, 13.8, 24.7, 25.3, 12.3, 48.8, 27.5, 22.2, 8.5, 18.8, 21.0, 41.3, 7.2, 13.6, 29.1, 50.0, 43.1, 14.0, 21.7, 16.1, 5.0, 8.8, 50.0, 23.8, 21.7, 20.8, 14.6, 21.2, 7.2, 32.0, 19.7, 23.6, 19.5, 14.4, 33.4, 17.8, 19.1, 19.9, 24.4, 16.1, 36.2, 34.6, 22.0, 7.5, 24.6, 20.2, 16.5, 27.9, 20.0, 16.7, 8.3, 14.9, 12.0, 23.1, 18.6, 21.8, 19.9, 22.8, 11.8, 16.2, 8.4, 20.4, 7.4, 16.1, 28.7, 20.3, 24.5, 29.8, 18.9]\n",
      "29.988252779126572\n"
     ]
    }
   ],
   "source": [
    "# SOME PART OF THE CODE HAS BEEN WRITTEN FOR YOU. DO NOT MAKE CHANGES WHERE NOT INDICATED.\n",
    "# THE DATA SAMPLES HAVE BEEN SELECTED FOR YOU.\n",
    "\n",
    "dt1 = DecisionTreeRegressor(max_depth = 3, random_state = 10)    # Decision tree that you have to use. Don't change parameters.\n",
    "row_index = random_generator(8, 0, 404, 404)                     # Row indexes that you need to fit your model on. Do not change it.\n",
    " \n",
    "# START YOUR CODE HERE:. \n",
    "\n",
    "x_sampled_train = x_train.iloc[row_index]\n",
    "y_sampled_train = y_train.iloc[row_index]\n",
    "\n",
    "dt1.fit(x_sampled_train, y_sampled_train)\n",
    "\n",
    "pred1 = list(dt1.predict(x_test))\n",
    "print(pred1)\n",
    "print(list(y_test))\n",
    "###END###\n",
    "\n",
    "mse_dt1 = mean_squared_error(y_test, pred1)\n",
    "print(mse_dt1)\n",
    "\n",
    "# END YOUR CODE HERE"
   ]
  },
  {
   "cell_type": "code",
   "execution_count": 17,
   "metadata": {
    "id": "Lf_P5m3M2a7s"
   },
   "outputs": [],
   "source": [
    "# SUBSTITUTE YOUR ANSWER IN PLACE OF None\n",
    "\n",
    "ans[5] = mse_dt1"
   ]
  },
  {
   "cell_type": "markdown",
   "metadata": {
    "id": "13JGpdIwsdIP"
   },
   "source": [
    "### **QUESTION 7**: Train and fit 50 Decision Trees on randomly sampled training data (new random sampling for each decision tree) and assign the mean squared error of the average of all predictions on the test set to ans[6]. (2 marks)\n",
    "eg:- If model1 predicts y1, model2 predicts y2 and so on till y50, then final prediction would be (y1+y2+...+y50)/50.\n",
    "\n",
    "**WARNING**: The question asks for the mean squared error and not the final prediction."
   ]
  },
  {
   "cell_type": "code",
   "execution_count": 18,
   "metadata": {
    "id": "Tf856N7_W8eg"
   },
   "outputs": [
    {
     "name": "stdout",
     "output_type": "stream",
     "text": [
      "26.147012483291313\n"
     ]
    }
   ],
   "source": [
    "# SOME PART OF THE CODE HAS BEEN WRITTEN FOR YOU. DO NOT MAKE CHANGES WHERE NOT INDICATED.\n",
    "# THE DATA SAMPLE HAS BEEN SELECTED FOR YOU.\n",
    "\n",
    "n = 50\n",
    "train_preds = 0\n",
    "test_preds = 0\n",
    "\n",
    "np.random.seed(11)                                                  # Used for consistent answers for evaluation purposes.\n",
    "subset_seed = random_generator(9, 0, 200, n)\n",
    "final_mse = [0]*(len(y_test))\n",
    "\n",
    "for i in range(n):\n",
    "    row_index = random_generator(subset_seed[i], 0, 404, 404)                     # Row indexes that you need to fit your model on. Do not change it.\n",
    "    dt = DecisionTreeRegressor(max_depth = 3, random_state = 10)      # Decision Tree that you need to use.Don't change parameters.\n",
    "    \n",
    "    x_sampled_train = x_train.iloc[row_index]\n",
    "    y_sampled_train = y_train.iloc[row_index]\n",
    "\n",
    "    dt.fit(x_sampled_train, y_sampled_train)\n",
    "\n",
    "    pred = list(dt.predict(x_test))\n",
    "    for k in range(len(pred)):\n",
    "        final_pred[k] += pred[k];\n",
    "\n",
    "final_pred = [i/n for i in final_pred]\n",
    "final_mse_dt = mean_squared_error(y_test, final_pred)\n",
    "print(final_mse_dt)"
   ]
  },
  {
   "cell_type": "code",
   "execution_count": 19,
   "metadata": {
    "id": "ZWGQ1JrgjYPD"
   },
   "outputs": [],
   "source": [
    "# SUBSTITUTE YOUR ANSWER IN PLACE OF None\n",
    "\n",
    "ans[6] = final_mse_dt"
   ]
  },
  {
   "cell_type": "markdown",
   "metadata": {
    "id": "zXi-uVyNtLMR"
   },
   "source": [
    "Try to plot the test mean squared error vs the num of decision trees used for that prediction. The graph should be similar to the Linear Regression graph. \n",
    "\n",
    "You can also try to plot the mean squared error of the predictions on the _WHOLE_ training dataset to gain more insight.\n",
    "\n",
    "Some of the matplotlib code has been written for you."
   ]
  },
  {
   "cell_type": "markdown",
   "metadata": {
    "id": "ijXWHiyDt7f7"
   },
   "source": [
    "#### PLOTTING THE TEST MSE VS NUM OF DECISION TREES"
   ]
  },
  {
   "cell_type": "code",
   "execution_count": 20,
   "metadata": {
    "id": "hfyVl6W3SoWZ"
   },
   "outputs": [
    {
     "data": {
      "image/png": "[encoded data removed]",
      "text/plain": [
       "<Figure size 432x288 with 1 Axes>"
      ]
     },
     "metadata": {
      "needs_background": "light"
     },
     "output_type": "display_data"
    }
   ],
   "source": [
    "# num_trees : list of the number of trees\n",
    "# test_mse : list of the corresponding test mean squared error\n",
    "\n",
    "nums = [i for i in range(2, 51)]\n",
    "final_test_mse_dt = []\n",
    "np.random.seed(10)                               # Used for consistent answers for evaluation purposes\n",
    "\n",
    "\n",
    "for j in nums:\n",
    "    subset_seed = random_generator(10, 0, 200, j)\n",
    "    final_mse = [0]*(len(y_test))\n",
    "    for i in range(j):\n",
    "        row_index = random_generator(subset_seed[i], 0, 404, 404)                     # Row indexes that you need to fit your model on. Do not change it.\n",
    "        dt = DecisionTreeRegressor(max_depth = 3, random_state = 10)      # Decision Tree that you need to use.Don't change parameters.\n",
    "\n",
    "        x_sampled_train = x_train.iloc[row_index]\n",
    "        y_sampled_train = y_train.iloc[row_index]\n",
    "\n",
    "        dt.fit(x_sampled_train, y_sampled_train)\n",
    "\n",
    "        pred = list(dt.predict(x_test))\n",
    "        for k in range(len(pred)):\n",
    "            final_pred[k] += pred[k];\n",
    "\n",
    "    final_pred = [i/j for i in final_pred]\n",
    "    final_mse = mean_squared_error(y_test, final_pred)\n",
    "    final_test_mse_dt.append(final_mse)\n",
    "\n",
    "\n",
    "num_trees = nums         # remember to replace it with your implemented code\n",
    "test_mse = final_test_mse_dt          # remember to replace it with your implemented code\n",
    "\n",
    "plt.plot(num_trees, test_mse, c = \"b\", label = \"Test Mean Squared Error\")\n",
    "plt.xlabel(\"Number of Linear Regression Models\")\n",
    "plt.legend()\n",
    "plt.ylabel(\"Mean Squared Error\")\n",
    "plt.title(\"Mean Squared Error vs Num of Linear Regression Models\")\n",
    "plt.gca().set_xlim(left = 0)\n",
    "plt.show()"
   ]
  },
  {
   "cell_type": "markdown",
   "metadata": {
    "id": "bxdkZl-ltxf-"
   },
   "source": [
    "Did the Decision Tree Perform better or the Linear Regression Model?\n",
    "\n",
    "Was there a dip in the test mean squared error in the Decision Trees?\n",
    "\n",
    "Keep the test mean square error in mind for the next assignment where we will tweak the decision tree model a bit to arrive at a very popular model called Random Forest model."
   ]
  },
  {
   "cell_type": "code",
   "execution_count": 21,
   "metadata": {
    "id": "8rd4vNkMUlCn"
   },
   "outputs": [],
   "source": [
    "import json\n",
    "ans = [str(item) for item in ans]\n",
    "\n",
    "filename = \"group5_Aryan_Singh_Bagging\"\n",
    "\n",
    "# Eg if your name is Saurav Joshi and group id is 0, filename becomes\n",
    "# filename = group0_Saurav_Joshi_Bagging"
   ]
  },
  {
   "cell_type": "markdown",
   "metadata": {
    "id": "PPfsGXKVOWH3"
   },
   "source": [
    "## Do not change anything below!!\n",
    "- Make sure you have changed the above variable \"filename\" with the correct value. Do not change anything below!!"
   ]
  },
  {
   "cell_type": "code",
   "execution_count": 22,
   "metadata": {
    "id": "tSJAs8nLd-6f"
   },
   "outputs": [
    {
     "ename": "ModuleNotFoundError",
     "evalue": "No module named 'findScore'",
     "output_type": "error",
     "traceback": [
      "\u001b[1;31m---------------------------------------------------------------------------\u001b[0m",
      "\u001b[1;31mModuleNotFoundError\u001b[0m                       Traceback (most recent call last)",
      "\u001b[1;32m<ipython-input-22-0a1891ccbb16>\u001b[0m in \u001b[0;36m<module>\u001b[1;34m\u001b[0m\n\u001b[0;32m      3\u001b[0m \u001b[1;32mfrom\u001b[0m \u001b[0mpprint\u001b[0m \u001b[1;32mimport\u001b[0m \u001b[0mpprint\u001b[0m\u001b[1;33m\u001b[0m\u001b[1;33m\u001b[0m\u001b[0m\n\u001b[0;32m      4\u001b[0m \u001b[1;33m\u001b[0m\u001b[0m\n\u001b[1;32m----> 5\u001b[1;33m \u001b[0mfindScore\u001b[0m \u001b[1;33m=\u001b[0m \u001b[0mimport_module\u001b[0m\u001b[1;33m(\u001b[0m\u001b[1;34m'findScore'\u001b[0m\u001b[1;33m)\u001b[0m\u001b[1;33m\u001b[0m\u001b[1;33m\u001b[0m\u001b[0m\n\u001b[0m\u001b[0;32m      6\u001b[0m \u001b[0mresponse\u001b[0m \u001b[1;33m=\u001b[0m \u001b[0mfindScore\u001b[0m\u001b[1;33m.\u001b[0m\u001b[0mmain\u001b[0m\u001b[1;33m(\u001b[0m\u001b[0mans\u001b[0m\u001b[1;33m)\u001b[0m\u001b[1;33m\u001b[0m\u001b[1;33m\u001b[0m\u001b[0m\n\u001b[0;32m      7\u001b[0m \u001b[0mresponse\u001b[0m\u001b[1;33m[\u001b[0m\u001b[1;34m'details'\u001b[0m\u001b[1;33m]\u001b[0m \u001b[1;33m=\u001b[0m \u001b[0mfilename\u001b[0m\u001b[1;33m\u001b[0m\u001b[1;33m\u001b[0m\u001b[0m\n",
      "\u001b[1;32m~\\anaconda3\\lib\\importlib\\__init__.py\u001b[0m in \u001b[0;36mimport_module\u001b[1;34m(name, package)\u001b[0m\n\u001b[0;32m    125\u001b[0m                 \u001b[1;32mbreak\u001b[0m\u001b[1;33m\u001b[0m\u001b[1;33m\u001b[0m\u001b[0m\n\u001b[0;32m    126\u001b[0m             \u001b[0mlevel\u001b[0m \u001b[1;33m+=\u001b[0m \u001b[1;36m1\u001b[0m\u001b[1;33m\u001b[0m\u001b[1;33m\u001b[0m\u001b[0m\n\u001b[1;32m--> 127\u001b[1;33m     \u001b[1;32mreturn\u001b[0m \u001b[0m_bootstrap\u001b[0m\u001b[1;33m.\u001b[0m\u001b[0m_gcd_import\u001b[0m\u001b[1;33m(\u001b[0m\u001b[0mname\u001b[0m\u001b[1;33m[\u001b[0m\u001b[0mlevel\u001b[0m\u001b[1;33m:\u001b[0m\u001b[1;33m]\u001b[0m\u001b[1;33m,\u001b[0m \u001b[0mpackage\u001b[0m\u001b[1;33m,\u001b[0m \u001b[0mlevel\u001b[0m\u001b[1;33m)\u001b[0m\u001b[1;33m\u001b[0m\u001b[1;33m\u001b[0m\u001b[0m\n\u001b[0m\u001b[0;32m    128\u001b[0m \u001b[1;33m\u001b[0m\u001b[0m\n\u001b[0;32m    129\u001b[0m \u001b[1;33m\u001b[0m\u001b[0m\n",
      "\u001b[1;32m~\\anaconda3\\lib\\importlib\\_bootstrap.py\u001b[0m in \u001b[0;36m_gcd_import\u001b[1;34m(name, package, level)\u001b[0m\n",
      "\u001b[1;32m~\\anaconda3\\lib\\importlib\\_bootstrap.py\u001b[0m in \u001b[0;36m_find_and_load\u001b[1;34m(name, import_)\u001b[0m\n",
      "\u001b[1;32m~\\anaconda3\\lib\\importlib\\_bootstrap.py\u001b[0m in \u001b[0;36m_find_and_load_unlocked\u001b[1;34m(name, import_)\u001b[0m\n",
      "\u001b[1;31mModuleNotFoundError\u001b[0m: No module named 'findScore'"
     ]
    }
   ],
   "source": [
    "from importlib import import_module\n",
    "import os\n",
    "from pprint import pprint\n",
    "\n",
    "findScore = import_module('findScore')\n",
    "response = findScore.main(ans)\n",
    "response['details'] = filename\n",
    "with open(f'evaluation_{filename}.json', 'w') as outfile:\n",
    "    json.dump(response, outfile)\n",
    "pprint(response)"
   ]
  }
 ],
 "metadata": {
  "colab": {
   "collapsed_sections": [],
   "name": "group0_Saurav_Joshi_Bagging.ipynb",
   "provenance": []
  },
  "kernelspec": {
   "display_name": "Python 3",
   "language": "python",
   "name": "python3"
  },
  "language_info": {
   "codemirror_mode": {
    "name": "ipython",
    "version": 3
   },
   "file_extension": ".py",
   "mimetype": "text/x-python",
   "name": "python",
   "nbconvert_exporter": "python",
   "pygments_lexer": "ipython3",
   "version": "3.7.6"
  }
 },
 "nbformat": 4,
 "nbformat_minor": 1
}

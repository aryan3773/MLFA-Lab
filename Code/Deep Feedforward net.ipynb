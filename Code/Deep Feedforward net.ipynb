{
 "cells": [
  {
   "cell_type": "code",
   "execution_count": 71,
   "metadata": {
    "id": "r6egrk5Iziyn"
   },
   "outputs": [],
   "source": [
    "import numpy as np\n",
    "import matplotlib.pyplot as plt\n",
    "from sklearn.neighbors import KNeighborsClassifier\n",
    "from keras.layers import Dense, Flatten\n",
    "from keras.models import Sequential\n",
    "from tensorflow.keras.utils import to_categorical\n",
    "from keras.datasets import mnist\n",
    "from tensorflow.keras import optimizers\n",
    "from keras import models"
   ]
  },
  {
   "cell_type": "code",
   "execution_count": 72,
   "metadata": {
    "id": "V3FwGxe50hbU"
   },
   "outputs": [],
   "source": [
    "(X_train, y_train), (X_test, y_test) = mnist.load_data()"
   ]
  },
  {
   "cell_type": "code",
   "execution_count": 73,
   "metadata": {
    "colab": {
     "base_uri": "https://localhost:8080/"
    },
    "id": "XVz0HLcC1PFl",
    "outputId": "2eeb7dc3-d2af-4742-f0fc-89493e205019"
   },
   "outputs": [
    {
     "name": "stdout",
     "output_type": "stream",
     "text": [
      "(60000, 28, 28)\n",
      "(10000, 28, 28)\n"
     ]
    }
   ],
   "source": [
    "print(X_train.shape)\n",
    "print(X_test.shape)"
   ]
  },
  {
   "cell_type": "code",
   "execution_count": 74,
   "metadata": {
    "colab": {
     "base_uri": "https://localhost:8080/"
    },
    "id": "7aFS-BlL2aRT",
    "outputId": "b0b2cc2d-ec80-4380-bf3c-a908f917a78b"
   },
   "outputs": [
    {
     "name": "stdout",
     "output_type": "stream",
     "text": [
      "(60000,)\n",
      "(10000,)\n"
     ]
    }
   ],
   "source": [
    "print(y_train.shape)\n",
    "print(y_test.shape)"
   ]
  },
  {
   "cell_type": "code",
   "execution_count": 75,
   "metadata": {
    "colab": {
     "base_uri": "https://localhost:8080/",
     "height": 147
    },
    "id": "i_430sGH2map",
    "outputId": "569e3166-cf48-4cea-b177-d34a824a48de"
   },
   "outputs": [
    {
     "data": {
      "image/png": "[encoded data removed]",
      "text/plain": [
       "<Figure size 720x288 with 5 Axes>"
      ]
     },
     "metadata": {
      "needs_background": "light"
     },
     "output_type": "display_data"
    }
   ],
   "source": [
    "fig, axes = plt.subplots(ncols=5, sharex=False, \n",
    "    sharey=True, figsize=(10, 4))\n",
    "for i in range(5):\n",
    "    axes[i].set_title(y_train[i])\n",
    "    axes[i].imshow(X_train[i], cmap='gray')\n",
    "    axes[i].get_xaxis().set_visible(False)\n",
    "    axes[i].get_yaxis().set_visible(False)\n",
    "plt.show()"
   ]
  },
  {
   "cell_type": "code",
   "execution_count": 76,
   "metadata": {
    "id": "8-Ehc_Sr29Gg"
   },
   "outputs": [],
   "source": [
    "# Convert y_train into one-hot format\n",
    "temp = []\n",
    "for i in range(len(y_train)):\n",
    "    temp.append(to_categorical(y_train[i], num_classes=10))\n",
    "y_train = np.array(temp)\n",
    "# Convert y_test into one-hot format\n",
    "temp = []\n",
    "for i in range(len(y_test)):    \n",
    "    temp.append(to_categorical(y_test[i], num_classes=10))\n",
    "y_test = np.array(temp)"
   ]
  },
  {
   "cell_type": "code",
   "execution_count": 77,
   "metadata": {
    "colab": {
     "base_uri": "https://localhost:8080/"
    },
    "id": "dIhANiyC3UR3",
    "outputId": "ed361432-6f89-4343-b014-d958c2890c1b"
   },
   "outputs": [
    {
     "name": "stdout",
     "output_type": "stream",
     "text": [
      "(60000, 10)\n",
      "(10000, 10)\n"
     ]
    }
   ],
   "source": [
    "print(y_train.shape)\n",
    "print(y_test.shape)"
   ]
  },
  {
   "cell_type": "code",
   "execution_count": 78,
   "metadata": {
    "colab": {
     "base_uri": "https://localhost:8080/"
    },
    "id": "N7ZERcDz3uha",
    "outputId": "e61b5b82-2ea8-4520-f635-2500577e8642"
   },
   "outputs": [
    {
     "data": {
      "text/plain": [
       "array([0., 0., 0., 0., 0., 1., 0., 0., 0., 0.], dtype=float32)"
      ]
     },
     "execution_count": 78,
     "metadata": {},
     "output_type": "execute_result"
    }
   ],
   "source": [
    "y_train[0]"
   ]
  },
  {
   "cell_type": "markdown",
   "metadata": {
    "id": "yaf-Um26BJO5"
   },
   "source": [
    "1. Neural Network with 1 Hidden Layer"
   ]
  },
  {
   "cell_type": "code",
   "execution_count": 79,
   "metadata": {
    "id": "gFHoQR3a3w2B"
   },
   "outputs": [],
   "source": [
    "model = Sequential()\n",
    "model.add(Flatten(input_shape=(28,28)))\n",
    "model.add(Dense(100, activation='relu', name = \"Hidden_Layer\"))\n",
    "model.add(Dense(10, activation='softmax', name = \"Output_Layer\"))"
   ]
  },
  {
   "cell_type": "code",
   "execution_count": 80,
   "metadata": {
    "colab": {
     "base_uri": "https://localhost:8080/"
    },
    "id": "K0W85Lys5GaG",
    "outputId": "52cf903c-6919-4f91-9637-215b0d52f1fc"
   },
   "outputs": [
    {
     "name": "stdout",
     "output_type": "stream",
     "text": [
      "Model: \"sequential_4\"\n",
      "_________________________________________________________________\n",
      "Layer (type)                 Output Shape              Param #   \n",
      "=================================================================\n",
      "flatten_4 (Flatten)          (None, 784)               0         \n",
      "_________________________________________________________________\n",
      "Hidden_Layer (Dense)         (None, 100)               78500     \n",
      "_________________________________________________________________\n",
      "Output_Layer (Dense)         (None, 10)                1010      \n",
      "=================================================================\n",
      "Total params: 79,510\n",
      "Trainable params: 79,510\n",
      "Non-trainable params: 0\n",
      "_________________________________________________________________\n"
     ]
    }
   ],
   "source": [
    "model.summary()"
   ]
  },
  {
   "cell_type": "code",
   "execution_count": 81,
   "metadata": {
    "id": "RcnkUlTM5WnS"
   },
   "outputs": [],
   "source": [
    "# Hyperparameters\n",
    "learning_rate = 0.1\n",
    "training_epochs = 20\n",
    "batch_size = 100\n",
    "sgd = optimizers.SGD(learning_rate=learning_rate)"
   ]
  },
  {
   "cell_type": "code",
   "execution_count": 82,
   "metadata": {
    "id": "eL38xnef5H0T"
   },
   "outputs": [],
   "source": [
    "model.compile(loss='categorical_crossentropy', \n",
    "              optimizer='sgd',\n",
    "              metrics=['acc'])"
   ]
  },
  {
   "cell_type": "code",
   "execution_count": 83,
   "metadata": {
    "colab": {
     "base_uri": "https://localhost:8080/"
    },
    "id": "CXJ9ytj85qy6",
    "outputId": "858a3819-fb2f-41d0-d434-e5c2b4328484"
   },
   "outputs": [
    {
     "name": "stdout",
     "output_type": "stream",
     "text": [
      "Epoch 1/20\n",
      "600/600 [==============================] - 2s 3ms/step - loss: 41.6411 - acc: 0.4239\n",
      "Epoch 2/20\n",
      "600/600 [==============================] - 2s 3ms/step - loss: 1.1534 - acc: 0.6249\n",
      "Epoch 3/20\n",
      "600/600 [==============================] - 2s 3ms/step - loss: 1.1593 - acc: 0.6161\n",
      "Epoch 4/20\n",
      "600/600 [==============================] - 2s 3ms/step - loss: 1.0454 - acc: 0.6466\n",
      "Epoch 5/20\n",
      "600/600 [==============================] - 2s 3ms/step - loss: 0.9445 - acc: 0.6768\n",
      "Epoch 6/20\n",
      "600/600 [==============================] - 2s 3ms/step - loss: 1.0311 - acc: 0.6525\n",
      "Epoch 7/20\n",
      "600/600 [==============================] - 2s 3ms/step - loss: 0.9823 - acc: 0.6657\n",
      "Epoch 8/20\n",
      "600/600 [==============================] - 2s 3ms/step - loss: 0.9774 - acc: 0.6671\n",
      "Epoch 9/20\n",
      "600/600 [==============================] - 2s 3ms/step - loss: 0.9398 - acc: 0.6723\n",
      "Epoch 10/20\n",
      "600/600 [==============================] - 2s 3ms/step - loss: 0.8765 - acc: 0.7192\n",
      "Epoch 11/20\n",
      "600/600 [==============================] - 2s 3ms/step - loss: 0.8479 - acc: 0.7466\n",
      "Epoch 12/20\n",
      "600/600 [==============================] - 2s 3ms/step - loss: 0.9052 - acc: 0.6997\n",
      "Epoch 13/20\n",
      "600/600 [==============================] - 2s 3ms/step - loss: 0.8844 - acc: 0.7235\n",
      "Epoch 14/20\n",
      "600/600 [==============================] - 2s 3ms/step - loss: 0.7717 - acc: 0.7585\n",
      "Epoch 15/20\n",
      "600/600 [==============================] - 2s 3ms/step - loss: 0.7749 - acc: 0.7586\n",
      "Epoch 16/20\n",
      "600/600 [==============================] - 2s 3ms/step - loss: 1.0241 - acc: 0.6601\n",
      "Epoch 17/20\n",
      "600/600 [==============================] - 2s 3ms/step - loss: 1.0437 - acc: 0.6287\n",
      "Epoch 18/20\n",
      "600/600 [==============================] - 2s 3ms/step - loss: 0.9450 - acc: 0.7141\n",
      "Epoch 19/20\n",
      "600/600 [==============================] - 2s 3ms/step - loss: 0.8232 - acc: 0.7495\n",
      "Epoch 20/20\n",
      "600/600 [==============================] - 2s 3ms/step - loss: 0.7950 - acc: 0.7558\n"
     ]
    }
   ],
   "source": [
    "history1 = model.fit(X_train, y_train,\n",
    "                     batch_size = batch_size,\n",
    "                     epochs = training_epochs)"
   ]
  },
  {
   "cell_type": "code",
   "execution_count": 84,
   "metadata": {
    "colab": {
     "base_uri": "https://localhost:8080/"
    },
    "id": "T0ucyn7kiS3q",
    "outputId": "3609931a-7ac9-4e49-ebba-0dac5d8a94f0"
   },
   "outputs": [
    {
     "name": "stdout",
     "output_type": "stream",
     "text": [
      "Training accuracy: 76.86333333333333\n",
      "Testing accuracy: 76.33\n"
     ]
    }
   ],
   "source": [
    "from sklearn.metrics import accuracy_score\n",
    "y_train_labels=np.argmax(y_train, axis=1)\n",
    "y_test_labels=np.argmax(y_test, axis=1)\n",
    "\n",
    "y_pred_train = np.argmax(model.predict(X_train), axis=-1)\n",
    "y_pred_test = np.argmax(model.predict(X_test), axis=-1)\n",
    "print('Training accuracy:', 100*accuracy_score(y_train_labels, y_pred_train))\n",
    "print('Testing accuracy:', 100*accuracy_score(y_test_labels, y_pred_test))"
   ]
  },
  {
   "cell_type": "code",
   "execution_count": 85,
   "metadata": {
    "colab": {
     "base_uri": "https://localhost:8080/",
     "height": 312
    },
    "id": "Yictke9k9stm",
    "outputId": "3a5cfb69-7099-4aab-96d2-6e117528eff7"
   },
   "outputs": [
    {
     "data": {
      "text/plain": [
       "Text(0, 0.5, 'Accuracy')"
      ]
     },
     "execution_count": 85,
     "metadata": {},
     "output_type": "execute_result"
    },
    {
     "data": {
      "image/png": "[encoded data removed]",
      "text/plain": [
       "<Figure size 432x288 with 1 Axes>"
      ]
     },
     "metadata": {
      "needs_background": "light"
     },
     "output_type": "display_data"
    }
   ],
   "source": [
    "plt.figure()\n",
    "plt.plot(history1.history['acc'])\n",
    "plt.title('Model Accuracy')\n",
    "plt.xlabel('No. of Epochs')\n",
    "plt.ylabel('Accuracy')"
   ]
  },
  {
   "cell_type": "code",
   "execution_count": 86,
   "metadata": {
    "colab": {
     "base_uri": "https://localhost:8080/",
     "height": 145
    },
    "id": "ZhHNdp4g6dkX",
    "outputId": "7aca9bab-9c11-4779-a43a-ada5dea02721"
   },
   "outputs": [
    {
     "data": {
      "image/png": "[encoded data removed]",
      "text/plain": [
       "<Figure size 1440x288 with 10 Axes>"
      ]
     },
     "metadata": {
      "needs_background": "light"
     },
     "output_type": "display_data"
    }
   ],
   "source": [
    "fig, axes = plt.subplots(ncols=10, sharex=False,\n",
    "                         sharey=True, figsize=(20, 4))\n",
    "for i in range(10):\n",
    "    axes[i].set_title(y_pred_test[i])\n",
    "    axes[i].imshow(X_test[i], cmap='gray')\n",
    "    axes[i].get_xaxis().set_visible(False)\n",
    "    axes[i].get_yaxis().set_visible(False)\n",
    "plt.show()"
   ]
  },
  {
   "cell_type": "markdown",
   "metadata": {
    "id": "cVlaV6EI7YWV"
   },
   "source": [
    "2. Neural Network with 10 hidden layers\n"
   ]
  },
  {
   "cell_type": "code",
   "execution_count": 87,
   "metadata": {
    "id": "6T5K00DJ7jT3"
   },
   "outputs": [],
   "source": [
    "model = Sequential()\n",
    "model.add(Flatten(input_shape=(28,28)))\n",
    "model.add(Dense(10, activation='relu', name = \"Hidden_Layer_1\"))\n",
    "model.add(Dense(10, activation='relu', name = \"Hidden_Layer_2\"))\n",
    "model.add(Dense(10, activation='relu', name = \"Hidden_Layer_3\"))\n",
    "model.add(Dense(10, activation='relu', name = \"Hidden_Layer_4\"))\n",
    "model.add(Dense(10, activation='relu', name = \"Hidden_Layer_5\"))\n",
    "model.add(Dense(10, activation='relu', name = \"Hidden_Layer_6\"))\n",
    "model.add(Dense(10, activation='relu', name = \"Hidden_Layer_7\"))\n",
    "model.add(Dense(10, activation='relu', name = \"Hidden_Layer_8\"))\n",
    "model.add(Dense(10, activation='relu', name = \"Hidden_Layer_9\"))\n",
    "model.add(Dense(10, activation='relu', name = \"Hidden_Layer_10\"))\n",
    "model.add(Dense(10, activation='softmax', name = \"Output_Layer\"))"
   ]
  },
  {
   "cell_type": "code",
   "execution_count": 88,
   "metadata": {
    "colab": {
     "base_uri": "https://localhost:8080/"
    },
    "id": "wK-r0Iwj74DG",
    "outputId": "2d619ad6-4e66-434e-a8f8-0ee5259f7963"
   },
   "outputs": [
    {
     "name": "stdout",
     "output_type": "stream",
     "text": [
      "Model: \"sequential_5\"\n",
      "_________________________________________________________________\n",
      "Layer (type)                 Output Shape              Param #   \n",
      "=================================================================\n",
      "flatten_5 (Flatten)          (None, 784)               0         \n",
      "_________________________________________________________________\n",
      "Hidden_Layer_1 (Dense)       (None, 10)                7850      \n",
      "_________________________________________________________________\n",
      "Hidden_Layer_2 (Dense)       (None, 10)                110       \n",
      "_________________________________________________________________\n",
      "Hidden_Layer_3 (Dense)       (None, 10)                110       \n",
      "_________________________________________________________________\n",
      "Hidden_Layer_4 (Dense)       (None, 10)                110       \n",
      "_________________________________________________________________\n",
      "Hidden_Layer_5 (Dense)       (None, 10)                110       \n",
      "_________________________________________________________________\n",
      "Hidden_Layer_6 (Dense)       (None, 10)                110       \n",
      "_________________________________________________________________\n",
      "Hidden_Layer_7 (Dense)       (None, 10)                110       \n",
      "_________________________________________________________________\n",
      "Hidden_Layer_8 (Dense)       (None, 10)                110       \n",
      "_________________________________________________________________\n",
      "Hidden_Layer_9 (Dense)       (None, 10)                110       \n",
      "_________________________________________________________________\n",
      "Hidden_Layer_10 (Dense)      (None, 10)                110       \n",
      "_________________________________________________________________\n",
      "Output_Layer (Dense)         (None, 10)                110       \n",
      "=================================================================\n",
      "Total params: 8,950\n",
      "Trainable params: 8,950\n",
      "Non-trainable params: 0\n",
      "_________________________________________________________________\n"
     ]
    }
   ],
   "source": [
    "model.summary()"
   ]
  },
  {
   "cell_type": "code",
   "execution_count": 89,
   "metadata": {
    "id": "iWvZK-2G8HMK"
   },
   "outputs": [],
   "source": [
    "# Hyperparameters\n",
    "learning_rate = 0.1\n",
    "training_epochs = 20\n",
    "batch_size = 100\n",
    "sgd = optimizers.SGD(learning_rate=learning_rate)"
   ]
  },
  {
   "cell_type": "code",
   "execution_count": 90,
   "metadata": {
    "id": "4P03Urgo8MCj"
   },
   "outputs": [],
   "source": [
    "model.compile(loss='categorical_crossentropy', \n",
    "              optimizer='sgd',\n",
    "              metrics=['acc'])"
   ]
  },
  {
   "cell_type": "code",
   "execution_count": 91,
   "metadata": {
    "colab": {
     "base_uri": "https://localhost:8080/"
    },
    "id": "oxH-UGbJ8Q6J",
    "outputId": "57ef9ccb-09c3-49eb-f6ea-e58d9516eb5a"
   },
   "outputs": [
    {
     "name": "stdout",
     "output_type": "stream",
     "text": [
      "Epoch 1/20\n",
      "600/600 [==============================] - 2s 2ms/step - loss: 1.8331 - acc: 0.2475\n",
      "Epoch 2/20\n",
      "600/600 [==============================] - 1s 2ms/step - loss: 1.4807 - acc: 0.3981\n",
      "Epoch 3/20\n",
      "600/600 [==============================] - 1s 2ms/step - loss: 1.2025 - acc: 0.5279\n",
      "Epoch 4/20\n",
      "600/600 [==============================] - 1s 2ms/step - loss: 1.0844 - acc: 0.5903\n",
      "Epoch 5/20\n",
      "600/600 [==============================] - 1s 2ms/step - loss: 0.8385 - acc: 0.7198\n",
      "Epoch 6/20\n",
      "600/600 [==============================] - 1s 2ms/step - loss: 0.7021 - acc: 0.7756\n",
      "Epoch 7/20\n",
      "600/600 [==============================] - 1s 2ms/step - loss: 0.6422 - acc: 0.8005\n",
      "Epoch 8/20\n",
      "600/600 [==============================] - 1s 2ms/step - loss: 0.6120 - acc: 0.8151\n",
      "Epoch 9/20\n",
      "600/600 [==============================] - 1s 2ms/step - loss: 0.5667 - acc: 0.8381\n",
      "Epoch 10/20\n",
      "600/600 [==============================] - 1s 2ms/step - loss: 0.5112 - acc: 0.8564\n",
      "Epoch 11/20\n",
      "600/600 [==============================] - 1s 2ms/step - loss: 0.4846 - acc: 0.8644\n",
      "Epoch 12/20\n",
      "600/600 [==============================] - 1s 2ms/step - loss: 0.4570 - acc: 0.8734\n",
      "Epoch 13/20\n",
      "600/600 [==============================] - 1s 2ms/step - loss: 0.4389 - acc: 0.8782\n",
      "Epoch 14/20\n",
      "600/600 [==============================] - 1s 2ms/step - loss: 0.4279 - acc: 0.8813\n",
      "Epoch 15/20\n",
      "600/600 [==============================] - 1s 2ms/step - loss: 0.4191 - acc: 0.8852\n",
      "Epoch 16/20\n",
      "600/600 [==============================] - 1s 2ms/step - loss: 0.4109 - acc: 0.8872\n",
      "Epoch 17/20\n",
      "600/600 [==============================] - 1s 2ms/step - loss: 0.3957 - acc: 0.8907\n",
      "Epoch 18/20\n",
      "600/600 [==============================] - 1s 2ms/step - loss: 0.3937 - acc: 0.8925\n",
      "Epoch 19/20\n",
      "600/600 [==============================] - 1s 2ms/step - loss: 0.3808 - acc: 0.8953\n",
      "Epoch 20/20\n",
      "600/600 [==============================] - 1s 2ms/step - loss: 0.3647 - acc: 0.8997\n"
     ]
    }
   ],
   "source": [
    "history1 = model.fit(X_train, y_train,\n",
    "                     batch_size = batch_size,\n",
    "                     epochs = training_epochs)"
   ]
  },
  {
   "cell_type": "code",
   "execution_count": 92,
   "metadata": {
    "colab": {
     "base_uri": "https://localhost:8080/"
    },
    "id": "vT5nS0rq8TqI",
    "outputId": "a078be8e-0ae0-4aa0-c728-3de0004d375e"
   },
   "outputs": [
    {
     "name": "stdout",
     "output_type": "stream",
     "text": [
      "Training accuracy: 89.96\n",
      "Testing accuracy: 89.46\n"
     ]
    }
   ],
   "source": [
    "from sklearn.metrics import accuracy_score\n",
    "y_train_labels=np.argmax(y_train, axis=1)\n",
    "y_test_labels=np.argmax(y_test, axis=1)\n",
    "\n",
    "y_pred_train = np.argmax(model.predict(X_train), axis=-1)\n",
    "y_pred_test = np.argmax(model.predict(X_test), axis=-1)\n",
    "print('Training accuracy:', 100*accuracy_score(y_train_labels, y_pred_train))\n",
    "print('Testing accuracy:', 100*accuracy_score(y_test_labels, y_pred_test))"
   ]
  },
  {
   "cell_type": "code",
   "execution_count": 93,
   "metadata": {
    "colab": {
     "base_uri": "https://localhost:8080/",
     "height": 312
    },
    "id": "mYgbvwMi-JPT",
    "outputId": "38f6821c-040d-4d9a-9090-0e3cc89bb2fd"
   },
   "outputs": [
    {
     "data": {
      "text/plain": [
       "Text(0, 0.5, 'Accuracy')"
      ]
     },
     "execution_count": 93,
     "metadata": {},
     "output_type": "execute_result"
    },
    {
     "data": {
      "image/png": "[encoded data removed]",
      "text/plain": [
       "<Figure size 432x288 with 1 Axes>"
      ]
     },
     "metadata": {
      "needs_background": "light"
     },
     "output_type": "display_data"
    }
   ],
   "source": [
    "plt.figure()\n",
    "plt.plot(history1.history['acc'])\n",
    "plt.title('Model Accuracy')\n",
    "plt.xlabel('No. of Epochs')\n",
    "plt.ylabel('Accuracy')"
   ]
  },
  {
   "cell_type": "code",
   "execution_count": 94,
   "metadata": {
    "colab": {
     "base_uri": "https://localhost:8080/",
     "height": 145
    },
    "id": "j5Rxt7n78XAD",
    "outputId": "8602ed39-2b3e-4806-a581-79dffaac8166"
   },
   "outputs": [
    {
     "data": {
      "image/png": "[encoded data removed]",
      "text/plain": [
       "<Figure size 1440x288 with 10 Axes>"
      ]
     },
     "metadata": {
      "needs_background": "light"
     },
     "output_type": "display_data"
    }
   ],
   "source": [
    "fig, axes = plt.subplots(ncols=10, sharex=False,\n",
    "                         sharey=True, figsize=(20, 4))\n",
    "for i in range(10):\n",
    "    axes[i].set_title(y_pred_test[i])\n",
    "    axes[i].imshow(X_test[i], cmap='gray')\n",
    "    axes[i].get_xaxis().set_visible(False)\n",
    "    axes[i].get_yaxis().set_visible(False)\n",
    "plt.show()"
   ]
  },
  {
   "cell_type": "markdown",
   "metadata": {
    "id": "i5Jk9WLx-rK5"
   },
   "source": [
    "3. Training K Nearest Neighbour using features from Hidden Layers"
   ]
  },
  {
   "cell_type": "code",
   "execution_count": 95,
   "metadata": {
    "id": "BrDlkgDB-8Mz"
   },
   "outputs": [],
   "source": [
    "layer_outputs = [layer.output for layer in model.layers] \n",
    "activation_model = models.Model(inputs=model.input, outputs=layer_outputs)"
   ]
  },
  {
   "cell_type": "code",
   "execution_count": 96,
   "metadata": {
    "id": "UpMBAgvU_B5a"
   },
   "outputs": [],
   "source": [
    "activations_train = activation_model.predict(X_train) \n",
    "activations_test = activation_model.predict(X_test) "
   ]
  },
  {
   "cell_type": "code",
   "execution_count": 97,
   "metadata": {
    "colab": {
     "base_uri": "https://localhost:8080/"
    },
    "id": "veNCimnv_UY2",
    "outputId": "81bba59d-2667-467a-b454-bb0859033b9d"
   },
   "outputs": [
    {
     "name": "stdout",
     "output_type": "stream",
     "text": [
      "Training accuracy from 5th hideden layer: 88.89166666666667\n",
      "Testing accuracy from 5th hidden layer: 87.74\n"
     ]
    }
   ],
   "source": [
    "#Using features from Hidden Layer 5\n",
    "knn = KNeighborsClassifier(n_neighbors=10)\n",
    "knn.fit(activations_train[6], y_train)\n",
    "knn_pred_train = knn.predict(activations_train[6])\n",
    "knn_pred_test = knn.predict(activations_test[6])\n",
    "print('Training accuracy from 5th hideden layer:', 100*accuracy_score(y_train, knn_pred_train))\n",
    "print('Testing accuracy from 5th hidden layer:',100*accuracy_score(y_test, knn_pred_test) )"
   ]
  },
  {
   "cell_type": "code",
   "execution_count": 98,
   "metadata": {
    "colab": {
     "base_uri": "https://localhost:8080/"
    },
    "id": "cyVgR2MO_vP4",
    "outputId": "6381e95c-2af6-4e2a-f6cd-61a8140df9d1"
   },
   "outputs": [
    {
     "name": "stdout",
     "output_type": "stream",
     "text": [
      "Training accuracy from 5th hideden layer: 88.64999999999999\n",
      "Testing accuracy from 5th hidden layer: 87.69\n"
     ]
    }
   ],
   "source": [
    "#Using features from Hidden Layer 7\n",
    "knn = KNeighborsClassifier(n_neighbors=10)\n",
    "knn.fit(activations_train[8], y_train)\n",
    "knn_pred_train = knn.predict(activations_train[8])\n",
    "knn_pred_test = knn.predict(activations_test[8])\n",
    "print('Training accuracy from 5th hideden layer:', 100*accuracy_score(y_train, knn_pred_train))\n",
    "print('Testing accuracy from 5th hidden layer:',100*accuracy_score(y_test, knn_pred_test) )"
   ]
  },
  {
   "cell_type": "code",
   "execution_count": 70,
   "metadata": {
    "colab": {
     "base_uri": "https://localhost:8080/"
    },
    "id": "g9aW9TD8AZqW",
    "outputId": "5539524a-dee5-4c44-ab77-55f51142fb42"
   },
   "outputs": [
    {
     "name": "stdout",
     "output_type": "stream",
     "text": [
      "Training accuracy from 5th hideden layer: 80.78166666666667\n",
      "Testing accuracy from 5th hidden layer: 78.91\n"
     ]
    }
   ],
   "source": [
    "#Using features from Hidden Layer 10\n",
    "knn = KNeighborsClassifier(n_neighbors=10)\n",
    "knn.fit(activations_train[11], y_train)\n",
    "knn_pred_train = knn.predict(activations_train[11])\n",
    "knn_pred_test = knn.predict(activations_test[11])\n",
    "print('Training accuracy from 5th hideden layer:', 100*accuracy_score(y_train, knn_pred_train))\n",
    "print('Testing accuracy from 5th hidden layer:',100*accuracy_score(y_test, knn_pred_test) )"
   ]
  }
 ],
 "metadata": {
  "colab": {
   "collapsed_sections": [],
   "name": "Assignment10.ipynb",
   "provenance": []
  },
  "kernelspec": {
   "display_name": "Python 3",
   "language": "python",
   "name": "python3"
  },
  "language_info": {
   "codemirror_mode": {
    "name": "ipython",
    "version": 3
   },
   "file_extension": ".py",
   "mimetype": "text/x-python",
   "name": "python",
   "nbconvert_exporter": "python",
   "pygments_lexer": "ipython3",
   "version": "3.7.6"
  }
 },
 "nbformat": 4,
 "nbformat_minor": 1
}

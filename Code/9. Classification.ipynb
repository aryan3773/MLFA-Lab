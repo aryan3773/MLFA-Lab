{
 "cells": [
  {
   "cell_type": "markdown",
   "metadata": {
    "id": "5xq_PZhIKjqH"
   },
   "source": [
    "# **OVERFITTING AND PRUNING**\n",
    "\n",
    "The first part of the assignment will focus on overfitting and the second part will focus on pruning.\n",
    "\n",
    "Overfitting is a condition when your model fits your training data too well including the noisy labels. Therefore it fails to generalise and its performance on the test set decreases.\n",
    "\n",
    "Pruning is one method to overcome overfitting in Decision Trees. We will essentially look at one way of pruning.\n"
   ]
  },
  {
   "cell_type": "markdown",
   "metadata": {
    "id": "Tq7mQaj9KyKy"
   },
   "source": [
    "## IMPORTING THE PACKAGES\n",
    "\n",
    "The important packages have been imported for you."
   ]
  },
  {
   "cell_type": "code",
   "execution_count": 1,
   "metadata": {
    "executionInfo": {
     "elapsed": 1089,
     "status": "ok",
     "timestamp": 1633193657487,
     "user": {
      "displayName": "SHUBHAM SHANKAR IIT KGP",
      "photoUrl": "https://lh3.googleusercontent.com/a-/AOh14Gg-xyKP8uVCqhXMoBonQBBWCLCTn9A6FmiY7AJ7=s64",
      "userId": "12492927707890580890"
     },
     "user_tz": -330
    },
    "id": "zp32CD8iKYEN"
   },
   "outputs": [],
   "source": [
    "import numpy as np\n",
    "import pandas as pd\n",
    "import matplotlib.pyplot as plt\n",
    "from sklearn.tree import DecisionTreeRegressor\n",
    "from sklearn.metrics import mean_squared_error\n",
    "from sklearn.datasets import load_breast_cancer, load_diabetes\n",
    "from sklearn.model_selection import train_test_split\n",
    "import json\n",
    "\n",
    "ans = [0]*8"
   ]
  },
  {
   "cell_type": "markdown",
   "metadata": {
    "id": "EtfmDrFfLSG_"
   },
   "source": [
    "## LOADING THE DATASET\n",
    "\n",
    "We will load the dataset into the dataset variable. It is a diabetes dataset, a regression problem.\n",
    "\n",
    "There are 11 features (numerical). They include measurements like bmi, sugar level etc. The column names have been set as Feature1, Feature2 etc for ease.\n",
    "\n",
    "The target variable(numerical) is a quantitative measure of how much the disease has progressed. "
   ]
  },
  {
   "cell_type": "code",
   "execution_count": 2,
   "metadata": {
    "colab": {
     "base_uri": "https://localhost:8080/",
     "height": 241
    },
    "executionInfo": {
     "elapsed": 423,
     "status": "ok",
     "timestamp": 1633193700364,
     "user": {
      "displayName": "SHUBHAM SHANKAR IIT KGP",
      "photoUrl": "https://lh3.googleusercontent.com/a-/AOh14Gg-xyKP8uVCqhXMoBonQBBWCLCTn9A6FmiY7AJ7=s64",
      "userId": "12492927707890580890"
     },
     "user_tz": -330
    },
    "id": "x6AzbFhvMxA3",
    "outputId": "5380dc74-c2e2-4f21-b31b-272f81d9dd18"
   },
   "outputs": [
    {
     "name": "stdout",
     "output_type": "stream",
     "text": [
      "Shape of Dataset :  (442, 11) \n",
      "\n"
     ]
    },
    {
     "data": {
      "text/html": [
       "<div>\n",
       "<style scoped>\n",
       "    .dataframe tbody tr th:only-of-type {\n",
       "        vertical-align: middle;\n",
       "    }\n",
       "\n",
       "    .dataframe tbody tr th {\n",
       "        vertical-align: top;\n",
       "    }\n",
       "\n",
       "    .dataframe thead th {\n",
       "        text-align: right;\n",
       "    }\n",
       "</style>\n",
       "<table border=\"1\" class=\"dataframe\">\n",
       "  <thead>\n",
       "    <tr style=\"text-align: right;\">\n",
       "      <th></th>\n",
       "      <th>Feature1</th>\n",
       "      <th>Feature2</th>\n",
       "      <th>Feature3</th>\n",
       "      <th>Feature4</th>\n",
       "      <th>Feature5</th>\n",
       "      <th>Feature6</th>\n",
       "      <th>Feature7</th>\n",
       "      <th>Feature8</th>\n",
       "      <th>Feature9</th>\n",
       "      <th>Feature10</th>\n",
       "      <th>Target</th>\n",
       "    </tr>\n",
       "  </thead>\n",
       "  <tbody>\n",
       "    <tr>\n",
       "      <th>0</th>\n",
       "      <td>0.038076</td>\n",
       "      <td>0.050680</td>\n",
       "      <td>0.061696</td>\n",
       "      <td>0.021872</td>\n",
       "      <td>-0.044223</td>\n",
       "      <td>-0.034821</td>\n",
       "      <td>-0.043401</td>\n",
       "      <td>-0.002592</td>\n",
       "      <td>0.019908</td>\n",
       "      <td>-0.017646</td>\n",
       "      <td>151.0</td>\n",
       "    </tr>\n",
       "    <tr>\n",
       "      <th>1</th>\n",
       "      <td>-0.001882</td>\n",
       "      <td>-0.044642</td>\n",
       "      <td>-0.051474</td>\n",
       "      <td>-0.026328</td>\n",
       "      <td>-0.008449</td>\n",
       "      <td>-0.019163</td>\n",
       "      <td>0.074412</td>\n",
       "      <td>-0.039493</td>\n",
       "      <td>-0.068330</td>\n",
       "      <td>-0.092204</td>\n",
       "      <td>75.0</td>\n",
       "    </tr>\n",
       "    <tr>\n",
       "      <th>2</th>\n",
       "      <td>0.085299</td>\n",
       "      <td>0.050680</td>\n",
       "      <td>0.044451</td>\n",
       "      <td>-0.005671</td>\n",
       "      <td>-0.045599</td>\n",
       "      <td>-0.034194</td>\n",
       "      <td>-0.032356</td>\n",
       "      <td>-0.002592</td>\n",
       "      <td>0.002864</td>\n",
       "      <td>-0.025930</td>\n",
       "      <td>141.0</td>\n",
       "    </tr>\n",
       "    <tr>\n",
       "      <th>3</th>\n",
       "      <td>-0.089063</td>\n",
       "      <td>-0.044642</td>\n",
       "      <td>-0.011595</td>\n",
       "      <td>-0.036656</td>\n",
       "      <td>0.012191</td>\n",
       "      <td>0.024991</td>\n",
       "      <td>-0.036038</td>\n",
       "      <td>0.034309</td>\n",
       "      <td>0.022692</td>\n",
       "      <td>-0.009362</td>\n",
       "      <td>206.0</td>\n",
       "    </tr>\n",
       "    <tr>\n",
       "      <th>4</th>\n",
       "      <td>0.005383</td>\n",
       "      <td>-0.044642</td>\n",
       "      <td>-0.036385</td>\n",
       "      <td>0.021872</td>\n",
       "      <td>0.003935</td>\n",
       "      <td>0.015596</td>\n",
       "      <td>0.008142</td>\n",
       "      <td>-0.002592</td>\n",
       "      <td>-0.031991</td>\n",
       "      <td>-0.046641</td>\n",
       "      <td>135.0</td>\n",
       "    </tr>\n",
       "  </tbody>\n",
       "</table>\n",
       "</div>"
      ],
      "text/plain": [
       "   Feature1  Feature2  Feature3  Feature4  Feature5  Feature6  Feature7  \\\n",
       "0  0.038076  0.050680  0.061696  0.021872 -0.044223 -0.034821 -0.043401   \n",
       "1 -0.001882 -0.044642 -0.051474 -0.026328 -0.008449 -0.019163  0.074412   \n",
       "2  0.085299  0.050680  0.044451 -0.005671 -0.045599 -0.034194 -0.032356   \n",
       "3 -0.089063 -0.044642 -0.011595 -0.036656  0.012191  0.024991 -0.036038   \n",
       "4  0.005383 -0.044642 -0.036385  0.021872  0.003935  0.015596  0.008142   \n",
       "\n",
       "   Feature8  Feature9  Feature10  Target  \n",
       "0 -0.002592  0.019908  -0.017646   151.0  \n",
       "1 -0.039493 -0.068330  -0.092204    75.0  \n",
       "2 -0.002592  0.002864  -0.025930   141.0  \n",
       "3  0.034309  0.022692  -0.009362   206.0  \n",
       "4 -0.002592 -0.031991  -0.046641   135.0  "
      ]
     },
     "execution_count": 2,
     "metadata": {},
     "output_type": "execute_result"
    }
   ],
   "source": [
    "# LOADING THE DATASET USING SKLEARN.\n",
    "# THE CODE HAS BEEN WRITTEN FOR YOU. DO NOT MAKE ANY CHANGES.\n",
    "\n",
    "data, label = load_diabetes(return_X_y = True)                    #loading the dataset\n",
    "cols = [\"Feature\"+str(i) for i in range(1, 11)] \n",
    "dataset = pd.DataFrame(np.concatenate((data, label.reshape(-1, 1)), axis = 1), columns = cols + [\"Target\"])\n",
    "print(\"Shape of Dataset : \", dataset.shape, \"\\n\")\n",
    "dataset.head()"
   ]
  },
  {
   "cell_type": "markdown",
   "metadata": {
    "id": "olzQ3DBgPMBo"
   },
   "source": [
    "## DIVIDING THE DATASET INTO TRAIN AND TEST SET\n",
    "\n",
    "You need to divide the dataset into train and test set using sklearn's train_test_split(x, y, random_state = 15, test_size = x) function. x is the fraction of examples to be alloted to the test set.\n",
    "\n",
    "You need to divide the dataset in 8:2 ratio (train:test size).\n",
    "\n",
    "**NOTE**: Remember to keep random_state = 15 (produces consistent results for evaluation purposes)."
   ]
  },
  {
   "cell_type": "code",
   "execution_count": 3,
   "metadata": {
    "executionInfo": {
     "elapsed": 392,
     "status": "ok",
     "timestamp": 1633194284016,
     "user": {
      "displayName": "SHUBHAM SHANKAR IIT KGP",
      "photoUrl": "https://lh3.googleusercontent.com/a-/AOh14Gg-xyKP8uVCqhXMoBonQBBWCLCTn9A6FmiY7AJ7=s64",
      "userId": "12492927707890580890"
     },
     "user_tz": -330
    },
    "id": "p6LurLByNV5V"
   },
   "outputs": [],
   "source": [
    "# DIVIDE THE DATASET INTO TRAIN AND TEST SET\n",
    "\n",
    "# START YOUR CODE HERE:\n",
    "from sklearn.model_selection import train_test_split\n",
    "\n",
    "X = dataset[dataset.columns[0:10]]\n",
    "y = dataset[[\"Target\"]]\n",
    "\n",
    "X_train, X_test, y_train, y_test = train_test_split(X, y,test_size=0.2, random_state=15)\n",
    "\n",
    "# END YOUR CODE HERE"
   ]
  },
  {
   "cell_type": "markdown",
   "metadata": {
    "id": "lOWZaL8sRpAp"
   },
   "source": [
    "## **QUESTIONS**\n",
    "## **OVERFITTING**\n",
    "\n",
    "It is when your model is too complex and fits the noisy parts of your training data. Therefore it fails to generalize and achieves a bad result on the test set."
   ]
  },
  {
   "cell_type": "markdown",
   "metadata": {
    "id": "GpzH7kRlSOri"
   },
   "source": [
    "### **QUESTION 1**: Fit a Decision Tree Classifier with max_depth = 1 on the training dataset. Assign the train set mean squared error to ans[0] and the test set mean squared error to ans[1]. (1 mark)\n",
    "\n"
   ]
  },
  {
   "cell_type": "code",
   "execution_count": 4,
   "metadata": {
    "executionInfo": {
     "elapsed": 399,
     "status": "ok",
     "timestamp": 1633194887878,
     "user": {
      "displayName": "SHUBHAM SHANKAR IIT KGP",
      "photoUrl": "https://lh3.googleusercontent.com/a-/AOh14Gg-xyKP8uVCqhXMoBonQBBWCLCTn9A6FmiY7AJ7=s64",
      "userId": "12492927707890580890"
     },
     "user_tz": -330
    },
    "id": "ihLlfBv4NTjL"
   },
   "outputs": [],
   "source": [
    "# SOME PART OF THE CODE HAS BEEN WRITTEN FOR YOU\n",
    "\n",
    "dt1 = DecisionTreeRegressor(max_depth = 1, random_state = 20)    # The decision tree model you need to use. Don't change parameters.\n",
    "\n",
    "# START YOUR CODE HERE:\n",
    "tree = dt1.fit(X_train, y_train)\n",
    "prediction1 = tree.predict(X_train)\n",
    "prediction2 = tree.predict(X_test)\n",
    "\n",
    "a1 = mean_squared_error(y_train,prediction1)\n",
    "a2 = mean_squared_error(y_test,prediction2)\n",
    "\n",
    "# END YOUR CODE HERE"
   ]
  },
  {
   "cell_type": "code",
   "execution_count": 5,
   "metadata": {
    "executionInfo": {
     "elapsed": 409,
     "status": "ok",
     "timestamp": 1633194907763,
     "user": {
      "displayName": "SHUBHAM SHANKAR IIT KGP",
      "photoUrl": "https://lh3.googleusercontent.com/a-/AOh14Gg-xyKP8uVCqhXMoBonQBBWCLCTn9A6FmiY7AJ7=s64",
      "userId": "12492927707890580890"
     },
     "user_tz": -330
    },
    "id": "n-ZHWlVsUUtD"
   },
   "outputs": [],
   "source": [
    "# SUBSTITUTE YOUR ANSWER IN PLACE OF None\n",
    "\n",
    "ans[0] = a1\n",
    "ans[1] = a2"
   ]
  },
  {
   "cell_type": "markdown",
   "metadata": {
    "id": "AQETIzFbYdVg"
   },
   "source": [
    "### **QUESTION 2**: Fit a Decision Tree Classifier with max_depth = 2 on the training dataset. Assign the train set mean squared error to ans[2] and the test set mean squared error to ans[3]. (2 marks)"
   ]
  },
  {
   "cell_type": "code",
   "execution_count": 6,
   "metadata": {
    "executionInfo": {
     "elapsed": 1810,
     "status": "ok",
     "timestamp": 1633195047130,
     "user": {
      "displayName": "SHUBHAM SHANKAR IIT KGP",
      "photoUrl": "https://lh3.googleusercontent.com/a-/AOh14Gg-xyKP8uVCqhXMoBonQBBWCLCTn9A6FmiY7AJ7=s64",
      "userId": "12492927707890580890"
     },
     "user_tz": -330
    },
    "id": "84XPnBgaVfWN"
   },
   "outputs": [],
   "source": [
    "# SOME PART OF THE CODE HAS BEEN WRITTEN FOR YOU\n",
    "\n",
    "dt4 = DecisionTreeRegressor(max_depth = 2, random_state = 20)        # The decision tree model you need to use. Don't change parameters.\n",
    "\n",
    "# START YOUR CODE HERE:\n",
    "\n",
    "tree = dt4.fit(X_train, y_train)\n",
    "prediction3 = tree.predict(X_train)\n",
    "prediction4 = tree.predict(X_test)\n",
    "\n",
    "a3 = mean_squared_error(y_train,prediction3)\n",
    "a4 = mean_squared_error(y_test,prediction4)\n",
    "\n",
    "# END YOUR CODE HERE"
   ]
  },
  {
   "cell_type": "code",
   "execution_count": 7,
   "metadata": {
    "executionInfo": {
     "elapsed": 398,
     "status": "ok",
     "timestamp": 1633195160359,
     "user": {
      "displayName": "SHUBHAM SHANKAR IIT KGP",
      "photoUrl": "https://lh3.googleusercontent.com/a-/AOh14Gg-xyKP8uVCqhXMoBonQBBWCLCTn9A6FmiY7AJ7=s64",
      "userId": "12492927707890580890"
     },
     "user_tz": -330
    },
    "id": "ZLy0-ZcVYlXc"
   },
   "outputs": [],
   "source": [
    "# SUBSTITUTE YOUR ANSWER IN PLACE OF None\n",
    "\n",
    "ans[2] = a3\n",
    "ans[3] = a4"
   ]
  },
  {
   "cell_type": "markdown",
   "metadata": {
    "id": "0KDYxndBZLgt"
   },
   "source": [
    "Did the accuracy for test set go down?"
   ]
  },
  {
   "cell_type": "markdown",
   "metadata": {
    "id": "uLBr_PMuY6g_"
   },
   "source": [
    "### **QUESTION 3**: Fit a Decision Tree Classifier with max_depth = 5 on the training dataset. Assign the train set accuracy to ans[4] and the test set accuracy to ans[5]. (2 marks)"
   ]
  },
  {
   "cell_type": "code",
   "execution_count": 8,
   "metadata": {
    "executionInfo": {
     "elapsed": 400,
     "status": "ok",
     "timestamp": 1633195257195,
     "user": {
      "displayName": "SHUBHAM SHANKAR IIT KGP",
      "photoUrl": "https://lh3.googleusercontent.com/a-/AOh14Gg-xyKP8uVCqhXMoBonQBBWCLCTn9A6FmiY7AJ7=s64",
      "userId": "12492927707890580890"
     },
     "user_tz": -330
    },
    "id": "t1Duo-miXzA3"
   },
   "outputs": [],
   "source": [
    "# SOME PART OF THE CODE HAS BEEN WRITTEN FOR YOU\n",
    "\n",
    "dt5 = DecisionTreeRegressor( max_depth = 5, random_state = 20)      # The decision tree that you need to use. Don't change parameters.\n",
    "\n",
    "# START YOUR CODE HERE:\n",
    "\n",
    "tree = dt5.fit(X_train, y_train)\n",
    "prediction5 = tree.predict(X_train)\n",
    "prediction6 = tree.predict(X_test)\n",
    "\n",
    "a5 = mean_squared_error(y_train,prediction5)\n",
    "a6 = mean_squared_error(y_test,prediction6)\n",
    "\n",
    "# END YOUR CODE HERE"
   ]
  },
  {
   "cell_type": "code",
   "execution_count": 9,
   "metadata": {
    "executionInfo": {
     "elapsed": 3,
     "status": "ok",
     "timestamp": 1633195259562,
     "user": {
      "displayName": "SHUBHAM SHANKAR IIT KGP",
      "photoUrl": "https://lh3.googleusercontent.com/a-/AOh14Gg-xyKP8uVCqhXMoBonQBBWCLCTn9A6FmiY7AJ7=s64",
      "userId": "12492927707890580890"
     },
     "user_tz": -330
    },
    "id": "7_2CkxB7X7SM"
   },
   "outputs": [],
   "source": [
    "# SUBSTITUTE YOUR ANSWER IN PLACE OF None\n",
    "\n",
    "ans[4] = a5\n",
    "ans[5] = a6"
   ]
  },
  {
   "cell_type": "markdown",
   "metadata": {
    "id": "neSLl4qBZQCz"
   },
   "source": [
    "Did the accuracy of the test set go down again? If not then why? Is overfitting the reason?\n",
    "\n",
    "### **PLOTTING TRAIN AND TEST ACCURACY VS DEPTH OF TREES**\n",
    "\n",
    "Let's try to plot the train and test accuracy vs max_depth.\n",
    "Some part of the code has been written for you."
   ]
  },
  {
   "cell_type": "markdown",
   "metadata": {
    "id": "TUDfDc8cOzMM"
   },
   "source": [
    "### **QUESTION 4**: Fit a Decision Tree Classifier with max_depth = d where d varies from 1-6 (both inclusive) on the training dataset. Assign the depth for which the test mean squared error is least, to ans[6]. (2 marks)"
   ]
  },
  {
   "cell_type": "code",
   "execution_count": 10,
   "metadata": {
    "executionInfo": {
     "elapsed": 445,
     "status": "ok",
     "timestamp": 1633196104758,
     "user": {
      "displayName": "SHUBHAM SHANKAR IIT KGP",
      "photoUrl": "https://lh3.googleusercontent.com/a-/AOh14Gg-xyKP8uVCqhXMoBonQBBWCLCTn9A6FmiY7AJ7=s64",
      "userId": "12492927707890580890"
     },
     "user_tz": -330
    },
    "id": "EBJQOaaYaSnm"
   },
   "outputs": [],
   "source": [
    "# SOME OF THE CODE HAS BEEN WRITTEN FOR YOU\n",
    "\n",
    "depth = []                               # List containing depth of decision tree.\n",
    "train_mse = []                           # Train accuracy of corresponding tree.\n",
    "test_mse = []                            # Test accuracy of corresponding tree.\n",
    "\n",
    "# Dont forget to set random_state = 10 for your decision tree model.\n",
    "\n",
    "\n",
    "# START YOUR CODE HERE:\n",
    "\n",
    "for i in range(1,7):\n",
    "  dt = DecisionTreeRegressor( max_depth = i, random_state = 10)\n",
    "  tree = dt.fit(X_train, y_train)\n",
    "  prediction1 = tree.predict(X_train)\n",
    "  prediction2 = tree.predict(X_test)\n",
    "  a1 = mean_squared_error(y_train,prediction1)\n",
    "  a2 = mean_squared_error(y_test,prediction2)\n",
    "  depth.append(i+1)\n",
    "  train_mse.append(a1)\n",
    "  test_mse.append(a2)\n",
    "\n",
    "ind = test_mse.index(min(test_mse))\n",
    "# END YOUR CODE HERE"
   ]
  },
  {
   "cell_type": "code",
   "execution_count": 11,
   "metadata": {
    "executionInfo": {
     "elapsed": 5,
     "status": "ok",
     "timestamp": 1633196106476,
     "user": {
      "displayName": "SHUBHAM SHANKAR IIT KGP",
      "photoUrl": "https://lh3.googleusercontent.com/a-/AOh14Gg-xyKP8uVCqhXMoBonQBBWCLCTn9A6FmiY7AJ7=s64",
      "userId": "12492927707890580890"
     },
     "user_tz": -330
    },
    "id": "Xg8YUGWJPbvR"
   },
   "outputs": [],
   "source": [
    "# SUBSTITUTE YOUR ANSWER IN PLACE OF None\n",
    "\n",
    "ans[6] = ind + 1"
   ]
  },
  {
   "cell_type": "markdown",
   "metadata": {
    "id": "B7ZVrzRAg4wN"
   },
   "source": [
    "### PLOTTING MEAN SQUARED ERROR VS THE DEPTH OF THE TREE\n",
    "\n",
    "You can try to plot the train mean squared error and the test mean squared error vs the depth of the tree for gaining a better insight.\n",
    "\n",
    "Some part of the matplotlib code has been written for you."
   ]
  },
  {
   "cell_type": "code",
   "execution_count": 12,
   "metadata": {
    "colab": {
     "base_uri": "https://localhost:8080/",
     "height": 295
    },
    "executionInfo": {
     "elapsed": 731,
     "status": "ok",
     "timestamp": 1633196110697,
     "user": {
      "displayName": "SHUBHAM SHANKAR IIT KGP",
      "photoUrl": "https://lh3.googleusercontent.com/a-/AOh14Gg-xyKP8uVCqhXMoBonQBBWCLCTn9A6FmiY7AJ7=s64",
      "userId": "12492927707890580890"
     },
     "user_tz": -330
    },
    "id": "hTSgVE2Fg0Ng",
    "outputId": "c69a79ea-90ed-4288-bf56-5e883d9909cb"
   },
   "outputs": [
    {
     "data": {
      "image/png": "[encoded data removed]",
      "text/plain": [
       "<Figure size 432x288 with 1 Axes>"
      ]
     },
     "metadata": {
      "needs_background": "light"
     },
     "output_type": "display_data"
    }
   ],
   "source": [
    "plt.plot(depth, train_mse, c = \"r\", label = \"Train Mse\")\n",
    "plt.plot(depth, test_mse, c = \"g\", label = \"Test Mse\")\n",
    "plt.legend()\n",
    "plt.xlim(1)\n",
    "plt.xticks(ticks = [i for i in range(1, 7)])\n",
    "plt.title(\"Mean Squared Error vs Max Depth\")\n",
    "plt.xlabel(\"Max depth of the Decision Tree\")\n",
    "plt.ylabel(\"Mean Squared Error\")\n",
    "plt.show()"
   ]
  },
  {
   "cell_type": "markdown",
   "metadata": {
    "id": "3K2FbfaUhWWP"
   },
   "source": [
    "## **PRUNING**\n",
    "\n",
    "We will look at one way to prune a decision tree."
   ]
  },
  {
   "cell_type": "markdown",
   "metadata": {
    "id": "K4mfNIRURc4A"
   },
   "source": [
    "## USING SKLEARN'S INBUILT PRUNING ALGORITHM\n",
    "We will use a inbuilt parameter in the sklearn Decision Tree Regressor model called ccp_alpha to prune the Decision Trees formed.\n",
    "\n",
    "**Minimal Cost Complexity Pruning**: One of the types of pruning in Decision Trees. \n",
    "\n",
    "It utilises a complexity parameter **alpha** (alpha > 0). It is used to define a cost complexity measure of a tree as:-\n",
    "\n",
    "$R_{alpha}(T) = R(T) + alpha*|T|$ where |T| are the number of terminal nodes in the tree, R(T) is the misclassification rate of the terminal nodes (a mean squared error type of quantity for regression and accuracy type of quantity for classification).\n",
    "\n",
    "R(T) as you must have noticed always favours bigger trees as their misclassification rate would be always lower (remember we are talking about training set misclassification rate). So to penalise the bigger ones alpha*|T| term is added as it would favour a smaller tree.\n",
    "\n",
    "alpha is what we call a hyperparameter. We need to find the best values of alpha to decrease the test set mean squared error.\n",
    "\n"
   ]
  },
  {
   "cell_type": "markdown",
   "metadata": {
    "id": "nRW7nb5pR1Qb"
   },
   "source": [
    "### **QUESTION 5**: For which values of alpha (a) 10 (b) 50 (c) 100 (d) 200 is the test mean squared error the lowest? (We will use a tree with max_depth = 4). Assign your answer (the value of alpha and not the option) to ans[7]. (3 marks)\n",
    " "
   ]
  },
  {
   "cell_type": "code",
   "execution_count": 13,
   "metadata": {
    "executionInfo": {
     "elapsed": 382,
     "status": "ok",
     "timestamp": 1633196479775,
     "user": {
      "displayName": "SHUBHAM SHANKAR IIT KGP",
      "photoUrl": "https://lh3.googleusercontent.com/a-/AOh14Gg-xyKP8uVCqhXMoBonQBBWCLCTn9A6FmiY7AJ7=s64",
      "userId": "12492927707890580890"
     },
     "user_tz": -330
    },
    "id": "ThCkE11IcOSs"
   },
   "outputs": [],
   "source": [
    "# SOME OF THE MATPLOTLIB CODE HAS BEEN WRITTEN FOR YOU\n",
    "\n",
    "train_mse = []                           # Train accuracy of corresponding tree.\n",
    "test_mse = []                            # Test accuracy of corresponding tree.\n",
    "alphas = [10, 50, 100, 200]\n",
    "\n",
    "# KEEP ALL PARAMETERS OTHER THAN ccp_alpha the same. REPLACE None WITH THE GIVEN VALUES OF ALPHA BEFORE FITTING ON THE TRAIN SET.\n",
    "#dt_temp = DecisionTreeRegressor(max_depth = 4, random_state = 10, ccp_alpha = None)\n",
    "\n",
    "# START YOUR CODE HERE\n",
    "\n",
    "for i in alphas:\n",
    "  dt_temp = DecisionTreeRegressor(max_depth = 4, random_state = 10, ccp_alpha = i)\n",
    "  tree = dt_temp.fit(X_train, y_train)\n",
    "  prediction1 = tree.predict(X_train)\n",
    "  prediction2 = tree.predict(X_test)\n",
    "  a1 = mean_squared_error(y_train,prediction1)\n",
    "  a2 = mean_squared_error(y_test,prediction2)\n",
    "  depth.append(i+1)\n",
    "  train_mse.append(a1)\n",
    "  test_mse.append(a2)\n",
    "\n",
    "ind = test_mse.index(min(test_mse))\n",
    "val = alphas[ind]\n",
    "\n",
    "# END YOUR CODE HERE"
   ]
  },
  {
   "cell_type": "code",
   "execution_count": 14,
   "metadata": {
    "executionInfo": {
     "elapsed": 686,
     "status": "ok",
     "timestamp": 1633196483347,
     "user": {
      "displayName": "SHUBHAM SHANKAR IIT KGP",
      "photoUrl": "https://lh3.googleusercontent.com/a-/AOh14Gg-xyKP8uVCqhXMoBonQBBWCLCTn9A6FmiY7AJ7=s64",
      "userId": "12492927707890580890"
     },
     "user_tz": -330
    },
    "id": "wMZ6A42BFHZz"
   },
   "outputs": [],
   "source": [
    "# SUBSTITUTE YOUR ANSWER IN PLACE OF None\n",
    "\n",
    "ans[7] = val"
   ]
  },
  {
   "cell_type": "code",
   "execution_count": 15,
   "metadata": {
    "colab": {
     "base_uri": "https://localhost:8080/"
    },
    "executionInfo": {
     "elapsed": 390,
     "status": "ok",
     "timestamp": 1633196504070,
     "user": {
      "displayName": "SHUBHAM SHANKAR IIT KGP",
      "photoUrl": "https://lh3.googleusercontent.com/a-/AOh14Gg-xyKP8uVCqhXMoBonQBBWCLCTn9A6FmiY7AJ7=s64",
      "userId": "12492927707890580890"
     },
     "user_tz": -330
    },
    "id": "6fc-be35GKxl",
    "outputId": "c59524da-e210-43f3-9d94-187aa3873c0e"
   },
   "outputs": [
    {
     "name": "stdout",
     "output_type": "stream",
     "text": [
      "ans[0] : 4327.119510681643\n",
      "ans[1] : 3974.3411198764256\n",
      "ans[2] : 3459.000928662067\n",
      "ans[3] : 3522.558075122498\n",
      "ans[4] : 2140.8850843411747\n",
      "ans[5] : 3623.1734830082787\n",
      "ans[6] : 2\n",
      "ans[7] : 100\n"
     ]
    }
   ],
   "source": [
    "for i in range(0,8):\n",
    "  s = ''\n",
    "  s = s + 'ans[' + str(i) + ']' + \" : \" + str(ans[i])\n",
    "  print(s)"
   ]
  },
  {
   "cell_type": "code",
   "execution_count": 16,
   "metadata": {
    "id": "XJDaRfrJeWaF"
   },
   "outputs": [],
   "source": [
    "import json\n",
    "ans = [str(item) for item in ans]\n",
    "\n",
    "filename = \"group5_Aryan_Singh_Issues_Classification\"\n",
    "\n",
    "# Eg if your name is Saurav Joshi and group id is 0, filename becomes\n",
    "# filename = group0_Saurav_Joshi_Issues_Classification"
   ]
  },
  {
   "cell_type": "markdown",
   "metadata": {
    "id": "F8ltfHSHNk8b"
   },
   "source": [
    "## Do not change anything below!!\n",
    "- Make sure you have changed the above variable \"filename\" with the correct value. Do not change anything below!!\""
   ]
  },
  {
   "cell_type": "code",
   "execution_count": 17,
   "metadata": {
    "id": "zj63no1wc7jY"
   },
   "outputs": [
    {
     "ename": "ModuleNotFoundError",
     "evalue": "No module named 'findScore'",
     "output_type": "error",
     "traceback": [
      "\u001b[1;31m---------------------------------------------------------------------------\u001b[0m",
      "\u001b[1;31mModuleNotFoundError\u001b[0m                       Traceback (most recent call last)",
      "\u001b[1;32m<ipython-input-17-0a1891ccbb16>\u001b[0m in \u001b[0;36m<module>\u001b[1;34m\u001b[0m\n\u001b[0;32m      3\u001b[0m \u001b[1;32mfrom\u001b[0m \u001b[0mpprint\u001b[0m \u001b[1;32mimport\u001b[0m \u001b[0mpprint\u001b[0m\u001b[1;33m\u001b[0m\u001b[1;33m\u001b[0m\u001b[0m\n\u001b[0;32m      4\u001b[0m \u001b[1;33m\u001b[0m\u001b[0m\n\u001b[1;32m----> 5\u001b[1;33m \u001b[0mfindScore\u001b[0m \u001b[1;33m=\u001b[0m \u001b[0mimport_module\u001b[0m\u001b[1;33m(\u001b[0m\u001b[1;34m'findScore'\u001b[0m\u001b[1;33m)\u001b[0m\u001b[1;33m\u001b[0m\u001b[1;33m\u001b[0m\u001b[0m\n\u001b[0m\u001b[0;32m      6\u001b[0m \u001b[0mresponse\u001b[0m \u001b[1;33m=\u001b[0m \u001b[0mfindScore\u001b[0m\u001b[1;33m.\u001b[0m\u001b[0mmain\u001b[0m\u001b[1;33m(\u001b[0m\u001b[0mans\u001b[0m\u001b[1;33m)\u001b[0m\u001b[1;33m\u001b[0m\u001b[1;33m\u001b[0m\u001b[0m\n\u001b[0;32m      7\u001b[0m \u001b[0mresponse\u001b[0m\u001b[1;33m[\u001b[0m\u001b[1;34m'details'\u001b[0m\u001b[1;33m]\u001b[0m \u001b[1;33m=\u001b[0m \u001b[0mfilename\u001b[0m\u001b[1;33m\u001b[0m\u001b[1;33m\u001b[0m\u001b[0m\n",
      "\u001b[1;32m~\\anaconda3\\lib\\importlib\\__init__.py\u001b[0m in \u001b[0;36mimport_module\u001b[1;34m(name, package)\u001b[0m\n\u001b[0;32m    125\u001b[0m                 \u001b[1;32mbreak\u001b[0m\u001b[1;33m\u001b[0m\u001b[1;33m\u001b[0m\u001b[0m\n\u001b[0;32m    126\u001b[0m             \u001b[0mlevel\u001b[0m \u001b[1;33m+=\u001b[0m \u001b[1;36m1\u001b[0m\u001b[1;33m\u001b[0m\u001b[1;33m\u001b[0m\u001b[0m\n\u001b[1;32m--> 127\u001b[1;33m     \u001b[1;32mreturn\u001b[0m \u001b[0m_bootstrap\u001b[0m\u001b[1;33m.\u001b[0m\u001b[0m_gcd_import\u001b[0m\u001b[1;33m(\u001b[0m\u001b[0mname\u001b[0m\u001b[1;33m[\u001b[0m\u001b[0mlevel\u001b[0m\u001b[1;33m:\u001b[0m\u001b[1;33m]\u001b[0m\u001b[1;33m,\u001b[0m \u001b[0mpackage\u001b[0m\u001b[1;33m,\u001b[0m \u001b[0mlevel\u001b[0m\u001b[1;33m)\u001b[0m\u001b[1;33m\u001b[0m\u001b[1;33m\u001b[0m\u001b[0m\n\u001b[0m\u001b[0;32m    128\u001b[0m \u001b[1;33m\u001b[0m\u001b[0m\n\u001b[0;32m    129\u001b[0m \u001b[1;33m\u001b[0m\u001b[0m\n",
      "\u001b[1;32m~\\anaconda3\\lib\\importlib\\_bootstrap.py\u001b[0m in \u001b[0;36m_gcd_import\u001b[1;34m(name, package, level)\u001b[0m\n",
      "\u001b[1;32m~\\anaconda3\\lib\\importlib\\_bootstrap.py\u001b[0m in \u001b[0;36m_find_and_load\u001b[1;34m(name, import_)\u001b[0m\n",
      "\u001b[1;32m~\\anaconda3\\lib\\importlib\\_bootstrap.py\u001b[0m in \u001b[0;36m_find_and_load_unlocked\u001b[1;34m(name, import_)\u001b[0m\n",
      "\u001b[1;31mModuleNotFoundError\u001b[0m: No module named 'findScore'"
     ]
    }
   ],
   "source": [
    "from importlib import import_module\n",
    "import os\n",
    "from pprint import pprint\n",
    "\n",
    "findScore = import_module('findScore')\n",
    "response = findScore.main(ans)\n",
    "response['details'] = filename\n",
    "with open(f'evaluation_{filename}.json', 'w') as outfile:\n",
    "    json.dump(response, outfile)\n",
    "pprint(response)"
   ]
  }
 ],
 "metadata": {
  "colab": {
   "collapsed_sections": [],
   "name": "group0_Saurav_Joshi_Issues_Classification (1).ipynb",
   "provenance": []
  },
  "kernelspec": {
   "display_name": "Python 3",
   "language": "python",
   "name": "python3"
  },
  "language_info": {
   "codemirror_mode": {
    "name": "ipython",
    "version": 3
   },
   "file_extension": ".py",
   "mimetype": "text/x-python",
   "name": "python",
   "nbconvert_exporter": "python",
   "pygments_lexer": "ipython3",
   "version": "3.7.6"
  }
 },
 "nbformat": 4,
 "nbformat_minor": 1
}
